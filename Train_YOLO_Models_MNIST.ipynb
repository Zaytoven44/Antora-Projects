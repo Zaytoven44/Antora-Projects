{
  "cells": [
    {
      "cell_type": "markdown",
      "metadata": {
        "id": "view-in-github",
        "colab_type": "text"
      },
      "source": [
        "<a href=\"https://colab.research.google.com/github/Zaytoven44/Antora-Projects/blob/main/Train_YOLO_Models_MNIST.ipynb\" target=\"_parent\"><img src=\"https://colab.research.google.com/assets/colab-badge.svg\" alt=\"Open In Colab\"/></a>"
      ]
    },
    {
      "cell_type": "markdown",
      "metadata": {
        "id": "1sUfcA8ZgR2t"
      },
      "source": [
        "# Train YOLO Models in Google Colab\n",
        "**Author:** Evan Juras, [EJ Technology Consultants](https://ejtech.io)\n",
        "\n",
        "**Last updated:** January 3, 2025\n",
        "\n",
        "**GitHub:** [Train and Deploy YOLO Models](https://github.com/EdjeElectronics/Train-and-Deploy-YOLO-Models)\n",
        "\n",
        "# Introduction\n",
        "\n",
        "This notebook uses [Ultralytics](https://docs.ultralytics.com/) to train YOLO11, YOLOv8, or YOLOv5 object detection models with a custom dataset. At the end of this Colab, you'll have a custom YOLO model that you can run on your PC, phone, or edge device like the Raspberry Pi.\n",
        "\n",
        "<p align=center>\n",
        "<img src=\"https://s3.us-west-1.amazonaws.com/evanjuras.com/img/yolo-model-demo.gif\" height=\"360\"><br>\n",
        "<i>Custom YOLO candy detection model in action!</i>\n",
        "</p>\n",
        "\n",
        "I created a YouTube video that walks through this guide step by step. I recommend following along with the video while working through this notebook.\n",
        "\n",
        "<p align=center>\n",
        "<a href=\"https://youtu.be/r0RspiLG260\" target=\"_blank\"><img src=\"https://raw.githubusercontent.com/EdjeElectronics/Train-and-Deploy-YOLO-Models/refs/heads/main/doc/Train_YOLO_Thumbnail2.png\" height=\"240\"><br>\n",
        "<i>Click here to go to the video!</i></a>\n",
        "</p>\n",
        "\n",
        "**Important note: This notebook will be continuously updated to make sure it works with newer versions of Ultralytics and YOLO. If you see any differences between the YouTube video and this notebook, always follow the notebook!**\n",
        "\n",
        "### Working in Colab\n",
        "Colab provides a virtual machine in your browser complete with a Linux OS, filesystem, Python environment, and best of all, a free GPU. We'll install PyTorch and Ultralytics in this environment and use it to train our model. Simply click the Play button on sections of code in this notebook to execute them on the virtual machine.\n",
        "\n",
        "### Navigation\n",
        "To navigate this notebook, use the table of contents in the left sidebar to jump from section to section.\n",
        "\n",
        "\n",
        "\n"
      ]
    },
    {
      "cell_type": "markdown",
      "source": [
        "**Verify NVIDIA GPU Availability**\n",
        "\n",
        "Make sure you're using a GPU-equipped machine by going to \"Runtime\" -> \"Change runtime type\" in the top menu bar, and then selecting one of the GPU options in the Hardware accelerator section. Click Play on the following code block to verify that the NVIDIA GPU is present and ready for training."
      ],
      "metadata": {
        "id": "3NW7LLv_QPOO"
      }
    },
    {
      "cell_type": "code",
      "source": [
        "!nvidia-smi"
      ],
      "metadata": {
        "id": "cfaWho47RGDf",
        "outputId": "e59a3687-271d-4f87-d40a-b306b2402717",
        "colab": {
          "base_uri": "https://localhost:8080/"
        }
      },
      "execution_count": 1,
      "outputs": [
        {
          "output_type": "stream",
          "name": "stdout",
          "text": [
            "Mon Jun  2 18:00:46 2025       \n",
            "+-----------------------------------------------------------------------------------------+\n",
            "| NVIDIA-SMI 550.54.15              Driver Version: 550.54.15      CUDA Version: 12.4     |\n",
            "|-----------------------------------------+------------------------+----------------------+\n",
            "| GPU  Name                 Persistence-M | Bus-Id          Disp.A | Volatile Uncorr. ECC |\n",
            "| Fan  Temp   Perf          Pwr:Usage/Cap |           Memory-Usage | GPU-Util  Compute M. |\n",
            "|                                         |                        |               MIG M. |\n",
            "|=========================================+========================+======================|\n",
            "|   0  Tesla T4                       Off |   00000000:00:04.0 Off |                    0 |\n",
            "| N/A   44C    P8              9W /   70W |       0MiB /  15360MiB |      0%      Default |\n",
            "|                                         |                        |                  N/A |\n",
            "+-----------------------------------------+------------------------+----------------------+\n",
            "                                                                                         \n",
            "+-----------------------------------------------------------------------------------------+\n",
            "| Processes:                                                                              |\n",
            "|  GPU   GI   CI        PID   Type   Process name                              GPU Memory |\n",
            "|        ID   ID                                                               Usage      |\n",
            "|=========================================================================================|\n",
            "|  No running processes found                                                             |\n",
            "+-----------------------------------------------------------------------------------------+\n"
          ]
        }
      ]
    },
    {
      "cell_type": "markdown",
      "metadata": {
        "id": "TIHu25pnjjJ1"
      },
      "source": [
        "#1.&nbsp;Gather and Label Training Images"
      ]
    },
    {
      "cell_type": "markdown",
      "metadata": {
        "id": "O6Y1vBiRjpcq"
      },
      "source": [
        "Before we start training, we need to gather and label images that will be used for training the object detection model. A good starting point for a proof-of-concept model is 200 images. The training images should have random objects in the image along with the desired objects, and should have a variety of backgrounds and lighting conditions.\n",
        "\n",
        "There are a couple options for gathering images:\n",
        "\n",
        "\n",
        "*   Build a custom dataset by taking your own pictures of the objects and labeling them (this typically results in the best performance)\n",
        "*   Find a pre-made dataset from sources like [Roboflow Universe](), [Kaggle](), or [Google Images V7]()\n",
        "\n",
        "\n",
        "If you want to build your own dataset, there are several tools available for labeling images. One good option is [Label Studio](https://labelstud.io/?utm_source=youtube&utm_medium=video&utm_campaign=edjeelectronics), a free and open-source labeling tool that has a simple workflow while providing capabilities for more advanced features. My YouTube video that walks through this notebook (link to be added soon) shows how to label images with Label Studio.\n",
        "\n",
        "<p align=center>\n",
        "<img src=\"https://raw.githubusercontent.com/EdjeElectronics/Train-and-Deploy-YOLO-Models/refs/heads/main/doc/label-studio-example.PNG\" height=\"380\"><br>\n",
        "<i>Example of a candy image labeled with Label Studio.</i>\n",
        "</p>\n",
        "\n",
        "If you used Label Studio to label and export the images, they'll be exported in a `project.zip` file that contains the following:\n",
        "\n",
        "- An `images` folder containing the images\n",
        "- A `labels` folder containing the labels in YOLO annotation format\n",
        "- A `classes.txt` labelmap file that contains all the classes\n",
        "- A `notes.json` file that contains info specific to Label Studio (this file can be ignored)\n",
        "\n",
        "If you obtained your dataset from another source (like Roboflow Universe) or used another tool to label your dataset, make sure the files are organized in the same folder structure.\n",
        "\n",
        "<p align=center>\n",
        "<img src=\"https://raw.githubusercontent.com/EdjeElectronics/Train-and-Deploy-YOLO-Models/refs/heads/main/doc/zipped-data-example.png\" height=\"\"><br>\n",
        "<i>Organize your data in the folders shown here. See my <a href=\"https://s3.us-west-1.amazonaws.com/evanjuras.com/resources/candy_data_06JAN25.zip\">Candy Detection Dataset</a> for an example.</i>\n",
        "</p>\n",
        "\n",
        "Once you've got your dataset built, put into the file structure shown above, and zipped into `data.zip`, you're ready to move on to the next step."
      ]
    },
    {
      "cell_type": "markdown",
      "metadata": {
        "id": "8eDhuvzDfIFS"
      },
      "source": [
        "# 2.&nbsp;Upload Image Dataset and Prepare Training Data"
      ]
    },
    {
      "cell_type": "markdown",
      "metadata": {
        "id": "ZW_0c110fOiz"
      },
      "source": [
        "Next, we'll upload our dataset and prepare it for training with YOLO. We'll split the dataset into train and validation folders, and we'll automatically generate the configuration file for training the model."
      ]
    },
    {
      "cell_type": "markdown",
      "source": [
        "## 2.1 Upload images\n",
        "\n",
        "First, we need to upload the dataset to Colab. Here are a few options for moving the `data.zip` folder into this Colab instance."
      ],
      "metadata": {
        "id": "FwKAqFIQSBpn"
      }
    },
    {
      "cell_type": "markdown",
      "source": [
        "**Option 1. Upload through Google Colab**\n",
        "\n",
        "Upload the `data.zip` file to the Google Colab instance by clicking the \"Files\" icon on the left hand side of the browser, and then the \"Upload to session storage\" icon. Select the zip folder to upload it.\n",
        "\n",
        "<p>\n",
        "<br>\n",
        "<img src=\"https://raw.githubusercontent.com/EdjeElectronics/Train-and-Deploy-YOLO-Models/refs/heads/main/doc/upload-colab-files.png\" height=\"240\">\n",
        "</p>\n"
      ],
      "metadata": {
        "id": "ZPZEM27IOh79"
      }
    },
    {
      "cell_type": "markdown",
      "source": [
        "\n",
        "**Option 2. Copy from Google Drive**\n",
        "\n",
        "You can also upload your images to your personal Google Drive, mount the drive on this Colab session, and copy them over to the Colab filesystem. This option works well if you want to upload the images beforehand so you don't have to wait for them to upload each time you restart this Colab. If you have more than 50MB worth of images, I recommend using this option.\n",
        "\n",
        "First, upload the `data.zip` file to your Google Drive, and make note of the folder you uploaded them to. Replace `MyDrive/path/to/data.zip` with the path to your zip file. (For example, I uploaded the zip file to folder called \"candy-dataset1\", so I would use `MyDrive/candy-dataset1/data.zip` for the path). Then, run the following block of code to mount your Google Drive to this Colab session and copy the folder to this filesystem."
      ],
      "metadata": {
        "id": "TC4bZM1UWRdY"
      }
    },
    {
      "cell_type": "code",
      "source": [
        "from google.colab import drive\n",
        "drive.mount('/content/gdrive')\n",
        "\n",
        "!cp /content/gdrive/MyDrive/path/to/data.zip /content"
      ],
      "metadata": {
        "id": "ZfQBSwDdWoWp"
      },
      "execution_count": null,
      "outputs": []
    },
    {
      "cell_type": "markdown",
      "source": [
        "**Option 3. Use my candy detection or coin detection dataset**\n",
        "\n",
        "If you just want to test the process on a pre-made dataset, you can use one of my datasets:\n",
        "\n",
        "*   [Candy image dataset](https://s3.us-west-1.amazonaws.com/evanjuras.com/resources/candy_data_14DEC24.zip), which contains 162 pictures of popular candies (Skittles, Snickers, etc)\n",
        "*   [Coin image dataset](https://s3.us-west-1.amazonaws.com/evanjuras.com/resources/YOLO_coin_data_12DEC30.zip), which contains 750 pictures of US coins (pennies, dimes, nickels, and quarters)\n",
        "\n",
        "Download one of the datasets by running the following code block. I'll use the candy detection dataset as the example for the rest of the notebook."
      ],
      "metadata": {
        "id": "q43_b9-sWsdB"
      }
    },
    {
      "cell_type": "code",
      "execution_count": null,
      "metadata": {
        "id": "ZQXLBvL5grDl"
      },
      "outputs": [],
      "source": [
        "# To use my one of pre-made dataset instead of your own custom dataset, download it here (control which dataset is downloaded by commenting out either line)\n",
        "!wget -O /content/data.zip https://s3.us-west-1.amazonaws.com/evanjuras.com/resources/candy_data_06JAN25.zip # Candy dataset\n",
        "#!wget -O /content/data.zip https://s3.us-west-1.amazonaws.com/evanjuras.com/resources/YOLO_coin_data_12DEC30.zip # Coin dataset"
      ]
    },
    {
      "cell_type": "markdown",
      "source": [
        "## 2.2 Split images into train and validation folders"
      ],
      "metadata": {
        "id": "m7Iz9eBzW5zm"
      }
    },
    {
      "cell_type": "markdown",
      "source": [
        "At this point, whether you used Option 1, 2, or 3, you should be able to click the folder icon on the left and see your `data.zip` file in the list of files. Next, we'll unzip `data.zip` and create some folders to hold the images. Run the following code block to unzip the data."
      ],
      "metadata": {
        "id": "58JuFGc2PatU"
      }
    },
    {
      "cell_type": "code",
      "execution_count": 3,
      "metadata": {
        "id": "z8O6z-wVcPEF"
      },
      "outputs": [],
      "source": [
        "# Unzip images to a custom data folder\n",
        "!unzip -q /content/data.zip -d /content/custom_data"
      ]
    },
    {
      "cell_type": "markdown",
      "source": [
        "Ultralytics requires a particular folder structure to store training data for models. Ultralytics requires a particular folder structure to store training data for models. The root folder is named “data”. Inside, there are two main folders:\n",
        "\n",
        "*   **Train**: These are the actual images used to train the model. In one epoch of training, every image in the train set is passed into the neural network. The training algorithm adjusts the network weights to fit the data in the images.\n",
        "\n",
        "\n",
        "*   **Validation**: These images are used to check the model's performance at the end of each training epoch.\n",
        "\n",
        "In each of these folders is a “images” folder and a “labels” folder, which hold the image files and annotation files respectively."
      ],
      "metadata": {
        "id": "eoPjqW6AYebn"
      }
    },
    {
      "cell_type": "markdown",
      "source": [
        "\n",
        "I wrote a Python script that will automatically create the required folder structure and randomly move 90% of dataset to the \"train\" folder and 10% to the \"validation\" folder. Run the following code block to download and execute the scrpt."
      ],
      "metadata": {
        "id": "f2ohNAhWj41n"
      }
    },
    {
      "cell_type": "code",
      "source": [
        "!wget -O /content/train_val_split.py https://raw.githubusercontent.com/EdjeElectronics/Train-and-Deploy-YOLO-Models/refs/heads/main/utils/train_val_split.py\n",
        "\n",
        "# TO DO: Improve robustness of train_val_split.py script so it can handle nested data folders, etc\n",
        "!python train_val_split.py --datapath=\"/content/custom_data\" --train_pct=0.9"
      ],
      "metadata": {
        "id": "8X62eFTugosf",
        "outputId": "4a1115fa-3a1d-4b7c-a8ea-64747f4e9715",
        "colab": {
          "base_uri": "https://localhost:8080/"
        }
      },
      "execution_count": 4,
      "outputs": [
        {
          "output_type": "stream",
          "name": "stdout",
          "text": [
            "--2025-06-02 18:03:29--  https://raw.githubusercontent.com/EdjeElectronics/Train-and-Deploy-YOLO-Models/refs/heads/main/utils/train_val_split.py\n",
            "Resolving raw.githubusercontent.com (raw.githubusercontent.com)... 185.199.108.133, 185.199.109.133, 185.199.110.133, ...\n",
            "Connecting to raw.githubusercontent.com (raw.githubusercontent.com)|185.199.108.133|:443... connected.\n",
            "HTTP request sent, awaiting response... 200 OK\n",
            "Length: 3203 (3.1K) [text/plain]\n",
            "Saving to: ‘/content/train_val_split.py’\n",
            "\n",
            "/content/train_val_ 100%[===================>]   3.13K  --.-KB/s    in 0s      \n",
            "\n",
            "2025-06-02 18:03:29 (42.8 MB/s) - ‘/content/train_val_split.py’ saved [3203/3203]\n",
            "\n",
            "Created folder at /content/data/train/images.\n",
            "Created folder at /content/data/train/labels.\n",
            "Created folder at /content/data/validation/images.\n",
            "Created folder at /content/data/validation/labels.\n",
            "Number of image files: 10000\n",
            "Number of annotation files: 10000\n",
            "Images moving to train: 9000\n",
            "Images moving to validation: 1000\n"
          ]
        }
      ]
    },
    {
      "cell_type": "markdown",
      "source": [
        "# 3.&nbsp;Install Requirements (Ultralytics)\n",
        "\n",
        "Next, we'll install the Ultralytics library in this Google Colab instance. This Python library will be used to train the YOLO model."
      ],
      "metadata": {
        "id": "B2L2qGCJzwY9"
      }
    },
    {
      "cell_type": "code",
      "source": [
        "!pip install ultralytics"
      ],
      "metadata": {
        "id": "EMEDk5byzxY5",
        "outputId": "f71d7592-aa35-4bc3-856d-5644b6a2ff43",
        "colab": {
          "base_uri": "https://localhost:8080/"
        }
      },
      "execution_count": 2,
      "outputs": [
        {
          "output_type": "stream",
          "name": "stdout",
          "text": [
            "Collecting ultralytics\n",
            "  Downloading ultralytics-8.3.147-py3-none-any.whl.metadata (37 kB)\n",
            "Requirement already satisfied: numpy>=1.23.0 in /usr/local/lib/python3.11/dist-packages (from ultralytics) (2.0.2)\n",
            "Requirement already satisfied: matplotlib>=3.3.0 in /usr/local/lib/python3.11/dist-packages (from ultralytics) (3.10.0)\n",
            "Requirement already satisfied: opencv-python>=4.6.0 in /usr/local/lib/python3.11/dist-packages (from ultralytics) (4.11.0.86)\n",
            "Requirement already satisfied: pillow>=7.1.2 in /usr/local/lib/python3.11/dist-packages (from ultralytics) (11.2.1)\n",
            "Requirement already satisfied: pyyaml>=5.3.1 in /usr/local/lib/python3.11/dist-packages (from ultralytics) (6.0.2)\n",
            "Requirement already satisfied: requests>=2.23.0 in /usr/local/lib/python3.11/dist-packages (from ultralytics) (2.32.3)\n",
            "Requirement already satisfied: scipy>=1.4.1 in /usr/local/lib/python3.11/dist-packages (from ultralytics) (1.15.3)\n",
            "Requirement already satisfied: torch>=1.8.0 in /usr/local/lib/python3.11/dist-packages (from ultralytics) (2.6.0+cu124)\n",
            "Requirement already satisfied: torchvision>=0.9.0 in /usr/local/lib/python3.11/dist-packages (from ultralytics) (0.21.0+cu124)\n",
            "Requirement already satisfied: tqdm>=4.64.0 in /usr/local/lib/python3.11/dist-packages (from ultralytics) (4.67.1)\n",
            "Requirement already satisfied: psutil in /usr/local/lib/python3.11/dist-packages (from ultralytics) (5.9.5)\n",
            "Requirement already satisfied: py-cpuinfo in /usr/local/lib/python3.11/dist-packages (from ultralytics) (9.0.0)\n",
            "Requirement already satisfied: pandas>=1.1.4 in /usr/local/lib/python3.11/dist-packages (from ultralytics) (2.2.2)\n",
            "Collecting ultralytics-thop>=2.0.0 (from ultralytics)\n",
            "  Downloading ultralytics_thop-2.0.14-py3-none-any.whl.metadata (9.4 kB)\n",
            "Requirement already satisfied: contourpy>=1.0.1 in /usr/local/lib/python3.11/dist-packages (from matplotlib>=3.3.0->ultralytics) (1.3.2)\n",
            "Requirement already satisfied: cycler>=0.10 in /usr/local/lib/python3.11/dist-packages (from matplotlib>=3.3.0->ultralytics) (0.12.1)\n",
            "Requirement already satisfied: fonttools>=4.22.0 in /usr/local/lib/python3.11/dist-packages (from matplotlib>=3.3.0->ultralytics) (4.58.0)\n",
            "Requirement already satisfied: kiwisolver>=1.3.1 in /usr/local/lib/python3.11/dist-packages (from matplotlib>=3.3.0->ultralytics) (1.4.8)\n",
            "Requirement already satisfied: packaging>=20.0 in /usr/local/lib/python3.11/dist-packages (from matplotlib>=3.3.0->ultralytics) (24.2)\n",
            "Requirement already satisfied: pyparsing>=2.3.1 in /usr/local/lib/python3.11/dist-packages (from matplotlib>=3.3.0->ultralytics) (3.2.3)\n",
            "Requirement already satisfied: python-dateutil>=2.7 in /usr/local/lib/python3.11/dist-packages (from matplotlib>=3.3.0->ultralytics) (2.9.0.post0)\n",
            "Requirement already satisfied: pytz>=2020.1 in /usr/local/lib/python3.11/dist-packages (from pandas>=1.1.4->ultralytics) (2025.2)\n",
            "Requirement already satisfied: tzdata>=2022.7 in /usr/local/lib/python3.11/dist-packages (from pandas>=1.1.4->ultralytics) (2025.2)\n",
            "Requirement already satisfied: charset-normalizer<4,>=2 in /usr/local/lib/python3.11/dist-packages (from requests>=2.23.0->ultralytics) (3.4.2)\n",
            "Requirement already satisfied: idna<4,>=2.5 in /usr/local/lib/python3.11/dist-packages (from requests>=2.23.0->ultralytics) (3.10)\n",
            "Requirement already satisfied: urllib3<3,>=1.21.1 in /usr/local/lib/python3.11/dist-packages (from requests>=2.23.0->ultralytics) (2.4.0)\n",
            "Requirement already satisfied: certifi>=2017.4.17 in /usr/local/lib/python3.11/dist-packages (from requests>=2.23.0->ultralytics) (2025.4.26)\n",
            "Requirement already satisfied: filelock in /usr/local/lib/python3.11/dist-packages (from torch>=1.8.0->ultralytics) (3.18.0)\n",
            "Requirement already satisfied: typing-extensions>=4.10.0 in /usr/local/lib/python3.11/dist-packages (from torch>=1.8.0->ultralytics) (4.13.2)\n",
            "Requirement already satisfied: networkx in /usr/local/lib/python3.11/dist-packages (from torch>=1.8.0->ultralytics) (3.4.2)\n",
            "Requirement already satisfied: jinja2 in /usr/local/lib/python3.11/dist-packages (from torch>=1.8.0->ultralytics) (3.1.6)\n",
            "Requirement already satisfied: fsspec in /usr/local/lib/python3.11/dist-packages (from torch>=1.8.0->ultralytics) (2025.3.2)\n",
            "Collecting nvidia-cuda-nvrtc-cu12==12.4.127 (from torch>=1.8.0->ultralytics)\n",
            "  Downloading nvidia_cuda_nvrtc_cu12-12.4.127-py3-none-manylinux2014_x86_64.whl.metadata (1.5 kB)\n",
            "Collecting nvidia-cuda-runtime-cu12==12.4.127 (from torch>=1.8.0->ultralytics)\n",
            "  Downloading nvidia_cuda_runtime_cu12-12.4.127-py3-none-manylinux2014_x86_64.whl.metadata (1.5 kB)\n",
            "Collecting nvidia-cuda-cupti-cu12==12.4.127 (from torch>=1.8.0->ultralytics)\n",
            "  Downloading nvidia_cuda_cupti_cu12-12.4.127-py3-none-manylinux2014_x86_64.whl.metadata (1.6 kB)\n",
            "Collecting nvidia-cudnn-cu12==9.1.0.70 (from torch>=1.8.0->ultralytics)\n",
            "  Downloading nvidia_cudnn_cu12-9.1.0.70-py3-none-manylinux2014_x86_64.whl.metadata (1.6 kB)\n",
            "Collecting nvidia-cublas-cu12==12.4.5.8 (from torch>=1.8.0->ultralytics)\n",
            "  Downloading nvidia_cublas_cu12-12.4.5.8-py3-none-manylinux2014_x86_64.whl.metadata (1.5 kB)\n",
            "Collecting nvidia-cufft-cu12==11.2.1.3 (from torch>=1.8.0->ultralytics)\n",
            "  Downloading nvidia_cufft_cu12-11.2.1.3-py3-none-manylinux2014_x86_64.whl.metadata (1.5 kB)\n",
            "Collecting nvidia-curand-cu12==10.3.5.147 (from torch>=1.8.0->ultralytics)\n",
            "  Downloading nvidia_curand_cu12-10.3.5.147-py3-none-manylinux2014_x86_64.whl.metadata (1.5 kB)\n",
            "Collecting nvidia-cusolver-cu12==11.6.1.9 (from torch>=1.8.0->ultralytics)\n",
            "  Downloading nvidia_cusolver_cu12-11.6.1.9-py3-none-manylinux2014_x86_64.whl.metadata (1.6 kB)\n",
            "Collecting nvidia-cusparse-cu12==12.3.1.170 (from torch>=1.8.0->ultralytics)\n",
            "  Downloading nvidia_cusparse_cu12-12.3.1.170-py3-none-manylinux2014_x86_64.whl.metadata (1.6 kB)\n",
            "Requirement already satisfied: nvidia-cusparselt-cu12==0.6.2 in /usr/local/lib/python3.11/dist-packages (from torch>=1.8.0->ultralytics) (0.6.2)\n",
            "Requirement already satisfied: nvidia-nccl-cu12==2.21.5 in /usr/local/lib/python3.11/dist-packages (from torch>=1.8.0->ultralytics) (2.21.5)\n",
            "Requirement already satisfied: nvidia-nvtx-cu12==12.4.127 in /usr/local/lib/python3.11/dist-packages (from torch>=1.8.0->ultralytics) (12.4.127)\n",
            "Collecting nvidia-nvjitlink-cu12==12.4.127 (from torch>=1.8.0->ultralytics)\n",
            "  Downloading nvidia_nvjitlink_cu12-12.4.127-py3-none-manylinux2014_x86_64.whl.metadata (1.5 kB)\n",
            "Requirement already satisfied: triton==3.2.0 in /usr/local/lib/python3.11/dist-packages (from torch>=1.8.0->ultralytics) (3.2.0)\n",
            "Requirement already satisfied: sympy==1.13.1 in /usr/local/lib/python3.11/dist-packages (from torch>=1.8.0->ultralytics) (1.13.1)\n",
            "Requirement already satisfied: mpmath<1.4,>=1.1.0 in /usr/local/lib/python3.11/dist-packages (from sympy==1.13.1->torch>=1.8.0->ultralytics) (1.3.0)\n",
            "Requirement already satisfied: six>=1.5 in /usr/local/lib/python3.11/dist-packages (from python-dateutil>=2.7->matplotlib>=3.3.0->ultralytics) (1.17.0)\n",
            "Requirement already satisfied: MarkupSafe>=2.0 in /usr/local/lib/python3.11/dist-packages (from jinja2->torch>=1.8.0->ultralytics) (3.0.2)\n",
            "Downloading ultralytics-8.3.147-py3-none-any.whl (1.0 MB)\n",
            "\u001b[2K   \u001b[90m━━━━━━━━━━━━━━━━━━━━━━━━━━━━━━━━━━━━━━━━\u001b[0m \u001b[32m1.0/1.0 MB\u001b[0m \u001b[31m32.5 MB/s\u001b[0m eta \u001b[36m0:00:00\u001b[0m\n",
            "\u001b[?25hDownloading nvidia_cublas_cu12-12.4.5.8-py3-none-manylinux2014_x86_64.whl (363.4 MB)\n",
            "\u001b[2K   \u001b[90m━━━━━━━━━━━━━━━━━━━━━━━━━━━━━━━━━━━━━━━━\u001b[0m \u001b[32m363.4/363.4 MB\u001b[0m \u001b[31m4.1 MB/s\u001b[0m eta \u001b[36m0:00:00\u001b[0m\n",
            "\u001b[?25hDownloading nvidia_cuda_cupti_cu12-12.4.127-py3-none-manylinux2014_x86_64.whl (13.8 MB)\n",
            "\u001b[2K   \u001b[90m━━━━━━━━━━━━━━━━━━━━━━━━━━━━━━━━━━━━━━━━\u001b[0m \u001b[32m13.8/13.8 MB\u001b[0m \u001b[31m124.0 MB/s\u001b[0m eta \u001b[36m0:00:00\u001b[0m\n",
            "\u001b[?25hDownloading nvidia_cuda_nvrtc_cu12-12.4.127-py3-none-manylinux2014_x86_64.whl (24.6 MB)\n",
            "\u001b[2K   \u001b[90m━━━━━━━━━━━━━━━━━━━━━━━━━━━━━━━━━━━━━━━━\u001b[0m \u001b[32m24.6/24.6 MB\u001b[0m \u001b[31m92.8 MB/s\u001b[0m eta \u001b[36m0:00:00\u001b[0m\n",
            "\u001b[?25hDownloading nvidia_cuda_runtime_cu12-12.4.127-py3-none-manylinux2014_x86_64.whl (883 kB)\n",
            "\u001b[2K   \u001b[90m━━━━━━━━━━━━━━━━━━━━━━━━━━━━━━━━━━━━━━━━\u001b[0m \u001b[32m883.7/883.7 kB\u001b[0m \u001b[31m62.3 MB/s\u001b[0m eta \u001b[36m0:00:00\u001b[0m\n",
            "\u001b[?25hDownloading nvidia_cudnn_cu12-9.1.0.70-py3-none-manylinux2014_x86_64.whl (664.8 MB)\n",
            "\u001b[2K   \u001b[90m━━━━━━━━━━━━━━━━━━━━━━━━━━━━━━━━━━━━━━━━\u001b[0m \u001b[32m664.8/664.8 MB\u001b[0m \u001b[31m2.8 MB/s\u001b[0m eta \u001b[36m0:00:00\u001b[0m\n",
            "\u001b[?25hDownloading nvidia_cufft_cu12-11.2.1.3-py3-none-manylinux2014_x86_64.whl (211.5 MB)\n",
            "\u001b[2K   \u001b[90m━━━━━━━━━━━━━━━━━━━━━━━━━━━━━━━━━━━━━━━━\u001b[0m \u001b[32m211.5/211.5 MB\u001b[0m \u001b[31m5.4 MB/s\u001b[0m eta \u001b[36m0:00:00\u001b[0m\n",
            "\u001b[?25hDownloading nvidia_curand_cu12-10.3.5.147-py3-none-manylinux2014_x86_64.whl (56.3 MB)\n",
            "\u001b[2K   \u001b[90m━━━━━━━━━━━━━━━━━━━━━━━━━━━━━━━━━━━━━━━━\u001b[0m \u001b[32m56.3/56.3 MB\u001b[0m \u001b[31m16.7 MB/s\u001b[0m eta \u001b[36m0:00:00\u001b[0m\n",
            "\u001b[?25hDownloading nvidia_cusolver_cu12-11.6.1.9-py3-none-manylinux2014_x86_64.whl (127.9 MB)\n",
            "\u001b[2K   \u001b[90m━━━━━━━━━━━━━━━━━━━━━━━━━━━━━━━━━━━━━━━━\u001b[0m \u001b[32m127.9/127.9 MB\u001b[0m \u001b[31m7.3 MB/s\u001b[0m eta \u001b[36m0:00:00\u001b[0m\n",
            "\u001b[?25hDownloading nvidia_cusparse_cu12-12.3.1.170-py3-none-manylinux2014_x86_64.whl (207.5 MB)\n",
            "\u001b[2K   \u001b[90m━━━━━━━━━━━━━━━━━━━━━━━━━━━━━━━━━━━━━━━━\u001b[0m \u001b[32m207.5/207.5 MB\u001b[0m \u001b[31m6.5 MB/s\u001b[0m eta \u001b[36m0:00:00\u001b[0m\n",
            "\u001b[?25hDownloading nvidia_nvjitlink_cu12-12.4.127-py3-none-manylinux2014_x86_64.whl (21.1 MB)\n",
            "\u001b[2K   \u001b[90m━━━━━━━━━━━━━━━━━━━━━━━━━━━━━━━━━━━━━━━━\u001b[0m \u001b[32m21.1/21.1 MB\u001b[0m \u001b[31m100.7 MB/s\u001b[0m eta \u001b[36m0:00:00\u001b[0m\n",
            "\u001b[?25hDownloading ultralytics_thop-2.0.14-py3-none-any.whl (26 kB)\n",
            "Installing collected packages: nvidia-nvjitlink-cu12, nvidia-curand-cu12, nvidia-cufft-cu12, nvidia-cuda-runtime-cu12, nvidia-cuda-nvrtc-cu12, nvidia-cuda-cupti-cu12, nvidia-cublas-cu12, nvidia-cusparse-cu12, nvidia-cudnn-cu12, nvidia-cusolver-cu12, ultralytics-thop, ultralytics\n",
            "  Attempting uninstall: nvidia-nvjitlink-cu12\n",
            "    Found existing installation: nvidia-nvjitlink-cu12 12.5.82\n",
            "    Uninstalling nvidia-nvjitlink-cu12-12.5.82:\n",
            "      Successfully uninstalled nvidia-nvjitlink-cu12-12.5.82\n",
            "  Attempting uninstall: nvidia-curand-cu12\n",
            "    Found existing installation: nvidia-curand-cu12 10.3.6.82\n",
            "    Uninstalling nvidia-curand-cu12-10.3.6.82:\n",
            "      Successfully uninstalled nvidia-curand-cu12-10.3.6.82\n",
            "  Attempting uninstall: nvidia-cufft-cu12\n",
            "    Found existing installation: nvidia-cufft-cu12 11.2.3.61\n",
            "    Uninstalling nvidia-cufft-cu12-11.2.3.61:\n",
            "      Successfully uninstalled nvidia-cufft-cu12-11.2.3.61\n",
            "  Attempting uninstall: nvidia-cuda-runtime-cu12\n",
            "    Found existing installation: nvidia-cuda-runtime-cu12 12.5.82\n",
            "    Uninstalling nvidia-cuda-runtime-cu12-12.5.82:\n",
            "      Successfully uninstalled nvidia-cuda-runtime-cu12-12.5.82\n",
            "  Attempting uninstall: nvidia-cuda-nvrtc-cu12\n",
            "    Found existing installation: nvidia-cuda-nvrtc-cu12 12.5.82\n",
            "    Uninstalling nvidia-cuda-nvrtc-cu12-12.5.82:\n",
            "      Successfully uninstalled nvidia-cuda-nvrtc-cu12-12.5.82\n",
            "  Attempting uninstall: nvidia-cuda-cupti-cu12\n",
            "    Found existing installation: nvidia-cuda-cupti-cu12 12.5.82\n",
            "    Uninstalling nvidia-cuda-cupti-cu12-12.5.82:\n",
            "      Successfully uninstalled nvidia-cuda-cupti-cu12-12.5.82\n",
            "  Attempting uninstall: nvidia-cublas-cu12\n",
            "    Found existing installation: nvidia-cublas-cu12 12.5.3.2\n",
            "    Uninstalling nvidia-cublas-cu12-12.5.3.2:\n",
            "      Successfully uninstalled nvidia-cublas-cu12-12.5.3.2\n",
            "  Attempting uninstall: nvidia-cusparse-cu12\n",
            "    Found existing installation: nvidia-cusparse-cu12 12.5.1.3\n",
            "    Uninstalling nvidia-cusparse-cu12-12.5.1.3:\n",
            "      Successfully uninstalled nvidia-cusparse-cu12-12.5.1.3\n",
            "  Attempting uninstall: nvidia-cudnn-cu12\n",
            "    Found existing installation: nvidia-cudnn-cu12 9.3.0.75\n",
            "    Uninstalling nvidia-cudnn-cu12-9.3.0.75:\n",
            "      Successfully uninstalled nvidia-cudnn-cu12-9.3.0.75\n",
            "  Attempting uninstall: nvidia-cusolver-cu12\n",
            "    Found existing installation: nvidia-cusolver-cu12 11.6.3.83\n",
            "    Uninstalling nvidia-cusolver-cu12-11.6.3.83:\n",
            "      Successfully uninstalled nvidia-cusolver-cu12-11.6.3.83\n",
            "Successfully installed nvidia-cublas-cu12-12.4.5.8 nvidia-cuda-cupti-cu12-12.4.127 nvidia-cuda-nvrtc-cu12-12.4.127 nvidia-cuda-runtime-cu12-12.4.127 nvidia-cudnn-cu12-9.1.0.70 nvidia-cufft-cu12-11.2.1.3 nvidia-curand-cu12-10.3.5.147 nvidia-cusolver-cu12-11.6.1.9 nvidia-cusparse-cu12-12.3.1.170 nvidia-nvjitlink-cu12-12.4.127 ultralytics-8.3.147 ultralytics-thop-2.0.14\n"
          ]
        }
      ]
    },
    {
      "cell_type": "markdown",
      "metadata": {
        "id": "cuZoMkSFN9XG"
      },
      "source": [
        "# 4.&nbsp;Configure Training\n"
      ]
    },
    {
      "cell_type": "markdown",
      "source": [
        "There's one last step before we can run training: we need to create the Ultralytics training configuration YAML file. This file specifies the location of your train and validation data, and it also defines the model's classes. An example configuration file model is available [here](https://github.com/ultralytics/ultralytics/blob/main/ultralytics/cfg/datasets/coco128.yaml).\n",
        "\n",
        "Run the code block below to automatically generate a `data.yaml` configuration file. Make sure you have a labelmap file located at `custom_data/classes.txt`. If you used Label Studio or one of my pre-made datasets, it should already be present. If you assembled the dataset another way, you may have to manually create the `classes.txt` file (see [here](https://github.com/EdjeElectronics/Train-and-Deploy-YOLO-Models/blob/main/doc/classes.txt) for an example of how it's formatted)."
      ],
      "metadata": {
        "id": "0c5Kdh0GmQHS"
      }
    },
    {
      "cell_type": "code",
      "source": [
        "# Python function to automatically create data.yaml config file\n",
        "# 1. Reads \"classes.txt\" file to get list of class names\n",
        "# 2. Creates data dictionary with correct paths to folders, number of classes, and names of classes\n",
        "# 3. Writes data in YAML format to data.yaml\n",
        "\n",
        "import yaml\n",
        "import os\n",
        "\n",
        "def create_data_yaml(path_to_classes_txt, path_to_data_yaml):\n",
        "\n",
        "  # Read class.txt to get class names\n",
        "  if not os.path.exists(path_to_classes_txt):\n",
        "    print(f'classes.txt file not found! Please create a classes.txt labelmap and move it to {path_to_classes_txt}')\n",
        "    return\n",
        "  with open(path_to_classes_txt, 'r') as f:\n",
        "    classes = []\n",
        "    for line in f.readlines():\n",
        "      if len(line.strip()) == 0: continue\n",
        "      classes.append(line.strip())\n",
        "  number_of_classes = len(classes)\n",
        "\n",
        "  # Create data dictionary\n",
        "  data = {\n",
        "      'path': '/content/data',\n",
        "      'train': 'train/images',\n",
        "      'val': 'validation/images',\n",
        "      'nc': number_of_classes,\n",
        "      'names': classes\n",
        "  }\n",
        "\n",
        "  # Write data to YAML file\n",
        "  with open(path_to_data_yaml, 'w') as f:\n",
        "    yaml.dump(data, f, sort_keys=False)\n",
        "  print(f'Created config file at {path_to_data_yaml}')\n",
        "\n",
        "  return\n",
        "\n",
        "# Define path to classes.txt and run function\n",
        "path_to_classes_txt = '/content/custom_data/classes.txt'\n",
        "path_to_data_yaml = '/content/data.yaml'\n",
        "\n",
        "create_data_yaml(path_to_classes_txt, path_to_data_yaml)\n",
        "\n",
        "print('\\nFile contents:\\n')\n",
        "!cat /content/data.yaml"
      ],
      "metadata": {
        "id": "4letvP7X12ji",
        "outputId": "8b216a32-b8aa-4871-edd9-a7d8950b58ec",
        "colab": {
          "base_uri": "https://localhost:8080/"
        }
      },
      "execution_count": 5,
      "outputs": [
        {
          "output_type": "stream",
          "name": "stdout",
          "text": [
            "Created config file at /content/data.yaml\n",
            "\n",
            "File contents:\n",
            "\n",
            "path: /content/data\n",
            "train: train/images\n",
            "val: validation/images\n",
            "nc: 10\n",
            "names:\n",
            "- '0'\n",
            "- '1'\n",
            "- '2'\n",
            "- '3'\n",
            "- '4'\n",
            "- '5'\n",
            "- '6'\n",
            "- '7'\n",
            "- '8'\n",
            "- '9'\n"
          ]
        }
      ]
    },
    {
      "cell_type": "markdown",
      "metadata": {
        "id": "myP80_bnTNMi"
      },
      "source": [
        "# 5.&nbsp;Train Model"
      ]
    },
    {
      "cell_type": "markdown",
      "source": [
        "## 5.1 Training Parameters\n",
        "Now that the data is organized and the config file is created, we're ready to start training! First, there are a few important parameters to decide on. Visit my article on [Training YOLO Models Locally](https://www.ejtech.io/learn/train-yolo-models) to learn more about these parameters and how to choose them.\n",
        "\n",
        "**Model architecture & size (`model`):**\n",
        "\n",
        "There are several YOLO11 models sizes available to train, including `yolo11n.pt`, `yolo11s.pt`, `yolo11m.pt`, `yolo11l.pt`, and `yolo11xl.pt`. Larger models run slower but have higher accuracy, while smaller models run faster but have lower accuracy. I made a brief YouTube video that compares performance of different YOLO models on a Raspberry Pi 5 and a laptop with a RTX 4050 GPU, [check it out here to get a sense of their speed accuracy](https://youtu.be/_WKS4E9SmkA). If you aren't sure which model size to use, `yolo11s.pt` is a good starting point.\n",
        "\n",
        "You can also train YOLOv8 or YOLOv5 models by substituting `yolo11` for `yolov8` or `yolov5`.\n",
        "\n",
        "\n",
        "**Number of epochs (`epochs`)**\n",
        "\n",
        "In machine learning, one “epoch” is one single pass through the full training dataset. Setting the number of epochs dictates how long the model will train for. The best amount of epochs to use depends on the size of the dataset and the model architecture. If your dataset has less than 200 images, a good starting point is 60 epochs. If your dataset has more than 200 images, a good starting point is 40 epochs.\n",
        "\n",
        "\n",
        "**Resolution (`imgsz`)**\n",
        "\n",
        "Resolution has a large impact on the speed and accuracy of the model: a lower resolution model will have higher speed but less accuracy. YOLO models are typically trained and inferenced at a 640x640 resolution. However, if you want your model to run faster or know you will be working with low-resolution images, try using a lower resolution like 480x480.\n"
      ],
      "metadata": {
        "id": "DfKspYasCzC8"
      }
    },
    {
      "cell_type": "markdown",
      "source": [
        "## 5.2 Run Training!"
      ],
      "metadata": {
        "id": "V17UjYU5ZQdR"
      }
    },
    {
      "cell_type": "markdown",
      "source": [
        "Run the following code block to begin training. If you want to use a different model, number of epochs, or resolution, change `model`, `epochs`, or `imgsz`."
      ],
      "metadata": {
        "id": "nQi_hXnUVPr-"
      }
    },
    {
      "cell_type": "code",
      "execution_count": 7,
      "metadata": {
        "id": "8bbpob1gTPlo",
        "outputId": "829ded9f-f9b8-46bf-c022-4a6b7406dd0b",
        "colab": {
          "base_uri": "https://localhost:8080/"
        }
      },
      "outputs": [
        {
          "output_type": "stream",
          "name": "stdout",
          "text": [
            "Ultralytics 8.3.147 🚀 Python-3.11.12 torch-2.6.0+cu124 CUDA:0 (Tesla T4, 15095MiB)\n",
            "\u001b[34m\u001b[1mengine/trainer: \u001b[0magnostic_nms=False, amp=True, augment=False, auto_augment=randaugment, batch=16, bgr=0.0, box=7.5, cache=False, cfg=None, classes=None, close_mosaic=10, cls=0.5, conf=None, copy_paste=0.0, copy_paste_mode=flip, cos_lr=False, cutmix=0.0, data=/content/data.yaml, degrees=0.0, deterministic=True, device=None, dfl=1.5, dnn=False, dropout=0.0, dynamic=False, embed=None, epochs=5, erasing=0.4, exist_ok=False, fliplr=0.5, flipud=0.0, format=torchscript, fraction=1.0, freeze=None, half=False, hsv_h=0.015, hsv_s=0.7, hsv_v=0.4, imgsz=640, int8=False, iou=0.7, keras=False, kobj=1.0, line_width=None, lr0=0.01, lrf=0.01, mask_ratio=4, max_det=300, mixup=0.0, mode=train, model=yolo11s.pt, momentum=0.937, mosaic=1.0, multi_scale=False, name=train2, nbs=64, nms=False, opset=None, optimize=False, optimizer=auto, overlap_mask=True, patience=100, perspective=0.0, plots=True, pose=12.0, pretrained=True, profile=False, project=None, rect=False, resume=False, retina_masks=False, save=True, save_conf=False, save_crop=False, save_dir=runs/detect/train2, save_frames=False, save_json=False, save_period=-1, save_txt=False, scale=0.5, seed=0, shear=0.0, show=False, show_boxes=True, show_conf=True, show_labels=True, simplify=True, single_cls=False, source=None, split=val, stream_buffer=False, task=detect, time=None, tracker=botsort.yaml, translate=0.1, val=True, verbose=True, vid_stride=1, visualize=False, warmup_bias_lr=0.1, warmup_epochs=3.0, warmup_momentum=0.8, weight_decay=0.0005, workers=8, workspace=None\n",
            "Overriding model.yaml nc=80 with nc=10\n",
            "\n",
            "                   from  n    params  module                                       arguments                     \n",
            "  0                  -1  1       928  ultralytics.nn.modules.conv.Conv             [3, 32, 3, 2]                 \n",
            "  1                  -1  1     18560  ultralytics.nn.modules.conv.Conv             [32, 64, 3, 2]                \n",
            "  2                  -1  1     26080  ultralytics.nn.modules.block.C3k2            [64, 128, 1, False, 0.25]     \n",
            "  3                  -1  1    147712  ultralytics.nn.modules.conv.Conv             [128, 128, 3, 2]              \n",
            "  4                  -1  1    103360  ultralytics.nn.modules.block.C3k2            [128, 256, 1, False, 0.25]    \n",
            "  5                  -1  1    590336  ultralytics.nn.modules.conv.Conv             [256, 256, 3, 2]              \n",
            "  6                  -1  1    346112  ultralytics.nn.modules.block.C3k2            [256, 256, 1, True]           \n",
            "  7                  -1  1   1180672  ultralytics.nn.modules.conv.Conv             [256, 512, 3, 2]              \n",
            "  8                  -1  1   1380352  ultralytics.nn.modules.block.C3k2            [512, 512, 1, True]           \n",
            "  9                  -1  1    656896  ultralytics.nn.modules.block.SPPF            [512, 512, 5]                 \n",
            " 10                  -1  1    990976  ultralytics.nn.modules.block.C2PSA           [512, 512, 1]                 \n",
            " 11                  -1  1         0  torch.nn.modules.upsampling.Upsample         [None, 2, 'nearest']          \n",
            " 12             [-1, 6]  1         0  ultralytics.nn.modules.conv.Concat           [1]                           \n",
            " 13                  -1  1    443776  ultralytics.nn.modules.block.C3k2            [768, 256, 1, False]          \n",
            " 14                  -1  1         0  torch.nn.modules.upsampling.Upsample         [None, 2, 'nearest']          \n",
            " 15             [-1, 4]  1         0  ultralytics.nn.modules.conv.Concat           [1]                           \n",
            " 16                  -1  1    127680  ultralytics.nn.modules.block.C3k2            [512, 128, 1, False]          \n",
            " 17                  -1  1    147712  ultralytics.nn.modules.conv.Conv             [128, 128, 3, 2]              \n",
            " 18            [-1, 13]  1         0  ultralytics.nn.modules.conv.Concat           [1]                           \n",
            " 19                  -1  1    345472  ultralytics.nn.modules.block.C3k2            [384, 256, 1, False]          \n",
            " 20                  -1  1    590336  ultralytics.nn.modules.conv.Conv             [256, 256, 3, 2]              \n",
            " 21            [-1, 10]  1         0  ultralytics.nn.modules.conv.Concat           [1]                           \n",
            " 22                  -1  1   1511424  ultralytics.nn.modules.block.C3k2            [768, 512, 1, True]           \n",
            " 23        [16, 19, 22]  1    823278  ultralytics.nn.modules.head.Detect           [10, [128, 256, 512]]         \n",
            "YOLO11s summary: 181 layers, 9,431,662 parameters, 9,431,646 gradients, 21.6 GFLOPs\n",
            "\n",
            "Transferred 493/499 items from pretrained weights\n",
            "Freezing layer 'model.23.dfl.conv.weight'\n",
            "\u001b[34m\u001b[1mAMP: \u001b[0mrunning Automatic Mixed Precision (AMP) checks...\n",
            "\u001b[34m\u001b[1mAMP: \u001b[0mchecks passed ✅\n",
            "\u001b[34m\u001b[1mtrain: \u001b[0mFast image access ✅ (ping: 0.0±0.0 ms, read: 697.4±234.2 MB/s, size: 12.3 KB)\n",
            "\u001b[34m\u001b[1mtrain: \u001b[0mScanning /content/data/train/labels.cache... 9000 images, 0 backgrounds, 0 corrupt: 100% 9000/9000 [00:00<?, ?it/s]\n",
            "\u001b[34m\u001b[1malbumentations: \u001b[0mBlur(p=0.01, blur_limit=(3, 7)), MedianBlur(p=0.01, blur_limit=(3, 7)), ToGray(p=0.01, method='weighted_average', num_output_channels=3), CLAHE(p=0.01, clip_limit=(1.0, 4.0), tile_grid_size=(8, 8))\n",
            "\u001b[34m\u001b[1mval: \u001b[0mFast image access ✅ (ping: 0.0±0.0 ms, read: 389.1±151.8 MB/s, size: 14.2 KB)\n",
            "\u001b[34m\u001b[1mval: \u001b[0mScanning /content/data/validation/labels.cache... 1000 images, 0 backgrounds, 0 corrupt: 100% 1000/1000 [00:00<?, ?it/s]\n",
            "Plotting labels to runs/detect/train2/labels.jpg... \n",
            "\u001b[34m\u001b[1moptimizer:\u001b[0m 'optimizer=auto' found, ignoring 'lr0=0.01' and 'momentum=0.937' and determining best 'optimizer', 'lr0' and 'momentum' automatically... \n",
            "\u001b[34m\u001b[1moptimizer:\u001b[0m AdamW(lr=0.000714, momentum=0.9) with parameter groups 81 weight(decay=0.0), 88 weight(decay=0.0005), 87 bias(decay=0.0)\n",
            "Image sizes 640 train, 640 val\n",
            "Using 2 dataloader workers\n",
            "Logging results to \u001b[1mruns/detect/train2\u001b[0m\n",
            "Starting training for 5 epochs...\n",
            "\n",
            "      Epoch    GPU_mem   box_loss   cls_loss   dfl_loss  Instances       Size\n",
            "        1/5      3.98G     0.5987      1.146     0.8837         29        640: 100% 563/563 [03:07<00:00,  3.00it/s]\n",
            "                 Class     Images  Instances      Box(P          R      mAP50  mAP50-95): 100% 32/32 [00:10<00:00,  2.92it/s]\n",
            "                   all       1000       3232      0.948       0.95      0.977      0.904\n",
            "\n",
            "      Epoch    GPU_mem   box_loss   cls_loss   dfl_loss  Instances       Size\n",
            "        2/5       4.8G     0.5052      0.518     0.8609         47        640: 100% 563/563 [02:58<00:00,  3.15it/s]\n",
            "                 Class     Images  Instances      Box(P          R      mAP50  mAP50-95): 100% 32/32 [00:11<00:00,  2.90it/s]\n",
            "                   all       1000       3232      0.964      0.965      0.986      0.914\n",
            "\n",
            "      Epoch    GPU_mem   box_loss   cls_loss   dfl_loss  Instances       Size\n",
            "        3/5      4.81G     0.4809      0.466     0.8586         35        640: 100% 563/563 [02:59<00:00,  3.13it/s]\n",
            "                 Class     Images  Instances      Box(P          R      mAP50  mAP50-95): 100% 32/32 [00:10<00:00,  3.09it/s]\n",
            "                   all       1000       3232      0.971      0.985      0.993      0.926\n",
            "\n",
            "      Epoch    GPU_mem   box_loss   cls_loss   dfl_loss  Instances       Size\n",
            "        4/5      4.81G     0.4555     0.4213      0.851         46        640: 100% 563/563 [02:59<00:00,  3.14it/s]\n",
            "                 Class     Images  Instances      Box(P          R      mAP50  mAP50-95): 100% 32/32 [00:10<00:00,  3.04it/s]\n",
            "                   all       1000       3232      0.974      0.982      0.992      0.939\n",
            "\n",
            "      Epoch    GPU_mem   box_loss   cls_loss   dfl_loss  Instances       Size\n",
            "        5/5      4.81G     0.4306     0.3688     0.8441         45        640: 100% 563/563 [02:59<00:00,  3.14it/s]\n",
            "                 Class     Images  Instances      Box(P          R      mAP50  mAP50-95): 100% 32/32 [00:09<00:00,  3.27it/s]\n",
            "                   all       1000       3232      0.985      0.978      0.993      0.951\n",
            "\n",
            "5 epochs completed in 0.267 hours.\n",
            "Optimizer stripped from runs/detect/train2/weights/last.pt, 19.2MB\n",
            "Optimizer stripped from runs/detect/train2/weights/best.pt, 19.2MB\n",
            "\n",
            "Validating runs/detect/train2/weights/best.pt...\n",
            "Ultralytics 8.3.147 🚀 Python-3.11.12 torch-2.6.0+cu124 CUDA:0 (Tesla T4, 15095MiB)\n",
            "YOLO11s summary (fused): 100 layers, 9,416,670 parameters, 0 gradients, 21.3 GFLOPs\n",
            "                 Class     Images  Instances      Box(P          R      mAP50  mAP50-95): 100% 32/32 [00:15<00:00,  2.09it/s]\n",
            "                   all       1000       3232      0.985      0.978      0.993      0.951\n",
            "                     0        304        346          1      0.995      0.995      0.966\n",
            "                     1        335        377      0.999      0.989      0.995      0.919\n",
            "                     2        272        316      0.956      0.958      0.988       0.94\n",
            "                     3        280        315      0.995      0.984      0.995      0.954\n",
            "                     4        309        342      0.997      0.988      0.995      0.961\n",
            "                     5        261        295      0.951      0.969      0.988      0.953\n",
            "                     6        270        296      0.976      0.975      0.994      0.961\n",
            "                     7        280        318      0.997      0.965      0.995      0.949\n",
            "                     8        289        321          1      0.973      0.995      0.956\n",
            "                     9        279        306      0.982      0.987      0.994      0.949\n",
            "Speed: 0.2ms preprocess, 4.8ms inference, 0.0ms loss, 3.1ms postprocess per image\n",
            "Results saved to \u001b[1mruns/detect/train2\u001b[0m\n",
            "💡 Learn more at https://docs.ultralytics.com/modes/train\n"
          ]
        }
      ],
      "source": [
        "!yolo detect train data=/content/data.yaml model=yolo11s.pt epochs=5 imgsz=640"
      ]
    },
    {
      "cell_type": "markdown",
      "source": [
        "The training algorithm will parse the images in the training and validation directories and then start training the model. At the end of each training epoch, the program runs the model on the validation dataset and reports the resulting mAP, precision, and recall. As training continues, the mAP should generally increase with each epoch. Training will end once it goes through the number of epochs specified by `epochs`.\n",
        "\n",
        "> **NOTE:** Make sure to allow training to run to completion, because an optimizer runs at the end of training that strips out unneeded layers from the model.\n",
        "\n",
        "The best trained model weights will be saved in `content/runs/detect/train/weights/best.pt`. Additional information about training is saved in the `content/runs/detect/train` folder, including a `results.png` file that shows how loss, precision, recall, and mAP progressed over each epoch."
      ],
      "metadata": {
        "id": "vv0EYWJ5V6mC"
      }
    },
    {
      "cell_type": "markdown",
      "metadata": {
        "id": "vo8BJRXeg0Ap"
      },
      "source": [
        "#6.&nbsp;Test Model"
      ]
    },
    {
      "cell_type": "markdown",
      "source": [
        "The model has been trained; now it's time to test it! The commands below run the model on the images in the validation folder and then display the results for the first 10 images. This is a good way to confirm your model is working as expected. Click Play on the blocks below to see how your model performs."
      ],
      "metadata": {
        "id": "BX3PTrEPacGY"
      }
    },
    {
      "cell_type": "code",
      "execution_count": 9,
      "metadata": {
        "id": "PooP5Vjsg2Jn",
        "outputId": "3ca1f878-2970-4547-db15-48a949fde06f",
        "colab": {
          "base_uri": "https://localhost:8080/"
        }
      },
      "outputs": [
        {
          "output_type": "stream",
          "name": "stdout",
          "text": [
            "Ultralytics 8.3.147 🚀 Python-3.11.12 torch-2.6.0+cu124 CUDA:0 (Tesla T4, 15095MiB)\n",
            "YOLO11s summary (fused): 100 layers, 9,416,670 parameters, 0 gradients, 21.3 GFLOPs\n",
            "\n",
            "image 1/1000 /content/data/validation/images/1000.jpg: 640x640 1 0, 1 3, 1 7, 15.9ms\n",
            "image 2/1000 /content/data/validation/images/1006.jpg: 640x640 1 4, 2 5s, 15.7ms\n",
            "image 3/1000 /content/data/validation/images/1029.jpg: 640x640 1 0, 1 5, 15.6ms\n",
            "image 4/1000 /content/data/validation/images/1037.jpg: 640x640 1 2, 1 4, 15.6ms\n",
            "image 5/1000 /content/data/validation/images/1062.jpg: 640x640 1 1, 1 5, 1 7, 1 8, 15.6ms\n",
            "image 6/1000 /content/data/validation/images/110.jpg: 640x640 1 1, 1 7, 1 9, 15.6ms\n",
            "image 7/1000 /content/data/validation/images/1100.jpg: 640x640 1 1, 1 2, 1 3, 2 6s, 15.3ms\n",
            "image 8/1000 /content/data/validation/images/1116.jpg: 640x640 1 6, 1 9, 15.3ms\n",
            "image 9/1000 /content/data/validation/images/113.jpg: 640x640 1 1, 1 2, 1 9, 15.3ms\n",
            "image 10/1000 /content/data/validation/images/1141.jpg: 640x640 1 5, 1 8, 15.3ms\n",
            "image 11/1000 /content/data/validation/images/1145.jpg: 640x640 2 3s, 1 5, 15.3ms\n",
            "image 12/1000 /content/data/validation/images/1146.jpg: 640x640 1 0, 1 6, 1 8, 15.3ms\n",
            "image 13/1000 /content/data/validation/images/1147.jpg: 640x640 1 1, 1 7, 1 9, 15.3ms\n",
            "image 14/1000 /content/data/validation/images/1157.jpg: 640x640 1 0, 1 2, 1 7, 15.3ms\n",
            "image 15/1000 /content/data/validation/images/1160.jpg: 640x640 1 0, 2 2s, 1 4, 15.3ms\n",
            "image 16/1000 /content/data/validation/images/117.jpg: 640x640 3 2s, 1 9, 9.9ms\n",
            "image 17/1000 /content/data/validation/images/1170.jpg: 640x640 1 1, 1 2, 1 8, 9.9ms\n",
            "image 18/1000 /content/data/validation/images/1178.jpg: 640x640 1 3, 1 6, 9.9ms\n",
            "image 19/1000 /content/data/validation/images/1188.jpg: 640x640 1 0, 1 2, 9.9ms\n",
            "image 20/1000 /content/data/validation/images/1198.jpg: 640x640 1 1, 1 4, 1 5, 9.9ms\n",
            "image 21/1000 /content/data/validation/images/1200.jpg: 640x640 1 1, 1 2, 1 6, 1 7, 9.9ms\n",
            "image 22/1000 /content/data/validation/images/1202.jpg: 640x640 1 2, 1 4, 2 6s, 1 9, 9.6ms\n",
            "image 23/1000 /content/data/validation/images/1203.jpg: 640x640 1 0, 1 4, 1 6, 1 9, 9.5ms\n",
            "image 24/1000 /content/data/validation/images/1207.jpg: 640x640 1 0, 1 4, 1 8, 9.5ms\n",
            "image 25/1000 /content/data/validation/images/1208.jpg: 640x640 2 0s, 1 7, 9.6ms\n",
            "image 26/1000 /content/data/validation/images/1232.jpg: 640x640 1 0, 1 4, 1 5, 9.5ms\n",
            "image 27/1000 /content/data/validation/images/1234.jpg: 640x640 2 3s, 1 8, 1 9, 9.5ms\n",
            "image 28/1000 /content/data/validation/images/1242.jpg: 640x640 2 0s, 1 1, 1 3, 8.9ms\n",
            "image 29/1000 /content/data/validation/images/1243.jpg: 640x640 1 1, 1 2, 1 7, 8.4ms\n",
            "image 30/1000 /content/data/validation/images/1244.jpg: 640x640 1 3, 1 4, 1 6, 1 8, 8.0ms\n",
            "image 31/1000 /content/data/validation/images/1269.jpg: 640x640 2 0s, 1 6, 1 9, 8.0ms\n",
            "image 32/1000 /content/data/validation/images/1271.jpg: 640x640 1 3, 1 4, 1 6, 8.0ms\n",
            "image 33/1000 /content/data/validation/images/1276.jpg: 640x640 1 0, 1 5, 1 6, 8.1ms\n",
            "image 34/1000 /content/data/validation/images/128.jpg: 640x640 2 1s, 1 3, 1 4, 8.6ms\n",
            "image 35/1000 /content/data/validation/images/129.jpg: 640x640 1 0, 1 4, 2 6s, 8.9ms\n",
            "image 36/1000 /content/data/validation/images/1296.jpg: 640x640 2 1s, 1 5, 1 6, 1 8, 8.0ms\n",
            "image 37/1000 /content/data/validation/images/1304.jpg: 640x640 1 0, 1 1, 1 9, 8.1ms\n",
            "image 38/1000 /content/data/validation/images/1316.jpg: 640x640 1 0, 1 4, 1 9, 8.1ms\n",
            "image 39/1000 /content/data/validation/images/1328.jpg: 640x640 1 0, 1 5, 7.9ms\n",
            "image 40/1000 /content/data/validation/images/1337.jpg: 640x640 1 0, 1 6, 1 7, 8.2ms\n",
            "image 41/1000 /content/data/validation/images/1340.jpg: 640x640 1 1, 1 5, 2 7s, 8.5ms\n",
            "image 42/1000 /content/data/validation/images/1344.jpg: 640x640 1 2, 1 8, 8.0ms\n",
            "image 43/1000 /content/data/validation/images/1351.jpg: 640x640 1 0, 1 3, 1 9, 7.9ms\n",
            "image 44/1000 /content/data/validation/images/1355.jpg: 640x640 1 4, 1 5, 1 9, 8.3ms\n",
            "image 45/1000 /content/data/validation/images/1377.jpg: 640x640 1 0, 1 3, 8.0ms\n",
            "image 46/1000 /content/data/validation/images/1379.jpg: 640x640 1 3, 2 4s, 8.4ms\n",
            "image 47/1000 /content/data/validation/images/1382.jpg: 640x640 1 0, 1 3, 1 5, 8.2ms\n",
            "image 48/1000 /content/data/validation/images/1387.jpg: 640x640 1 0, 1 2, 1 4, 8.3ms\n",
            "image 49/1000 /content/data/validation/images/1390.jpg: 640x640 1 2, 1 5, 1 8, 2 9s, 8.1ms\n",
            "image 50/1000 /content/data/validation/images/1404.jpg: 640x640 1 1, 1 2, 1 6, 1 7, 7.9ms\n",
            "image 51/1000 /content/data/validation/images/1409.jpg: 640x640 1 2, 1 3, 1 4, 8.4ms\n",
            "image 52/1000 /content/data/validation/images/141.jpg: 640x640 1 7, 1 9, 8.1ms\n",
            "image 53/1000 /content/data/validation/images/1417.jpg: 640x640 1 0, 1 5, 2 7s, 8.5ms\n",
            "image 54/1000 /content/data/validation/images/1423.jpg: 640x640 1 0, 1 2, 1 5, 11.9ms\n",
            "image 55/1000 /content/data/validation/images/1429.jpg: 640x640 1 0, 1 1, 1 3, 1 4, 8.7ms\n",
            "image 56/1000 /content/data/validation/images/1439.jpg: 640x640 1 1, 1 3, 1 6, 1 8, 8.1ms\n",
            "image 57/1000 /content/data/validation/images/1452.jpg: 640x640 2 1s, 1 2, 1 8, 8.1ms\n",
            "image 58/1000 /content/data/validation/images/1459.jpg: 640x640 1 6, 2 7s, 1 9, 8.0ms\n",
            "image 59/1000 /content/data/validation/images/1461.jpg: 640x640 1 0, 2 4s, 8.2ms\n",
            "image 60/1000 /content/data/validation/images/1464.jpg: 640x640 1 4, 2 5s, 1 8, 8.3ms\n",
            "image 61/1000 /content/data/validation/images/1473.jpg: 640x640 1 0, 2 3s, 1 4, 8.2ms\n",
            "image 62/1000 /content/data/validation/images/1476.jpg: 640x640 2 3s, 8.1ms\n",
            "image 63/1000 /content/data/validation/images/1480.jpg: 640x640 1 3, 1 5, 1 6, 1 7, 8.1ms\n",
            "image 64/1000 /content/data/validation/images/1482.jpg: 640x640 1 1, 1 2, 2 5s, 2 9s, 8.1ms\n",
            "image 65/1000 /content/data/validation/images/1497.jpg: 640x640 1 1, 1 3, 1 7, 1 9, 8.0ms\n",
            "image 66/1000 /content/data/validation/images/1499.jpg: 640x640 1 5, 1 7, 1 9, 14.8ms\n",
            "image 67/1000 /content/data/validation/images/1500.jpg: 640x640 1 1, 1 5, 1 9, 8.5ms\n",
            "image 68/1000 /content/data/validation/images/1515.jpg: 640x640 1 0, 1 6, 1 7, 7.9ms\n",
            "image 69/1000 /content/data/validation/images/1521.jpg: 640x640 2 0s, 1 1, 1 7, 8.1ms\n",
            "image 70/1000 /content/data/validation/images/1534.jpg: 640x640 1 2, 1 3, 1 8, 7.9ms\n",
            "image 71/1000 /content/data/validation/images/1542.jpg: 640x640 1 1, 2 8s, 8.0ms\n",
            "image 72/1000 /content/data/validation/images/1544.jpg: 640x640 2 0s, 1 1, 1 9, 10.5ms\n",
            "image 73/1000 /content/data/validation/images/1550.jpg: 640x640 1 1, 1 2, 1 5, 1 6, 10.5ms\n",
            "image 74/1000 /content/data/validation/images/156.jpg: 640x640 1 0, 1 1, 1 6, 8.0ms\n",
            "image 75/1000 /content/data/validation/images/158.jpg: 640x640 1 1, 1 2, 1 3, 1 7, 8.3ms\n",
            "image 76/1000 /content/data/validation/images/1584.jpg: 640x640 1 1, 1 2, 8.4ms\n",
            "image 77/1000 /content/data/validation/images/1585.jpg: 640x640 1 1, 1 2, 1 4, 1 9, 8.4ms\n",
            "image 78/1000 /content/data/validation/images/159.jpg: 640x640 2 0s, 1 2, 8.0ms\n",
            "image 79/1000 /content/data/validation/images/1593.jpg: 640x640 1 1, 1 7, 2 8s, 8.2ms\n",
            "image 80/1000 /content/data/validation/images/1594.jpg: 640x640 1 3, 1 5, 1 9, 7.8ms\n",
            "image 81/1000 /content/data/validation/images/1609.jpg: 640x640 1 0, 1 2, 8.0ms\n",
            "image 82/1000 /content/data/validation/images/1611.jpg: 640x640 2 3s, 1 8, 8.0ms\n",
            "image 83/1000 /content/data/validation/images/1625.jpg: 640x640 1 0, 1 1, 1 2, 1 4, 8.4ms\n",
            "image 84/1000 /content/data/validation/images/163.jpg: 640x640 1 1, 1 3, 1 4, 8.1ms\n",
            "image 85/1000 /content/data/validation/images/1630.jpg: 640x640 1 2, 2 4s, 8.2ms\n",
            "image 86/1000 /content/data/validation/images/1643.jpg: 640x640 1 1, 1 4, 1 9, 8.1ms\n",
            "image 87/1000 /content/data/validation/images/1677.jpg: 640x640 1 3, 2 4s, 1 7, 8.3ms\n",
            "image 88/1000 /content/data/validation/images/1679.jpg: 640x640 1 0, 2 1s, 1 2, 8.9ms\n",
            "image 89/1000 /content/data/validation/images/1685.jpg: 640x640 1 1, 1 3, 2 4s, 1 8, 8.0ms\n",
            "image 90/1000 /content/data/validation/images/1707.jpg: 640x640 1 5, 1 6, 8.0ms\n",
            "image 91/1000 /content/data/validation/images/1718.jpg: 640x640 1 3, 1 6, 1 8, 8.0ms\n",
            "image 92/1000 /content/data/validation/images/1738.jpg: 640x640 1 0, 1 4, 1 6, 8.1ms\n",
            "image 93/1000 /content/data/validation/images/1747.jpg: 640x640 1 0, 2 7s, 9.0ms\n",
            "image 94/1000 /content/data/validation/images/1758.jpg: 640x640 1 1, 1 3, 1 5, 2 9s, 8.1ms\n",
            "image 95/1000 /content/data/validation/images/1770.jpg: 640x640 1 2, 1 5, 1 7, 1 8, 7.8ms\n",
            "image 96/1000 /content/data/validation/images/1792.jpg: 640x640 1 4, 1 6, 1 8, 8.0ms\n",
            "image 97/1000 /content/data/validation/images/1798.jpg: 640x640 2 0s, 1 2, 8.0ms\n",
            "image 98/1000 /content/data/validation/images/1805.jpg: 640x640 1 3, 1 4, 2 6s, 8.3ms\n",
            "image 99/1000 /content/data/validation/images/1813.jpg: 640x640 1 3, 1 4, 1 5, 8.1ms\n",
            "image 100/1000 /content/data/validation/images/1820.jpg: 640x640 1 0, 1 9, 8.2ms\n",
            "image 101/1000 /content/data/validation/images/1851.jpg: 640x640 1 0, 1 5, 1 7, 9.8ms\n",
            "image 102/1000 /content/data/validation/images/1864.jpg: 640x640 1 1, 1 5, 1 9, 8.2ms\n",
            "image 103/1000 /content/data/validation/images/1870.jpg: 640x640 1 2, 2 3s, 1 7, 8.3ms\n",
            "image 104/1000 /content/data/validation/images/1882.jpg: 640x640 1 1, 2 6s, 1 9, 7.9ms\n",
            "image 105/1000 /content/data/validation/images/1888.jpg: 640x640 1 2, 1 3, 1 6, 8.0ms\n",
            "image 106/1000 /content/data/validation/images/190.jpg: 640x640 2 2s, 1 3, 1 9, 8.2ms\n",
            "image 107/1000 /content/data/validation/images/1911.jpg: 640x640 2 2s, 2 4s, 1 7, 8.0ms\n",
            "image 108/1000 /content/data/validation/images/1913.jpg: 640x640 1 1, 2 3s, 1 5, 8.0ms\n",
            "image 109/1000 /content/data/validation/images/1916.jpg: 640x640 1 0, 1 2, 1 3, 7.9ms\n",
            "image 110/1000 /content/data/validation/images/1919.jpg: 640x640 1 3, 1 5, 2 7s, 8.5ms\n",
            "image 111/1000 /content/data/validation/images/1937.jpg: 640x640 1 2, 1 6, 1 9, 8.0ms\n",
            "image 112/1000 /content/data/validation/images/1968.jpg: 640x640 1 2, 1 6, 1 9, 8.6ms\n",
            "image 113/1000 /content/data/validation/images/197.jpg: 640x640 1 1, 2 6s, 1 8, 9.1ms\n",
            "image 114/1000 /content/data/validation/images/1982.jpg: 640x640 1 1, 1 3, 1 7, 8.3ms\n",
            "image 115/1000 /content/data/validation/images/1986.jpg: 640x640 1 4, 1 6, 1 7, 8.0ms\n",
            "image 116/1000 /content/data/validation/images/1988.jpg: 640x640 1 4, 1 5, 1 7, 8.1ms\n",
            "image 117/1000 /content/data/validation/images/1990.jpg: 640x640 1 2, 1 4, 1 6, 8.0ms\n",
            "image 118/1000 /content/data/validation/images/200.jpg: 640x640 2 1s, 1 2, 1 3, 8.2ms\n",
            "image 119/1000 /content/data/validation/images/201.jpg: 640x640 1 0, 1 1, 1 6, 8.1ms\n",
            "image 120/1000 /content/data/validation/images/2031.jpg: 640x640 1 4, 2 8s, 8.0ms\n",
            "image 121/1000 /content/data/validation/images/2042.jpg: 640x640 1 3, 1 6, 1 7, 1 8, 8.2ms\n",
            "image 122/1000 /content/data/validation/images/2043.jpg: 640x640 1 3, 1 4, 1 8, 1 9, 8.4ms\n",
            "image 123/1000 /content/data/validation/images/2049.jpg: 640x640 1 2, 2 5s, 1 8, 8.0ms\n",
            "image 124/1000 /content/data/validation/images/2057.jpg: 640x640 1 5, 1 8, 7.9ms\n",
            "image 125/1000 /content/data/validation/images/2074.jpg: 640x640 1 3, 1 5, 2 6s, 8.3ms\n",
            "image 126/1000 /content/data/validation/images/2130.jpg: 640x640 1 0, 1 1, 1 3, 1 8, 8.4ms\n",
            "image 127/1000 /content/data/validation/images/2145.jpg: 640x640 1 3, 2 7s, 10.1ms\n",
            "image 128/1000 /content/data/validation/images/2158.jpg: 640x640 1 1, 1 3, 1 4, 1 6, 8.2ms\n",
            "image 129/1000 /content/data/validation/images/2160.jpg: 640x640 1 0, 1 5, 8.2ms\n",
            "image 130/1000 /content/data/validation/images/2184.jpg: 640x640 2 2s, 1 5, 1 7, 8.3ms\n",
            "image 131/1000 /content/data/validation/images/2186.jpg: 640x640 1 0, 1 2, 1 5, 8.3ms\n",
            "image 132/1000 /content/data/validation/images/2192.jpg: 640x640 1 0, 1 6, 1 8, 8.0ms\n",
            "image 133/1000 /content/data/validation/images/2197.jpg: 640x640 1 1, 1 3, 1 5, 11.3ms\n",
            "image 134/1000 /content/data/validation/images/22.jpg: 640x640 2 2s, 1 9, 15.7ms\n",
            "image 135/1000 /content/data/validation/images/2201.jpg: 640x640 1 0, 1 2, 10.5ms\n",
            "image 136/1000 /content/data/validation/images/2221.jpg: 640x640 1 4, 1 7, 1 9, 8.2ms\n",
            "image 137/1000 /content/data/validation/images/2223.jpg: 640x640 1 3, 1 4, 1 7, 7.9ms\n",
            "image 138/1000 /content/data/validation/images/2233.jpg: 640x640 1 3, 1 6, 10.3ms\n",
            "image 139/1000 /content/data/validation/images/224.jpg: 640x640 2 1s, 1 5, 8.0ms\n",
            "image 140/1000 /content/data/validation/images/2243.jpg: 640x640 1 1, 1 3, 1 8, 1 9, 8.1ms\n",
            "image 141/1000 /content/data/validation/images/2249.jpg: 640x640 1 0, 1 6, 1 9, 8.1ms\n",
            "image 142/1000 /content/data/validation/images/2272.jpg: 640x640 1 1, 2 5s, 1 8, 8.3ms\n",
            "image 143/1000 /content/data/validation/images/2305.jpg: 640x640 2 2s, 8.0ms\n",
            "image 144/1000 /content/data/validation/images/2313.jpg: 640x640 1 5, 1 7, 8.0ms\n",
            "image 145/1000 /content/data/validation/images/2335.jpg: 640x640 1 1, 1 4, 2 5s, 8.6ms\n",
            "image 146/1000 /content/data/validation/images/2345.jpg: 640x640 1 6, 2 8s, 1 9, 8.2ms\n",
            "image 147/1000 /content/data/validation/images/2355.jpg: 640x640 2 1s, 1 6, 1 9, 8.0ms\n",
            "image 148/1000 /content/data/validation/images/2362.jpg: 640x640 1 0, 2 1s, 1 7, 8.1ms\n",
            "image 149/1000 /content/data/validation/images/237.jpg: 640x640 1 4, 1 5, 8.2ms\n",
            "image 150/1000 /content/data/validation/images/2375.jpg: 640x640 1 1, 1 8, 8.2ms\n",
            "image 151/1000 /content/data/validation/images/2387.jpg: 640x640 1 1, 1 6, 1 7, 8.2ms\n",
            "image 152/1000 /content/data/validation/images/2389.jpg: 640x640 1 0, 1 2, 8.6ms\n",
            "image 153/1000 /content/data/validation/images/2391.jpg: 640x640 1 1, 1 4, 1 7, 1 9, 8.3ms\n",
            "image 154/1000 /content/data/validation/images/2392.jpg: 640x640 1 1, 1 2, 1 4, 1 6, 9.6ms\n",
            "image 155/1000 /content/data/validation/images/2394.jpg: 640x640 1 5, 1 6, 1 8, 8.1ms\n",
            "image 156/1000 /content/data/validation/images/2400.jpg: 640x640 1 8, 1 9, 8.0ms\n",
            "image 157/1000 /content/data/validation/images/2403.jpg: 640x640 1 0, 1 4, 1 5, 8.1ms\n",
            "image 158/1000 /content/data/validation/images/2404.jpg: 640x640 1 0, 1 1, 1 8, 8.1ms\n",
            "image 159/1000 /content/data/validation/images/2410.jpg: 640x640 1 1, 2 2s, 1 9, 9.9ms\n",
            "image 160/1000 /content/data/validation/images/2415.jpg: 640x640 1 1, 1 7, 8.1ms\n",
            "image 161/1000 /content/data/validation/images/2427.jpg: 640x640 2 2s, 1 5, 1 7, 8.0ms\n",
            "image 162/1000 /content/data/validation/images/2428.jpg: 640x640 1 1, 1 2, 1 5, 8.1ms\n",
            "image 163/1000 /content/data/validation/images/2430.jpg: 640x640 1 1, 1 3, 1 8, 7.9ms\n",
            "image 164/1000 /content/data/validation/images/2431.jpg: 640x640 1 4, 1 7, 1 9, 7.9ms\n",
            "image 165/1000 /content/data/validation/images/2438.jpg: 640x640 1 8, 1 9, 8.1ms\n",
            "image 166/1000 /content/data/validation/images/2440.jpg: 640x640 1 0, 1 1, 9.3ms\n",
            "image 167/1000 /content/data/validation/images/2443.jpg: 640x640 1 2, 2 4s, 7.9ms\n",
            "image 168/1000 /content/data/validation/images/2451.jpg: 640x640 1 4, 1 8, 8.8ms\n",
            "image 169/1000 /content/data/validation/images/2472.jpg: 640x640 1 0, 1 2, 1 5, 1 8, 8.3ms\n",
            "image 170/1000 /content/data/validation/images/2477.jpg: 640x640 1 2, 1 4, 1 7, 1 9, 7.9ms\n",
            "image 171/1000 /content/data/validation/images/248.jpg: 640x640 2 1s, 1 2, 1 6, 7.8ms\n",
            "image 172/1000 /content/data/validation/images/2481.jpg: 640x640 1 0, 1 3, 1 6, 1 8, 8.3ms\n",
            "image 173/1000 /content/data/validation/images/2487.jpg: 640x640 1 1, 1 2, 2 6s, 8.2ms\n",
            "image 174/1000 /content/data/validation/images/2490.jpg: 640x640 1 7, 1 9, 8.1ms\n",
            "image 175/1000 /content/data/validation/images/2494.jpg: 640x640 1 0, 1 5, 1 6, 1 7, 8.2ms\n",
            "image 176/1000 /content/data/validation/images/2495.jpg: 640x640 1 1, 1 5, 8.2ms\n",
            "image 177/1000 /content/data/validation/images/2510.jpg: 640x640 1 0, 1 2, 1 6, 9.0ms\n",
            "image 178/1000 /content/data/validation/images/2514.jpg: 640x640 2 8s, 1 9, 7.9ms\n",
            "image 179/1000 /content/data/validation/images/2518.jpg: 640x640 1 0, 2 2s, 1 6, 1 7, 10.0ms\n",
            "image 180/1000 /content/data/validation/images/2522.jpg: 640x640 1 0, 1 6, 1 7, 1 8, 7.9ms\n",
            "image 181/1000 /content/data/validation/images/2547.jpg: 640x640 1 1, 1 4, 1 6, 1 7, 8.3ms\n",
            "image 182/1000 /content/data/validation/images/2562.jpg: 640x640 1 0, 1 1, 1 9, 8.8ms\n",
            "image 183/1000 /content/data/validation/images/2567.jpg: 640x640 1 0, 1 3, 2 9s, 8.1ms\n",
            "image 184/1000 /content/data/validation/images/2568.jpg: 640x640 1 2, 1 3, 1 4, 8.0ms\n",
            "image 185/1000 /content/data/validation/images/2569.jpg: 640x640 1 1, 1 4, 2 7s, 8.3ms\n",
            "image 186/1000 /content/data/validation/images/257.jpg: 640x640 1 4, 1 6, 1 7, 8.2ms\n",
            "image 187/1000 /content/data/validation/images/2597.jpg: 640x640 1 0, 1 6, 1 7, 8.3ms\n",
            "image 188/1000 /content/data/validation/images/2600.jpg: 640x640 1 4, 1 9, 8.1ms\n",
            "image 189/1000 /content/data/validation/images/2606.jpg: 640x640 1 0, 1 1, 1 3, 8.1ms\n",
            "image 190/1000 /content/data/validation/images/2614.jpg: 640x640 1 1, 1 6, 8.0ms\n",
            "image 191/1000 /content/data/validation/images/2615.jpg: 640x640 1 0, 1 4, 1 5, 8.1ms\n",
            "image 192/1000 /content/data/validation/images/2620.jpg: 640x640 1 2, 1 3, 1 5, 8.6ms\n",
            "image 193/1000 /content/data/validation/images/2637.jpg: 640x640 1 1, 1 4, 1 6, 9.1ms\n",
            "image 194/1000 /content/data/validation/images/2639.jpg: 640x640 1 3, 1 5, 1 6, 8.0ms\n",
            "image 195/1000 /content/data/validation/images/2647.jpg: 640x640 2 2s, 1 4, 8.0ms\n",
            "image 196/1000 /content/data/validation/images/2667.jpg: 640x640 1 1, 1 3, 1 4, 8.0ms\n",
            "image 197/1000 /content/data/validation/images/2674.jpg: 640x640 1 0, 1 1, 1 5, 8.1ms\n",
            "image 198/1000 /content/data/validation/images/2690.jpg: 640x640 1 1, 1 5, 8.2ms\n",
            "image 199/1000 /content/data/validation/images/2695.jpg: 640x640 1 1, 1 2, 1 8, 8.2ms\n",
            "image 200/1000 /content/data/validation/images/2701.jpg: 640x640 2 5s, 1 7, 8.0ms\n",
            "image 201/1000 /content/data/validation/images/2704.jpg: 640x640 1 1, 1 2, 1 4, 1 7, 12.1ms\n",
            "image 202/1000 /content/data/validation/images/2708.jpg: 640x640 1 1, 1 5, 17.0ms\n",
            "image 203/1000 /content/data/validation/images/2709.jpg: 640x640 1 0, 1 7, 7.8ms\n",
            "image 204/1000 /content/data/validation/images/2711.jpg: 640x640 1 3, 2 7s, 8.9ms\n",
            "image 205/1000 /content/data/validation/images/2712.jpg: 640x640 1 0, 1 1, 1 7, 1 9, 8.1ms\n",
            "image 206/1000 /content/data/validation/images/2716.jpg: 640x640 1 1, 1 2, 1 4, 1 5, 8.3ms\n",
            "image 207/1000 /content/data/validation/images/2717.jpg: 640x640 1 1, 1 2, 8.0ms\n",
            "image 208/1000 /content/data/validation/images/2726.jpg: 640x640 1 0, 1 1, 1 3, 1 9, 8.1ms\n",
            "image 209/1000 /content/data/validation/images/2728.jpg: 640x640 1 4, 1 9, 7.9ms\n",
            "image 210/1000 /content/data/validation/images/2741.jpg: 640x640 1 1, 2 6s, 8.1ms\n",
            "image 211/1000 /content/data/validation/images/2748.jpg: 640x640 1 0, 2 2s, 9.3ms\n",
            "image 212/1000 /content/data/validation/images/2761.jpg: 640x640 1 1, 1 2, 1 5, 1 7, 1 8, 10.2ms\n",
            "image 213/1000 /content/data/validation/images/277.jpg: 640x640 2 2s, 2 6s, 8.0ms\n",
            "image 214/1000 /content/data/validation/images/2773.jpg: 640x640 1 0, 1 4, 1 8, 8.2ms\n",
            "image 215/1000 /content/data/validation/images/2779.jpg: 640x640 1 1, 1 7, 1 9, 8.1ms\n",
            "image 216/1000 /content/data/validation/images/2805.jpg: 640x640 1 2, 2 7s, 1 8, 9.6ms\n",
            "image 217/1000 /content/data/validation/images/2806.jpg: 640x640 1 0, 1 1, 1 5, 1 8, 8.0ms\n",
            "image 218/1000 /content/data/validation/images/2821.jpg: 640x640 1 2, 2 3s, 1 5, 1 9, 8.5ms\n",
            "image 219/1000 /content/data/validation/images/2824.jpg: 640x640 1 2, 1 4, 2 5s, 8.1ms\n",
            "image 220/1000 /content/data/validation/images/2834.jpg: 640x640 1 1, 1 3, 1 8, 1 9, 8.2ms\n",
            "image 221/1000 /content/data/validation/images/2844.jpg: 640x640 1 1, 1 2, 2 7s, 1 9, 8.0ms\n",
            "image 222/1000 /content/data/validation/images/2856.jpg: 640x640 1 0, 2 4s, 8.3ms\n",
            "image 223/1000 /content/data/validation/images/2859.jpg: 640x640 1 2, 1 4, 1 8, 8.0ms\n",
            "image 224/1000 /content/data/validation/images/2863.jpg: 640x640 1 0, 1 6, 1 8, 8.1ms\n",
            "image 225/1000 /content/data/validation/images/2872.jpg: 640x640 1 1, 1 4, 15.7ms\n",
            "image 226/1000 /content/data/validation/images/2873.jpg: 640x640 1 0, 2 1s, 8.1ms\n",
            "image 227/1000 /content/data/validation/images/2883.jpg: 640x640 2 3s, 1 7, 8.8ms\n",
            "image 228/1000 /content/data/validation/images/2930.jpg: 640x640 1 4, 2 6s, 1 9, 8.3ms\n",
            "image 229/1000 /content/data/validation/images/2931.jpg: 640x640 1 0, 1 3, 1 7, 8.3ms\n",
            "image 230/1000 /content/data/validation/images/2944.jpg: 640x640 1 0, 1 4, 1 8, 8.4ms\n",
            "image 231/1000 /content/data/validation/images/2945.jpg: 640x640 1 2, 1 4, 2 5s, 12.4ms\n",
            "image 232/1000 /content/data/validation/images/2967.jpg: 640x640 2 0s, 1 2, 1 6, 8.1ms\n",
            "image 233/1000 /content/data/validation/images/297.jpg: 640x640 2 4s, 1 7, 1 8, 8.0ms\n",
            "image 234/1000 /content/data/validation/images/2972.jpg: 640x640 1 4, 2 8s, 8.1ms\n",
            "image 235/1000 /content/data/validation/images/2985.jpg: 640x640 1 2, 2 7s, 12.3ms\n",
            "image 236/1000 /content/data/validation/images/3000.jpg: 640x640 1 0, 1 1, 1 9, 8.2ms\n",
            "image 237/1000 /content/data/validation/images/3009.jpg: 640x640 2 0s, 1 4, 1 5, 8.6ms\n",
            "image 238/1000 /content/data/validation/images/3019.jpg: 640x640 2 1s, 1 3, 1 7, 11.5ms\n",
            "image 239/1000 /content/data/validation/images/3026.jpg: 640x640 1 1, 1 3, 1 7, 1 8, 14.4ms\n",
            "image 240/1000 /content/data/validation/images/3046.jpg: 640x640 1 2, 1 6, 1 8, 12.1ms\n",
            "image 241/1000 /content/data/validation/images/3048.jpg: 640x640 1 2, 1 3, 1 6, 11.6ms\n",
            "image 242/1000 /content/data/validation/images/3063.jpg: 640x640 2 8s, 2 9s, 8.4ms\n",
            "image 243/1000 /content/data/validation/images/3065.jpg: 640x640 2 7s, 2 9s, 8.2ms\n",
            "image 244/1000 /content/data/validation/images/3067.jpg: 640x640 1 0, 1 2, 1 3, 1 9, 8.1ms\n",
            "image 245/1000 /content/data/validation/images/3075.jpg: 640x640 1 3, 1 5, 1 6, 8.3ms\n",
            "image 246/1000 /content/data/validation/images/309.jpg: 640x640 1 1, 1 4, 8.7ms\n",
            "image 247/1000 /content/data/validation/images/3101.jpg: 640x640 1 4, 1 6, 1 7, 12.1ms\n",
            "image 248/1000 /content/data/validation/images/3103.jpg: 640x640 1 1, 1 2, 1 7, 1 8, 9.5ms\n",
            "image 249/1000 /content/data/validation/images/3105.jpg: 640x640 2 0s, 1 1, 1 2, 8.2ms\n",
            "image 250/1000 /content/data/validation/images/3115.jpg: 640x640 1 3, 1 6, 1 9, 8.0ms\n",
            "image 251/1000 /content/data/validation/images/312.jpg: 640x640 1 1, 1 4, 1 8, 1 9, 8.1ms\n",
            "image 252/1000 /content/data/validation/images/3120.jpg: 640x640 2 1s, 1 2, 1 6, 8.0ms\n",
            "image 253/1000 /content/data/validation/images/3131.jpg: 640x640 1 0, 1 7, 1 9, 7.9ms\n",
            "image 254/1000 /content/data/validation/images/3158.jpg: 640x640 1 1, 1 4, 2 8s, 8.1ms\n",
            "image 255/1000 /content/data/validation/images/3169.jpg: 640x640 1 2, 2 9s, 10.4ms\n",
            "image 256/1000 /content/data/validation/images/3180.jpg: 640x640 1 1, 1 5, 8.0ms\n",
            "image 257/1000 /content/data/validation/images/3182.jpg: 640x640 1 4, 1 7, 8.1ms\n",
            "image 258/1000 /content/data/validation/images/3188.jpg: 640x640 1 0, 1 1, 2 5s, 8.3ms\n",
            "image 259/1000 /content/data/validation/images/3189.jpg: 640x640 1 1, 2 7s, 1 8, 8.7ms\n",
            "image 260/1000 /content/data/validation/images/320.jpg: 640x640 2 0s, 1 3, 1 9, 8.2ms\n",
            "image 261/1000 /content/data/validation/images/3206.jpg: 640x640 1 3, 2 7s, 8.1ms\n",
            "image 262/1000 /content/data/validation/images/321.jpg: 640x640 1 1, 2 3s, 8.2ms\n",
            "image 263/1000 /content/data/validation/images/3229.jpg: 640x640 2 2s, 1 4, 2 6s, 8.0ms\n",
            "image 264/1000 /content/data/validation/images/323.jpg: 640x640 1 0, 1 5, 1 6, 8.5ms\n",
            "image 265/1000 /content/data/validation/images/3234.jpg: 640x640 1 1, 1 2, 1 4, 1 8, 14.1ms\n",
            "image 266/1000 /content/data/validation/images/3242.jpg: 640x640 1 2, 1 4, 17.3ms\n",
            "image 267/1000 /content/data/validation/images/3250.jpg: 640x640 1 3, 1 5, 1 7, 10.2ms\n",
            "image 268/1000 /content/data/validation/images/3253.jpg: 640x640 1 1, 1 7, 1 9, 8.0ms\n",
            "image 269/1000 /content/data/validation/images/3257.jpg: 640x640 1 8, 3 9s, 8.9ms\n",
            "image 270/1000 /content/data/validation/images/326.jpg: 640x640 1 0, 1 8, 8.0ms\n",
            "image 271/1000 /content/data/validation/images/3267.jpg: 640x640 1 0, 1 5, 1 7, 1 8, 8.0ms\n",
            "image 272/1000 /content/data/validation/images/3278.jpg: 640x640 1 0, 2 4s, 7.9ms\n",
            "image 273/1000 /content/data/validation/images/3282.jpg: 640x640 1 3, 1 7, 8.1ms\n",
            "image 274/1000 /content/data/validation/images/3284.jpg: 640x640 1 4, 2 9s, 8.2ms\n",
            "image 275/1000 /content/data/validation/images/3286.jpg: 640x640 1 0, 1 3, 8.2ms\n",
            "image 276/1000 /content/data/validation/images/3288.jpg: 640x640 2 6s, 1 7, 1 9, 8.0ms\n",
            "image 277/1000 /content/data/validation/images/3305.jpg: 640x640 1 2, 1 6, 8.0ms\n",
            "image 278/1000 /content/data/validation/images/3314.jpg: 640x640 1 0, 1 3, 9.8ms\n",
            "image 279/1000 /content/data/validation/images/332.jpg: 640x640 2 2s, 1 5, 1 6, 1 8, 14.2ms\n",
            "image 280/1000 /content/data/validation/images/3323.jpg: 640x640 1 3, 1 4, 1 7, 15.3ms\n",
            "image 281/1000 /content/data/validation/images/3332.jpg: 640x640 2 3s, 1 6, 11.7ms\n",
            "image 282/1000 /content/data/validation/images/3333.jpg: 640x640 2 2s, 1 8, 12.1ms\n",
            "image 283/1000 /content/data/validation/images/3335.jpg: 640x640 1 1, 1 6, 10.3ms\n",
            "image 284/1000 /content/data/validation/images/3338.jpg: 640x640 1 4, 1 8, 1 9, 8.0ms\n",
            "image 285/1000 /content/data/validation/images/3352.jpg: 640x640 1 2, 1 3, 1 4, 8.5ms\n",
            "image 286/1000 /content/data/validation/images/3355.jpg: 640x640 1 0, 1 1, 2 9s, 8.7ms\n",
            "image 287/1000 /content/data/validation/images/3360.jpg: 640x640 1 0, 1 3, 1 4, 1 7, 8.1ms\n",
            "image 288/1000 /content/data/validation/images/3366.jpg: 640x640 1 1, 1 6, 8.2ms\n",
            "image 289/1000 /content/data/validation/images/3369.jpg: 640x640 1 0, 1 4, 8.3ms\n",
            "image 290/1000 /content/data/validation/images/3372.jpg: 640x640 1 5, 1 7, 1 9, 8.2ms\n",
            "image 291/1000 /content/data/validation/images/3387.jpg: 640x640 1 2, 2 6s, 10.0ms\n",
            "image 292/1000 /content/data/validation/images/3390.jpg: 640x640 1 1, 1 4, 1 5, 1 8, 8.1ms\n",
            "image 293/1000 /content/data/validation/images/3428.jpg: 640x640 1 3, 1 5, 1 7, 8.1ms\n",
            "image 294/1000 /content/data/validation/images/3431.jpg: 640x640 1 1, 1 3, 1 4, 8.1ms\n",
            "image 295/1000 /content/data/validation/images/3432.jpg: 640x640 2 0s, 1 8, 8.2ms\n",
            "image 296/1000 /content/data/validation/images/3437.jpg: 640x640 1 1, 1 3, 1 4, 1 8, 8.2ms\n",
            "image 297/1000 /content/data/validation/images/3441.jpg: 640x640 1 0, 1 2, 1 3, 8.1ms\n",
            "image 298/1000 /content/data/validation/images/3454.jpg: 640x640 1 1, 2 6s, 8.4ms\n",
            "image 299/1000 /content/data/validation/images/3456.jpg: 640x640 1 1, 1 4, 1 8, 8.1ms\n",
            "image 300/1000 /content/data/validation/images/346.jpg: 640x640 1 0, 1 5, 1 8, 1 9, 8.0ms\n",
            "image 301/1000 /content/data/validation/images/3463.jpg: 640x640 1 1, 1 5, 1 7, 8.2ms\n",
            "image 302/1000 /content/data/validation/images/3474.jpg: 640x640 2 3s, 1 6, 9.6ms\n",
            "image 303/1000 /content/data/validation/images/3482.jpg: 640x640 1 1, 1 5, 1 8, 8.0ms\n",
            "image 304/1000 /content/data/validation/images/3484.jpg: 640x640 2 3s, 1 4, 1 9, 8.1ms\n",
            "image 305/1000 /content/data/validation/images/3548.jpg: 640x640 2 4s, 1 6, 10.8ms\n",
            "image 306/1000 /content/data/validation/images/3549.jpg: 640x640 1 1, 1 3, 8.0ms\n",
            "image 307/1000 /content/data/validation/images/3559.jpg: 640x640 2 2s, 1 6, 1 9, 8.2ms\n",
            "image 308/1000 /content/data/validation/images/3565.jpg: 640x640 1 0, 1 5, 8.0ms\n",
            "image 309/1000 /content/data/validation/images/3568.jpg: 640x640 1 0, 1 5, 2 6s, 8.2ms\n",
            "image 310/1000 /content/data/validation/images/3579.jpg: 640x640 1 1, 1 6, 1 7, 8.3ms\n",
            "image 311/1000 /content/data/validation/images/3601.jpg: 640x640 1 7, 1 8, 8.6ms\n",
            "image 312/1000 /content/data/validation/images/3609.jpg: 640x640 2 3s, 1 4, 1 7, 8.1ms\n",
            "image 313/1000 /content/data/validation/images/361.jpg: 640x640 1 1, 1 2, 1 3, 8.0ms\n",
            "image 314/1000 /content/data/validation/images/3622.jpg: 640x640 2 0s, 2 1s, 7.9ms\n",
            "image 315/1000 /content/data/validation/images/3624.jpg: 640x640 1 4, 1 8, 8.2ms\n",
            "image 316/1000 /content/data/validation/images/3633.jpg: 640x640 2 6s, 1 7, 7.9ms\n",
            "image 317/1000 /content/data/validation/images/3640.jpg: 640x640 1 1, 1 2, 1 7, 8.3ms\n",
            "image 318/1000 /content/data/validation/images/3652.jpg: 640x640 1 0, 1 4, 8.3ms\n",
            "image 319/1000 /content/data/validation/images/3662.jpg: 640x640 1 0, 1 1, 2 9s, 7.9ms\n",
            "image 320/1000 /content/data/validation/images/3666.jpg: 640x640 1 2, 2 4s, 1 7, 8.0ms\n",
            "image 321/1000 /content/data/validation/images/3673.jpg: 640x640 1 0, 2 7s, 1 8, 8.1ms\n",
            "image 322/1000 /content/data/validation/images/3674.jpg: 640x640 1 3, 1 6, 1 8, 8.2ms\n",
            "image 323/1000 /content/data/validation/images/3681.jpg: 640x640 2 5s, 7.9ms\n",
            "image 324/1000 /content/data/validation/images/3691.jpg: 640x640 2 0s, 1 4, 8.2ms\n",
            "image 325/1000 /content/data/validation/images/3694.jpg: 640x640 1 3, 1 4, 1 9, 12.6ms\n",
            "image 326/1000 /content/data/validation/images/3716.jpg: 640x640 1 1, 1 4, 1 7, 1 9, 9.7ms\n",
            "image 327/1000 /content/data/validation/images/372.jpg: 640x640 1 0, 2 4s, 1 9, 8.1ms\n",
            "image 328/1000 /content/data/validation/images/3723.jpg: 640x640 1 1, 1 9, 8.4ms\n",
            "image 329/1000 /content/data/validation/images/3726.jpg: 640x640 1 6, 2 9s, 8.0ms\n",
            "image 330/1000 /content/data/validation/images/3730.jpg: 640x640 2 8s, 15.2ms\n",
            "image 331/1000 /content/data/validation/images/3733.jpg: 640x640 1 1, 2 5s, 1 9, 13.4ms\n",
            "image 332/1000 /content/data/validation/images/3738.jpg: 640x640 2 3s, 1 4, 1 5, 8.1ms\n",
            "image 333/1000 /content/data/validation/images/3750.jpg: 640x640 1 2, 2 7s, 1 9, 8.4ms\n",
            "image 334/1000 /content/data/validation/images/3765.jpg: 640x640 2 2s, 1 3, 1 8, 7.9ms\n",
            "image 335/1000 /content/data/validation/images/3768.jpg: 640x640 2 5s, 8.4ms\n",
            "image 336/1000 /content/data/validation/images/377.jpg: 640x640 1 1, 1 2, 1 6, 1 7, 7.9ms\n",
            "image 337/1000 /content/data/validation/images/3770.jpg: 640x640 1 1, 1 3, 1 9, 10.5ms\n",
            "image 338/1000 /content/data/validation/images/3779.jpg: 640x640 1 1, 1 4, 1 6, 8.4ms\n",
            "image 339/1000 /content/data/validation/images/3783.jpg: 640x640 1 2, 1 4, 2 8s, 1 9, 8.2ms\n",
            "image 340/1000 /content/data/validation/images/3786.jpg: 640x640 1 0, 1 3, 1 7, 1 9, 8.0ms\n",
            "image 341/1000 /content/data/validation/images/3808.jpg: 640x640 1 0, 1 2, 1 6, 8.6ms\n",
            "image 342/1000 /content/data/validation/images/3810.jpg: 640x640 1 1, 1 2, 1 3, 1 6, 1 9, 8.8ms\n",
            "image 343/1000 /content/data/validation/images/3825.jpg: 640x640 1 1, 1 8, 1 9, 9.4ms\n",
            "image 344/1000 /content/data/validation/images/3830.jpg: 640x640 1 0, 1 2, 1 3, 1 5, 10.5ms\n",
            "image 345/1000 /content/data/validation/images/3835.jpg: 640x640 2 0s, 1 3, 1 9, 8.7ms\n",
            "image 346/1000 /content/data/validation/images/3845.jpg: 640x640 1 6, 2 8s, 8.1ms\n",
            "image 347/1000 /content/data/validation/images/3847.jpg: 640x640 1 0, 1 4, 1 6, 1 9, 8.0ms\n",
            "image 348/1000 /content/data/validation/images/3864.jpg: 640x640 1 0, 1 4, 1 5, 1 9, 8.1ms\n",
            "image 349/1000 /content/data/validation/images/3878.jpg: 640x640 1 1, 1 7, 1 9, 8.0ms\n",
            "image 350/1000 /content/data/validation/images/3880.jpg: 640x640 1 2, 1 4, 1 5, 1 8, 9.3ms\n",
            "image 351/1000 /content/data/validation/images/3881.jpg: 640x640 1 0, 1 2, 1 7, 8.1ms\n",
            "image 352/1000 /content/data/validation/images/3901.jpg: 640x640 1 1, 1 2, 1 8, 1 9, 8.1ms\n",
            "image 353/1000 /content/data/validation/images/3912.jpg: 640x640 1 0, 1 7, 1 9, 8.2ms\n",
            "image 354/1000 /content/data/validation/images/3971.jpg: 640x640 1 1, 1 3, 1 9, 8.1ms\n",
            "image 355/1000 /content/data/validation/images/3972.jpg: 640x640 1 0, 1 5, 1 7, 8.1ms\n",
            "image 356/1000 /content/data/validation/images/3973.jpg: 640x640 1 3, 1 4, 9.3ms\n",
            "image 357/1000 /content/data/validation/images/3978.jpg: 640x640 1 4, 1 5, 1 9, 8.1ms\n",
            "image 358/1000 /content/data/validation/images/3998.jpg: 640x640 2 4s, 1 6, 2 9s, 8.2ms\n",
            "image 359/1000 /content/data/validation/images/4002.jpg: 640x640 1 0, 1 4, 1 5, 1 8, 8.2ms\n",
            "image 360/1000 /content/data/validation/images/4027.jpg: 640x640 1 0, 1 4, 1 6, 8.3ms\n",
            "image 361/1000 /content/data/validation/images/405.jpg: 640x640 1 0, 1 1, 1 3, 1 9, 8.0ms\n",
            "image 362/1000 /content/data/validation/images/4052.jpg: 640x640 1 6, 1 8, 7.9ms\n",
            "image 363/1000 /content/data/validation/images/4055.jpg: 640x640 1 4, 1 6, 9.7ms\n",
            "image 364/1000 /content/data/validation/images/4074.jpg: 640x640 1 7, 3 9s, 8.2ms\n",
            "image 365/1000 /content/data/validation/images/4076.jpg: 640x640 1 2, 2 5s, 2 6s, 8.1ms\n",
            "image 366/1000 /content/data/validation/images/4078.jpg: 640x640 2 0s, 1 6, 8.0ms\n",
            "image 367/1000 /content/data/validation/images/409.jpg: 640x640 2 3s, 1 9, 8.3ms\n",
            "image 368/1000 /content/data/validation/images/4092.jpg: 640x640 1 1, 1 2, 1 6, 1 9, 7.9ms\n",
            "image 369/1000 /content/data/validation/images/4094.jpg: 640x640 1 0, 1 3, 1 4, 8.2ms\n",
            "image 370/1000 /content/data/validation/images/41.jpg: 640x640 1 2, 1 6, 2 8s, 8.3ms\n",
            "image 371/1000 /content/data/validation/images/4125.jpg: 640x640 1 1, 1 3, 1 4, 8.2ms\n",
            "image 372/1000 /content/data/validation/images/413.jpg: 640x640 1 0, 1 4, 1 6, 1 9, 8.0ms\n",
            "image 373/1000 /content/data/validation/images/4139.jpg: 640x640 1 0, 2 1s, 1 8, 8.1ms\n",
            "image 374/1000 /content/data/validation/images/4145.jpg: 640x640 1 0, 1 5, 1 7, 11.2ms\n",
            "image 375/1000 /content/data/validation/images/4149.jpg: 640x640 1 1, 1 4, 1 7, 8.9ms\n",
            "image 376/1000 /content/data/validation/images/4166.jpg: 640x640 1 1, 1 8, 8.5ms\n",
            "image 377/1000 /content/data/validation/images/4172.jpg: 640x640 1 3, 1 4, 1 8, 7.9ms\n",
            "image 378/1000 /content/data/validation/images/4174.jpg: 640x640 1 4, 1 5, 1 6, 1 7, 8.1ms\n",
            "image 379/1000 /content/data/validation/images/4194.jpg: 640x640 1 0, 1 2, 1 5, 8.0ms\n",
            "image 380/1000 /content/data/validation/images/4195.jpg: 640x640 1 4, 2 9s, 10.7ms\n",
            "image 381/1000 /content/data/validation/images/4222.jpg: 640x640 1 0, 1 4, 1 8, 1 9, 8.4ms\n",
            "image 382/1000 /content/data/validation/images/4226.jpg: 640x640 1 0, 2 7s, 8.2ms\n",
            "image 383/1000 /content/data/validation/images/4253.jpg: 640x640 1 6, 2 8s, 10.7ms\n",
            "image 384/1000 /content/data/validation/images/4267.jpg: 640x640 2 1s, 1 9, 8.2ms\n",
            "image 385/1000 /content/data/validation/images/4271.jpg: 640x640 1 2, 1 3, 1 6, 8.2ms\n",
            "image 386/1000 /content/data/validation/images/4274.jpg: 640x640 1 0, 1 4, 1 8, 8.5ms\n",
            "image 387/1000 /content/data/validation/images/4306.jpg: 640x640 1 1, 1 2, 1 9, 8.3ms\n",
            "image 388/1000 /content/data/validation/images/4320.jpg: 640x640 1 5, 1 8, 1 9, 8.1ms\n",
            "image 389/1000 /content/data/validation/images/4321.jpg: 640x640 1 0, 1 2, 1 8, 8.1ms\n",
            "image 390/1000 /content/data/validation/images/4327.jpg: 640x640 1 0, 1 1, 1 5, 1 6, 8.2ms\n",
            "image 391/1000 /content/data/validation/images/4335.jpg: 640x640 1 2, 1 3, 1 6, 8.4ms\n",
            "image 392/1000 /content/data/validation/images/4337.jpg: 640x640 1 1, 1 6, 8.5ms\n",
            "image 393/1000 /content/data/validation/images/4340.jpg: 640x640 1 0, 2 5s, 8.1ms\n",
            "image 394/1000 /content/data/validation/images/4350.jpg: 640x640 1 3, 1 8, 1 9, 8.0ms\n",
            "image 395/1000 /content/data/validation/images/4364.jpg: 640x640 1 1, 1 2, 1 6, 8.8ms\n",
            "image 396/1000 /content/data/validation/images/4376.jpg: 640x640 1 0, 1 5, 1 6, 1 7, 12.1ms\n",
            "image 397/1000 /content/data/validation/images/4381.jpg: 640x640 1 0, 1 7, 1 8, 15.4ms\n",
            "image 398/1000 /content/data/validation/images/4382.jpg: 640x640 1 3, 1 4, 1 5, 8.5ms\n",
            "image 399/1000 /content/data/validation/images/4389.jpg: 640x640 1 0, 1 1, 1 3, 8.0ms\n",
            "image 400/1000 /content/data/validation/images/4398.jpg: 640x640 1 2, 1 5, 8.7ms\n",
            "image 401/1000 /content/data/validation/images/4406.jpg: 640x640 1 0, 1 1, 1 4, 1 6, 8.1ms\n",
            "image 402/1000 /content/data/validation/images/4407.jpg: 640x640 1 1, 1 2, 1 5, 1 6, 8.3ms\n",
            "image 403/1000 /content/data/validation/images/4438.jpg: 640x640 1 1, 2 4s, 8.7ms\n",
            "image 404/1000 /content/data/validation/images/4489.jpg: 640x640 2 2s, 1 3, 8.0ms\n",
            "image 405/1000 /content/data/validation/images/4506.jpg: 640x640 1 3, 1 4, 1 5, 9.9ms\n",
            "image 406/1000 /content/data/validation/images/4507.jpg: 640x640 1 0, 1 1, 1 2, 1 5, 8.2ms\n",
            "image 407/1000 /content/data/validation/images/4523.jpg: 640x640 1 6, 1 8, 2 9s, 8.3ms\n",
            "image 408/1000 /content/data/validation/images/4526.jpg: 640x640 2 6s, 1 8, 8.0ms\n",
            "image 409/1000 /content/data/validation/images/4539.jpg: 640x640 1 0, 1 1, 9.3ms\n",
            "image 410/1000 /content/data/validation/images/4567.jpg: 640x640 1 2, 1 3, 1 4, 1 5, 8.3ms\n",
            "image 411/1000 /content/data/validation/images/457.jpg: 640x640 1 2, 1 8, 7.9ms\n",
            "image 412/1000 /content/data/validation/images/4594.jpg: 640x640 1 1, 1 3, 1 8, 1 9, 8.0ms\n",
            "image 413/1000 /content/data/validation/images/4595.jpg: 640x640 1 3, 1 4, 1 9, 8.0ms\n",
            "image 414/1000 /content/data/validation/images/4598.jpg: 640x640 1 3, 1 7, 1 8, 8.1ms\n",
            "image 415/1000 /content/data/validation/images/4601.jpg: 640x640 1 1, 1 5, 1 8, 1 9, 10.3ms\n",
            "image 416/1000 /content/data/validation/images/4605.jpg: 640x640 2 6s, 7.9ms\n",
            "image 417/1000 /content/data/validation/images/4616.jpg: 640x640 1 4, 1 5, 1 7, 12.3ms\n",
            "image 418/1000 /content/data/validation/images/4620.jpg: 640x640 1 4, 1 6, 1 7, 1 8, 14.5ms\n",
            "image 419/1000 /content/data/validation/images/4629.jpg: 640x640 1 0, 1 1, 2 5s, 16.0ms\n",
            "image 420/1000 /content/data/validation/images/4630.jpg: 640x640 1 4, 1 7, 1 9, 14.7ms\n",
            "image 421/1000 /content/data/validation/images/4632.jpg: 640x640 1 3, 1 8, 14.6ms\n",
            "image 422/1000 /content/data/validation/images/4645.jpg: 640x640 1 1, 1 5, 1 8, 14.3ms\n",
            "image 423/1000 /content/data/validation/images/4655.jpg: 640x640 1 0, 1 4, 1 9, 13.2ms\n",
            "image 424/1000 /content/data/validation/images/4658.jpg: 640x640 1 0, 1 3, 1 7, 11.2ms\n",
            "image 425/1000 /content/data/validation/images/4663.jpg: 640x640 2 4s, 1 5, 1 9, 10.3ms\n",
            "image 426/1000 /content/data/validation/images/4668.jpg: 640x640 2 1s, 1 2, 2 9s, 14.8ms\n",
            "image 427/1000 /content/data/validation/images/4673.jpg: 640x640 1 1, 2 6s, 14.2ms\n",
            "image 428/1000 /content/data/validation/images/4700.jpg: 640x640 1 1, 1 3, 1 8, 10.9ms\n",
            "image 429/1000 /content/data/validation/images/4704.jpg: 640x640 1 1, 1 4, 1 5, 1 9, 11.9ms\n",
            "image 430/1000 /content/data/validation/images/4722.jpg: 640x640 1 0, 1 2, 1 3, 1 4, 11.0ms\n",
            "image 431/1000 /content/data/validation/images/4723.jpg: 640x640 1 1, 1 4, 1 5, 1 7, 10.8ms\n",
            "image 432/1000 /content/data/validation/images/4727.jpg: 640x640 2 3s, 1 5, 1 8, 10.4ms\n",
            "image 433/1000 /content/data/validation/images/4745.jpg: 640x640 1 0, 1 1, 1 5, 1 8, 10.3ms\n",
            "image 434/1000 /content/data/validation/images/4747.jpg: 640x640 1 1, 1 2, 1 5, 1 9, 10.2ms\n",
            "image 435/1000 /content/data/validation/images/4758.jpg: 640x640 1 4, 1 6, 1 8, 1 9, 13.5ms\n",
            "image 436/1000 /content/data/validation/images/4762.jpg: 640x640 1 3, 1 4, 10.8ms\n",
            "image 437/1000 /content/data/validation/images/4763.jpg: 640x640 1 1, 1 4, 1 9, 10.8ms\n",
            "image 438/1000 /content/data/validation/images/4770.jpg: 640x640 2 2s, 1 6, 1 8, 10.7ms\n",
            "image 439/1000 /content/data/validation/images/4777.jpg: 640x640 1 0, 1 2, 1 8, 10.7ms\n",
            "image 440/1000 /content/data/validation/images/4785.jpg: 640x640 1 0, 1 1, 1 5, 1 7, 10.8ms\n",
            "image 441/1000 /content/data/validation/images/4817.jpg: 640x640 1 4, 2 5s, 1 6, 1 8, 10.8ms\n",
            "image 442/1000 /content/data/validation/images/4829.jpg: 640x640 1 4, 1 9, 10.7ms\n",
            "image 443/1000 /content/data/validation/images/4833.jpg: 640x640 1 4, 1 6, 1 9, 10.8ms\n",
            "image 444/1000 /content/data/validation/images/4844.jpg: 640x640 1 0, 1 5, 1 6, 13.2ms\n",
            "image 445/1000 /content/data/validation/images/4847.jpg: 640x640 1 3, 1 5, 10.7ms\n",
            "image 446/1000 /content/data/validation/images/486.jpg: 640x640 1 0, 1 2, 1 3, 10.9ms\n",
            "image 447/1000 /content/data/validation/images/4881.jpg: 640x640 1 1, 1 3, 1 4, 1 6, 11.3ms\n",
            "image 448/1000 /content/data/validation/images/4904.jpg: 640x640 1 1, 1 4, 1 5, 1 7, 13.4ms\n",
            "image 449/1000 /content/data/validation/images/4907.jpg: 640x640 1 0, 2 7s, 12.6ms\n",
            "image 450/1000 /content/data/validation/images/4921.jpg: 640x640 1 2, 1 5, 1 6, 13.3ms\n",
            "image 451/1000 /content/data/validation/images/4927.jpg: 640x640 2 2s, 1 8, 13.9ms\n",
            "image 452/1000 /content/data/validation/images/4947.jpg: 640x640 2 5s, 1 6, 1 8, 12.7ms\n",
            "image 453/1000 /content/data/validation/images/4958.jpg: 640x640 1 1, 1 3, 1 9, 11.2ms\n",
            "image 454/1000 /content/data/validation/images/496.jpg: 640x640 1 4, 2 5s, 10.6ms\n",
            "image 455/1000 /content/data/validation/images/4970.jpg: 640x640 1 1, 1 2, 1 8, 1 9, 10.7ms\n",
            "image 456/1000 /content/data/validation/images/4997.jpg: 640x640 1 2, 2 7s, 11.6ms\n",
            "image 457/1000 /content/data/validation/images/5017.jpg: 640x640 1 2, 1 8, 1 9, 10.5ms\n",
            "image 458/1000 /content/data/validation/images/5022.jpg: 640x640 1 0, 2 2s, 1 7, 11.5ms\n",
            "image 459/1000 /content/data/validation/images/5032.jpg: 640x640 1 0, 1 2, 1 4, 1 7, 10.0ms\n",
            "image 460/1000 /content/data/validation/images/5033.jpg: 640x640 1 4, 1 6, 1 9, 10.1ms\n",
            "image 461/1000 /content/data/validation/images/5050.jpg: 640x640 1 2, 1 6, 1 7, 1 8, 10.2ms\n",
            "image 462/1000 /content/data/validation/images/5067.jpg: 640x640 1 3, 1 4, 1 8, 10.1ms\n",
            "image 463/1000 /content/data/validation/images/5068.jpg: 640x640 2 0s, 1 6, 1 7, 1 9, 10.2ms\n",
            "image 464/1000 /content/data/validation/images/5080.jpg: 640x640 1 0, 1 3, 1 4, 1 9, 10.1ms\n",
            "image 465/1000 /content/data/validation/images/5096.jpg: 640x640 1 0, 2 2s, 10.4ms\n",
            "image 466/1000 /content/data/validation/images/5104.jpg: 640x640 2 2s, 1 5, 10.5ms\n",
            "image 467/1000 /content/data/validation/images/5113.jpg: 640x640 2 2s, 1 4, 10.1ms\n",
            "image 468/1000 /content/data/validation/images/5125.jpg: 640x640 1 1, 1 3, 1 9, 10.2ms\n",
            "image 469/1000 /content/data/validation/images/5127.jpg: 640x640 1 3, 1 6, 1 8, 10.1ms\n",
            "image 470/1000 /content/data/validation/images/5137.jpg: 640x640 1 7, 2 9s, 10.2ms\n",
            "image 471/1000 /content/data/validation/images/5154.jpg: 640x640 2 0s, 1 8, 10.2ms\n",
            "image 472/1000 /content/data/validation/images/5161.jpg: 640x640 1 0, 1 3, 2 7s, 10.1ms\n",
            "image 473/1000 /content/data/validation/images/5163.jpg: 640x640 1 1, 1 2, 1 4, 1 8, 12.8ms\n",
            "image 474/1000 /content/data/validation/images/5168.jpg: 640x640 1 1, 2 7s, 1 8, 10.3ms\n",
            "image 475/1000 /content/data/validation/images/5176.jpg: 640x640 1 1, 1 2, 1 9, 11.7ms\n",
            "image 476/1000 /content/data/validation/images/5183.jpg: 640x640 1 0, 1 2, 1 7, 1 8, 10.3ms\n",
            "image 477/1000 /content/data/validation/images/5200.jpg: 640x640 1 1, 1 3, 1 4, 1 8, 10.2ms\n",
            "image 478/1000 /content/data/validation/images/5219.jpg: 640x640 2 4s, 1 9, 12.0ms\n",
            "image 479/1000 /content/data/validation/images/5224.jpg: 640x640 1 2, 1 5, 1 8, 1 9, 10.2ms\n",
            "image 480/1000 /content/data/validation/images/5225.jpg: 640x640 1 1, 1 6, 2 8s, 10.1ms\n",
            "image 481/1000 /content/data/validation/images/5274.jpg: 640x640 1 3, 2 6s, 10.5ms\n",
            "image 482/1000 /content/data/validation/images/5281.jpg: 640x640 1 2, 1 7, 2 8s, 15.3ms\n",
            "image 483/1000 /content/data/validation/images/5283.jpg: 640x640 1 0, 1 2, 1 7, 1 8, 13.8ms\n",
            "image 484/1000 /content/data/validation/images/5289.jpg: 640x640 1 2, 1 6, 1 9, 11.1ms\n",
            "image 485/1000 /content/data/validation/images/5299.jpg: 640x640 1 0, 1 5, 1 8, 15.5ms\n",
            "image 486/1000 /content/data/validation/images/53.jpg: 640x640 1 4, 1 5, 1 6, 1 9, 13.7ms\n",
            "image 487/1000 /content/data/validation/images/5306.jpg: 640x640 1 1, 1 2, 2 5s, 15.2ms\n",
            "image 488/1000 /content/data/validation/images/5309.jpg: 640x640 1 0, 1 5, 1 9, 14.1ms\n",
            "image 489/1000 /content/data/validation/images/5316.jpg: 640x640 1 2, 1 7, 1 9, 15.0ms\n",
            "image 490/1000 /content/data/validation/images/5324.jpg: 640x640 1 0, 1 4, 11.1ms\n",
            "image 491/1000 /content/data/validation/images/5338.jpg: 640x640 1 6, 2 9s, 11.2ms\n",
            "image 492/1000 /content/data/validation/images/5343.jpg: 640x640 1 0, 1 5, 1 8, 1 9, 12.1ms\n",
            "image 493/1000 /content/data/validation/images/5349.jpg: 640x640 1 2, 1 5, 1 6, 1 7, 10.2ms\n",
            "image 494/1000 /content/data/validation/images/5351.jpg: 640x640 1 1, 1 5, 1 8, 10.2ms\n",
            "image 495/1000 /content/data/validation/images/5356.jpg: 640x640 1 4, 1 5, 1 6, 1 9, 13.3ms\n",
            "image 496/1000 /content/data/validation/images/5373.jpg: 640x640 1 0, 1 3, 2 7s, 15.9ms\n",
            "image 497/1000 /content/data/validation/images/5374.jpg: 640x640 1 1, 1 4, 1 6, 14.3ms\n",
            "image 498/1000 /content/data/validation/images/5375.jpg: 640x640 1 1, 1 2, 1 6, 1 8, 15.1ms\n",
            "image 499/1000 /content/data/validation/images/5395.jpg: 640x640 1 0, 2 1s, 1 3, 15.2ms\n",
            "image 500/1000 /content/data/validation/images/5406.jpg: 640x640 1 1, 1 4, 1 8, 19.8ms\n",
            "image 501/1000 /content/data/validation/images/5408.jpg: 640x640 1 5, 1 8, 1 9, 16.7ms\n",
            "image 502/1000 /content/data/validation/images/5420.jpg: 640x640 1 0, 1 2, 1 5, 16.0ms\n",
            "image 503/1000 /content/data/validation/images/5433.jpg: 640x640 1 1, 1 3, 1 7, 13.2ms\n",
            "image 504/1000 /content/data/validation/images/5438.jpg: 640x640 1 2, 1 8, 15.2ms\n",
            "image 505/1000 /content/data/validation/images/5441.jpg: 640x640 1 2, 1 6, 2 7s, 14.8ms\n",
            "image 506/1000 /content/data/validation/images/545.jpg: 640x640 1 2, 2 6s, 1 8, 14.9ms\n",
            "image 507/1000 /content/data/validation/images/5452.jpg: 640x640 2 3s, 1 5, 1 7, 15.5ms\n",
            "image 508/1000 /content/data/validation/images/5457.jpg: 640x640 1 3, 1 4, 1 6, 1 9, 14.9ms\n",
            "image 509/1000 /content/data/validation/images/5458.jpg: 640x640 1 0, 1 3, 1 4, 1 9, 14.9ms\n",
            "image 510/1000 /content/data/validation/images/5487.jpg: 640x640 1 0, 1 3, 1 5, 1 8, 14.9ms\n",
            "image 511/1000 /content/data/validation/images/5512.jpg: 640x640 2 0s, 1 4, 15.2ms\n",
            "image 512/1000 /content/data/validation/images/5520.jpg: 640x640 2 0s, 1 1, 15.1ms\n",
            "image 513/1000 /content/data/validation/images/5523.jpg: 640x640 1 8, 1 9, 15.9ms\n",
            "image 514/1000 /content/data/validation/images/5526.jpg: 640x640 1 1, 1 5, 1 8, 16.5ms\n",
            "image 515/1000 /content/data/validation/images/5536.jpg: 640x640 2 8s, 8.2ms\n",
            "image 516/1000 /content/data/validation/images/5541.jpg: 640x640 1 0, 1 8, 8.1ms\n",
            "image 517/1000 /content/data/validation/images/555.jpg: 640x640 1 0, 1 2, 1 5, 1 8, 8.1ms\n",
            "image 518/1000 /content/data/validation/images/5551.jpg: 640x640 1 5, 1 7, 8.0ms\n",
            "image 519/1000 /content/data/validation/images/5557.jpg: 640x640 1 0, 1 4, 1 7, 1 8, 8.5ms\n",
            "image 520/1000 /content/data/validation/images/5581.jpg: 640x640 2 0s, 1 3, 1 4, 8.0ms\n",
            "image 521/1000 /content/data/validation/images/5587.jpg: 640x640 1 1, 2 2s, 1 6, 8.6ms\n",
            "image 522/1000 /content/data/validation/images/5595.jpg: 640x640 2 8s, 1 9, 7.9ms\n",
            "image 523/1000 /content/data/validation/images/5600.jpg: 640x640 1 2, 2 3s, 1 5, 1 6, 8.5ms\n",
            "image 524/1000 /content/data/validation/images/5617.jpg: 640x640 2 3s, 1 4, 1 5, 8.6ms\n",
            "image 525/1000 /content/data/validation/images/5618.jpg: 640x640 1 0, 1 2, 1 5, 1 6, 8.5ms\n",
            "image 526/1000 /content/data/validation/images/5623.jpg: 640x640 1 1, 1 3, 1 4, 8.5ms\n",
            "image 527/1000 /content/data/validation/images/5637.jpg: 640x640 1 3, 1 7, 1 8, 8.1ms\n",
            "image 528/1000 /content/data/validation/images/5646.jpg: 640x640 1 0, 2 2s, 1 5, 1 8, 8.2ms\n",
            "image 529/1000 /content/data/validation/images/5662.jpg: 640x640 1 0, 1 2, 1 3, 8.3ms\n",
            "image 530/1000 /content/data/validation/images/5674.jpg: 640x640 1 0, 1 1, 1 4, 1 6, 8.2ms\n",
            "image 531/1000 /content/data/validation/images/5680.jpg: 640x640 1 5, 1 8, 1 9, 8.6ms\n",
            "image 532/1000 /content/data/validation/images/5688.jpg: 640x640 1 0, 1 5, 2 6s, 8.3ms\n",
            "image 533/1000 /content/data/validation/images/5698.jpg: 640x640 1 0, 2 1s, 1 3, 8.0ms\n",
            "image 534/1000 /content/data/validation/images/57.jpg: 640x640 1 1, 2 4s, 1 9, 8.1ms\n",
            "image 535/1000 /content/data/validation/images/5707.jpg: 640x640 1 2, 1 3, 1 9, 8.0ms\n",
            "image 536/1000 /content/data/validation/images/5713.jpg: 640x640 1 0, 1 1, 1 3, 1 4, 11.6ms\n",
            "image 537/1000 /content/data/validation/images/5715.jpg: 640x640 2 2s, 1 6, 1 7, 10.2ms\n",
            "image 538/1000 /content/data/validation/images/5720.jpg: 640x640 1 4, 1 7, 8.1ms\n",
            "image 539/1000 /content/data/validation/images/5723.jpg: 640x640 1 7, 1 8, 10.1ms\n",
            "image 540/1000 /content/data/validation/images/5741.jpg: 640x640 1 4, 2 5s, 1 7, 8.4ms\n",
            "image 541/1000 /content/data/validation/images/5742.jpg: 640x640 1 0, 1 5, 1 9, 8.7ms\n",
            "image 542/1000 /content/data/validation/images/5751.jpg: 640x640 1 2, 1 3, 1 7, 8.3ms\n",
            "image 543/1000 /content/data/validation/images/5770.jpg: 640x640 1 1, 2 3s, 8.2ms\n",
            "image 544/1000 /content/data/validation/images/5783.jpg: 640x640 2 2s, 1 4, 1 8, 8.4ms\n",
            "image 545/1000 /content/data/validation/images/5819.jpg: 640x640 1 1, 1 6, 1 8, 8.3ms\n",
            "image 546/1000 /content/data/validation/images/5828.jpg: 640x640 1 5, 1 8, 8.0ms\n",
            "image 547/1000 /content/data/validation/images/5869.jpg: 640x640 1 0, 1 1, 1 9, 8.3ms\n",
            "image 548/1000 /content/data/validation/images/5884.jpg: 640x640 2 0s, 1 7, 8.1ms\n",
            "image 549/1000 /content/data/validation/images/5895.jpg: 640x640 1 2, 1 5, 1 6, 1 7, 10.3ms\n",
            "image 550/1000 /content/data/validation/images/591.jpg: 640x640 1 2, 1 9, 8.3ms\n",
            "image 551/1000 /content/data/validation/images/5945.jpg: 640x640 2 3s, 2 4s, 8.4ms\n",
            "image 552/1000 /content/data/validation/images/5955.jpg: 640x640 2 1s, 1 3, 8.5ms\n",
            "image 553/1000 /content/data/validation/images/6.jpg: 640x640 1 0, 1 1, 1 5, 8.8ms\n",
            "image 554/1000 /content/data/validation/images/6004.jpg: 640x640 1 3, 1 4, 1 5, 7.9ms\n",
            "image 555/1000 /content/data/validation/images/6030.jpg: 640x640 1 1, 1 7, 1 8, 11.0ms\n",
            "image 556/1000 /content/data/validation/images/6037.jpg: 640x640 1 4, 2 6s, 1 7, 8.6ms\n",
            "image 557/1000 /content/data/validation/images/6043.jpg: 640x640 2 1s, 1 2, 1 8, 8.4ms\n",
            "image 558/1000 /content/data/validation/images/6047.jpg: 640x640 1 1, 1 6, 1 9, 8.0ms\n",
            "image 559/1000 /content/data/validation/images/6048.jpg: 640x640 2 3s, 1 5, 1 7, 1 9, 8.1ms\n",
            "image 560/1000 /content/data/validation/images/6054.jpg: 640x640 1 1, 1 6, 1 7, 1 8, 14.9ms\n",
            "image 561/1000 /content/data/validation/images/6061.jpg: 640x640 1 3, 1 5, 1 7, 1 9, 10.7ms\n",
            "image 562/1000 /content/data/validation/images/6073.jpg: 640x640 1 0, 1 5, 1 9, 8.2ms\n",
            "image 563/1000 /content/data/validation/images/6083.jpg: 640x640 1 1, 2 4s, 1 5, 8.1ms\n",
            "image 564/1000 /content/data/validation/images/6089.jpg: 640x640 1 2, 1 3, 1 6, 1 9, 8.4ms\n",
            "image 565/1000 /content/data/validation/images/6092.jpg: 640x640 1 1, 1 2, 1 4, 8.4ms\n",
            "image 566/1000 /content/data/validation/images/6105.jpg: 640x640 2 2s, 8.0ms\n",
            "image 567/1000 /content/data/validation/images/6133.jpg: 640x640 1 0, 1 2, 1 4, 8.1ms\n",
            "image 568/1000 /content/data/validation/images/6146.jpg: 640x640 2 0s, 1 5, 8.4ms\n",
            "image 569/1000 /content/data/validation/images/6161.jpg: 640x640 1 2, 1 6, 1 7, 8.1ms\n",
            "image 570/1000 /content/data/validation/images/6173.jpg: 640x640 1 0, 1 2, 1 7, 8.2ms\n",
            "image 571/1000 /content/data/validation/images/6176.jpg: 640x640 1 7, 8.3ms\n",
            "image 572/1000 /content/data/validation/images/6182.jpg: 640x640 1 0, 1 3, 1 6, 10.4ms\n",
            "image 573/1000 /content/data/validation/images/6188.jpg: 640x640 1 1, 1 5, 1 7, 1 8, 9.2ms\n",
            "image 574/1000 /content/data/validation/images/6200.jpg: 640x640 1 5, 1 8, 2 9s, 8.4ms\n",
            "image 575/1000 /content/data/validation/images/6206.jpg: 640x640 1 1, 1 7, 2 8s, 8.0ms\n",
            "image 576/1000 /content/data/validation/images/6222.jpg: 640x640 1 2, 1 8, 8.0ms\n",
            "image 577/1000 /content/data/validation/images/6226.jpg: 640x640 1 1, 1 2, 1 6, 8.3ms\n",
            "image 578/1000 /content/data/validation/images/624.jpg: 640x640 2 5s, 1 7, 8.1ms\n",
            "image 579/1000 /content/data/validation/images/6241.jpg: 640x640 1 4, 2 7s, 8.1ms\n",
            "image 580/1000 /content/data/validation/images/6250.jpg: 640x640 1 0, 1 2, 2 3s, 1 7, 8.1ms\n",
            "image 581/1000 /content/data/validation/images/6256.jpg: 640x640 2 1s, 1 4, 1 7, 8.2ms\n",
            "image 582/1000 /content/data/validation/images/6271.jpg: 640x640 1 2, 1 4, 1 7, 8.2ms\n",
            "image 583/1000 /content/data/validation/images/6289.jpg: 640x640 2 0s, 1 2, 1 6, 8.9ms\n",
            "image 584/1000 /content/data/validation/images/6290.jpg: 640x640 1 0, 2 5s, 1 7, 8.2ms\n",
            "image 585/1000 /content/data/validation/images/6316.jpg: 640x640 1 0, 1 2, 1 3, 8.4ms\n",
            "image 586/1000 /content/data/validation/images/6317.jpg: 640x640 1 3, 1 4, 1 7, 8.1ms\n",
            "image 587/1000 /content/data/validation/images/6320.jpg: 640x640 1 0, 1 5, 11.2ms\n",
            "image 588/1000 /content/data/validation/images/6349.jpg: 640x640 1 2, 1 4, 2 9s, 8.0ms\n",
            "image 589/1000 /content/data/validation/images/6350.jpg: 640x640 1 2, 2 3s, 1 7, 8.5ms\n",
            "image 590/1000 /content/data/validation/images/6361.jpg: 640x640 1 3, 1 5, 1 7, 1 9, 8.1ms\n",
            "image 591/1000 /content/data/validation/images/6395.jpg: 640x640 1 1, 1 2, 1 6, 8.2ms\n",
            "image 592/1000 /content/data/validation/images/6401.jpg: 640x640 1 1, 1 5, 1 8, 11.5ms\n",
            "image 593/1000 /content/data/validation/images/6411.jpg: 640x640 1 1, 2 7s, 8.6ms\n",
            "image 594/1000 /content/data/validation/images/6445.jpg: 640x640 1 0, 1 2, 1 4, 1 8, 8.6ms\n",
            "image 595/1000 /content/data/validation/images/6462.jpg: 640x640 1 1, 1 4, 1 7, 8.2ms\n",
            "image 596/1000 /content/data/validation/images/6481.jpg: 640x640 1 7, 1 8, 8.7ms\n",
            "image 597/1000 /content/data/validation/images/6498.jpg: 640x640 2 4s, 1 8, 8.2ms\n",
            "image 598/1000 /content/data/validation/images/6507.jpg: 640x640 2 4s, 1 7, 1 9, 8.3ms\n",
            "image 599/1000 /content/data/validation/images/6510.jpg: 640x640 1 1, 1 7, 1 9, 8.1ms\n",
            "image 600/1000 /content/data/validation/images/6513.jpg: 640x640 1 0, 2 1s, 1 5, 9.8ms\n",
            "image 601/1000 /content/data/validation/images/6516.jpg: 640x640 1 1, 1 3, 1 9, 8.7ms\n",
            "image 602/1000 /content/data/validation/images/6517.jpg: 640x640 1 5, 1 6, 2 7s, 7.8ms\n",
            "image 603/1000 /content/data/validation/images/6522.jpg: 640x640 1 3, 2 4s, 1 9, 8.0ms\n",
            "image 604/1000 /content/data/validation/images/6523.jpg: 640x640 1 3, 1 6, 1 8, 7.9ms\n",
            "image 605/1000 /content/data/validation/images/6528.jpg: 640x640 1 1, 1 7, 1 8, 8.0ms\n",
            "image 606/1000 /content/data/validation/images/653.jpg: 640x640 1 2, 1 5, 1 6, 9.3ms\n",
            "image 607/1000 /content/data/validation/images/6531.jpg: 640x640 2 1s, 1 4, 1 6, 10.7ms\n",
            "image 608/1000 /content/data/validation/images/655.jpg: 640x640 1 1, 1 2, 1 4, 8.0ms\n",
            "image 609/1000 /content/data/validation/images/6562.jpg: 640x640 1 3, 1 6, 1 9, 8.0ms\n",
            "image 610/1000 /content/data/validation/images/6569.jpg: 640x640 2 1s, 1 5, 1 8, 8.1ms\n",
            "image 611/1000 /content/data/validation/images/6601.jpg: 640x640 1 1, 1 2, 1 3, 8.8ms\n",
            "image 612/1000 /content/data/validation/images/6605.jpg: 640x640 1 2, 1 7, 7.8ms\n",
            "image 613/1000 /content/data/validation/images/6612.jpg: 640x640 2 0s, 1 3, 8.0ms\n",
            "image 614/1000 /content/data/validation/images/6630.jpg: 640x640 1 0, 1 1, 1 8, 1 9, 8.9ms\n",
            "image 615/1000 /content/data/validation/images/6644.jpg: 640x640 1 3, 1 5, 1 6, 8.0ms\n",
            "image 616/1000 /content/data/validation/images/6649.jpg: 640x640 1 2, 2 4s, 8.2ms\n",
            "image 617/1000 /content/data/validation/images/6654.jpg: 640x640 2 1s, 1 6, 1 9, 7.8ms\n",
            "image 618/1000 /content/data/validation/images/6666.jpg: 640x640 1 4, 1 6, 1 7, 8.3ms\n",
            "image 619/1000 /content/data/validation/images/6670.jpg: 640x640 1 0, 2 2s, 1 6, 7.8ms\n",
            "image 620/1000 /content/data/validation/images/6672.jpg: 640x640 1 4, 7.9ms\n",
            "image 621/1000 /content/data/validation/images/6673.jpg: 640x640 1 6, 2 7s, 1 8, 8.2ms\n",
            "image 622/1000 /content/data/validation/images/6698.jpg: 640x640 1 1, 2 5s, 1 8, 9.5ms\n",
            "image 623/1000 /content/data/validation/images/6711.jpg: 640x640 1 2, 1 3, 1 7, 7.9ms\n",
            "image 624/1000 /content/data/validation/images/6716.jpg: 640x640 1 4, 1 8, 1 9, 7.9ms\n",
            "image 625/1000 /content/data/validation/images/6729.jpg: 640x640 1 4, 1 5, 1 9, 8.1ms\n",
            "image 626/1000 /content/data/validation/images/6731.jpg: 640x640 1 3, 1 6, 1 8, 8.1ms\n",
            "image 627/1000 /content/data/validation/images/6734.jpg: 640x640 2 2s, 2 9s, 18.7ms\n",
            "image 628/1000 /content/data/validation/images/6736.jpg: 640x640 1 1, 1 3, 1 6, 8.3ms\n",
            "image 629/1000 /content/data/validation/images/6743.jpg: 640x640 1 0, 1 2, 1 6, 7.9ms\n",
            "image 630/1000 /content/data/validation/images/6763.jpg: 640x640 1 0, 1 3, 1 7, 8.0ms\n",
            "image 631/1000 /content/data/validation/images/6767.jpg: 640x640 2 6s, 1 9, 7.8ms\n",
            "image 632/1000 /content/data/validation/images/6768.jpg: 640x640 1 0, 1 4, 1 7, 7.8ms\n",
            "image 633/1000 /content/data/validation/images/6777.jpg: 640x640 1 4, 1 7, 1 8, 1 9, 8.1ms\n",
            "image 634/1000 /content/data/validation/images/6781.jpg: 640x640 2 5s, 1 6, 1 9, 7.8ms\n",
            "image 635/1000 /content/data/validation/images/6787.jpg: 640x640 1 0, 1 4, 2 9s, 8.0ms\n",
            "image 636/1000 /content/data/validation/images/6788.jpg: 640x640 1 4, 1 8, 1 9, 8.0ms\n",
            "image 637/1000 /content/data/validation/images/6797.jpg: 640x640 1 2, 1 4, 1 6, 1 7, 9.5ms\n",
            "image 638/1000 /content/data/validation/images/681.jpg: 640x640 2 4s, 1 6, 1 8, 7.8ms\n",
            "image 639/1000 /content/data/validation/images/6810.jpg: 640x640 1 4, 1 5, 1 9, 8.3ms\n",
            "image 640/1000 /content/data/validation/images/6817.jpg: 640x640 1 4, 1 5, 1 6, 1 7, 8.2ms\n",
            "image 641/1000 /content/data/validation/images/6824.jpg: 640x640 1 2, 1 4, 1 7, 8.6ms\n",
            "image 642/1000 /content/data/validation/images/6850.jpg: 640x640 1 0, 2 9s, 8.1ms\n",
            "image 643/1000 /content/data/validation/images/6853.jpg: 640x640 1 0, 1 1, 1 3, 1 5, 1 6, 8.2ms\n",
            "image 644/1000 /content/data/validation/images/6858.jpg: 640x640 3 3s, 1 8, 8.3ms\n",
            "image 645/1000 /content/data/validation/images/6863.jpg: 640x640 3 3s, 1 7, 7.8ms\n",
            "image 646/1000 /content/data/validation/images/6882.jpg: 640x640 1 2, 1 7, 1 9, 10.4ms\n",
            "image 647/1000 /content/data/validation/images/6900.jpg: 640x640 1 1, 1 6, 9.2ms\n",
            "image 648/1000 /content/data/validation/images/6912.jpg: 640x640 2 2s, 1 3, 1 7, 8.5ms\n",
            "image 649/1000 /content/data/validation/images/6920.jpg: 640x640 1 3, 2 9s, 8.3ms\n",
            "image 650/1000 /content/data/validation/images/6926.jpg: 640x640 2 1s, 1 3, 1 6, 8.1ms\n",
            "image 651/1000 /content/data/validation/images/6928.jpg: 640x640 2 0s, 1 1, 1 2, 1 5, 9.5ms\n",
            "image 652/1000 /content/data/validation/images/6937.jpg: 640x640 1 0, 1 1, 1 2, 1 7, 9.7ms\n",
            "image 653/1000 /content/data/validation/images/6949.jpg: 640x640 1 3, 1 4, 1 9, 9.4ms\n",
            "image 654/1000 /content/data/validation/images/6950.jpg: 640x640 1 1, 1 8, 1 9, 9.4ms\n",
            "image 655/1000 /content/data/validation/images/6955.jpg: 640x640 1 0, 2 1s, 1 4, 9.3ms\n",
            "image 656/1000 /content/data/validation/images/6972.jpg: 640x640 1 0, 1 4, 1 6, 9.3ms\n",
            "image 657/1000 /content/data/validation/images/6979.jpg: 640x640 1 0, 1 2, 1 5, 8.1ms\n",
            "image 658/1000 /content/data/validation/images/6980.jpg: 640x640 1 5, 1 6, 1 7, 8.1ms\n",
            "image 659/1000 /content/data/validation/images/6984.jpg: 640x640 1 1, 1 2, 1 5, 1 9, 9.5ms\n",
            "image 660/1000 /content/data/validation/images/7025.jpg: 640x640 1 0, 1 2, 1 3, 1 7, 8.1ms\n",
            "image 661/1000 /content/data/validation/images/7044.jpg: 640x640 1 2, 1 5, 1 9, 8.0ms\n",
            "image 662/1000 /content/data/validation/images/706.jpg: 640x640 1 0, 1 3, 1 4, 1 5, 1 8, 8.1ms\n",
            "image 663/1000 /content/data/validation/images/7061.jpg: 640x640 1 3, 1 7, 1 9, 8.7ms\n",
            "image 664/1000 /content/data/validation/images/7062.jpg: 640x640 1 0, 1 1, 8.1ms\n",
            "image 665/1000 /content/data/validation/images/7072.jpg: 640x640 2 2s, 1 4, 1 8, 8.6ms\n",
            "image 666/1000 /content/data/validation/images/7076.jpg: 640x640 1 7, 2 8s, 8.6ms\n",
            "image 667/1000 /content/data/validation/images/7079.jpg: 640x640 1 2, 1 8, 8.6ms\n",
            "image 668/1000 /content/data/validation/images/709.jpg: 640x640 1 0, 1 1, 1 3, 8.1ms\n",
            "image 669/1000 /content/data/validation/images/7107.jpg: 640x640 1 2, 1 5, 1 6, 8.2ms\n",
            "image 670/1000 /content/data/validation/images/7119.jpg: 640x640 1 1, 1 8, 8.8ms\n",
            "image 671/1000 /content/data/validation/images/7127.jpg: 640x640 2 0s, 1 4, 10.8ms\n",
            "image 672/1000 /content/data/validation/images/7129.jpg: 640x640 1 0, 1 3, 1 8, 1 9, 8.4ms\n",
            "image 673/1000 /content/data/validation/images/7131.jpg: 640x640 1 1, 1 2, 1 8, 8.1ms\n",
            "image 674/1000 /content/data/validation/images/7145.jpg: 640x640 1 1, 1 4, 1 6, 8.1ms\n",
            "image 675/1000 /content/data/validation/images/7158.jpg: 640x640 2 0s, 2 8s, 8.4ms\n",
            "image 676/1000 /content/data/validation/images/7163.jpg: 640x640 1 3, 1 6, 1 9, 8.2ms\n",
            "image 677/1000 /content/data/validation/images/7184.jpg: 640x640 1 2, 1 7, 1 8, 8.1ms\n",
            "image 678/1000 /content/data/validation/images/7187.jpg: 640x640 1 0, 1 2, 12.4ms\n",
            "image 679/1000 /content/data/validation/images/7223.jpg: 640x640 1 1, 1 2, 1 9, 8.4ms\n",
            "image 680/1000 /content/data/validation/images/7230.jpg: 640x640 1 2, 1 4, 1 6, 1 9, 8.3ms\n",
            "image 681/1000 /content/data/validation/images/7240.jpg: 640x640 1 1, 1 4, 1 7, 1 9, 8.1ms\n",
            "image 682/1000 /content/data/validation/images/7245.jpg: 640x640 1 4, 1 8, 1 9, 8.5ms\n",
            "image 683/1000 /content/data/validation/images/7261.jpg: 640x640 1 2, 1 3, 8.2ms\n",
            "image 684/1000 /content/data/validation/images/7272.jpg: 640x640 1 0, 1 4, 2 5s, 8.0ms\n",
            "image 685/1000 /content/data/validation/images/7276.jpg: 640x640 1 0, 1 4, 1 5, 8.2ms\n",
            "image 686/1000 /content/data/validation/images/7277.jpg: 640x640 1 1, 1 4, 1 7, 9.6ms\n",
            "image 687/1000 /content/data/validation/images/7280.jpg: 640x640 1 1, 1 3, 1 4, 8.1ms\n",
            "image 688/1000 /content/data/validation/images/7283.jpg: 640x640 1 3, 1 4, 1 7, 1 8, 9.3ms\n",
            "image 689/1000 /content/data/validation/images/7311.jpg: 640x640 1 1, 1 5, 1 7, 8.2ms\n",
            "image 690/1000 /content/data/validation/images/7317.jpg: 640x640 1 1, 1 6, 1 8, 8.7ms\n",
            "image 691/1000 /content/data/validation/images/7318.jpg: 640x640 1 0, 1 1, 1 6, 10.5ms\n",
            "image 692/1000 /content/data/validation/images/7327.jpg: 640x640 2 4s, 1 5, 8.2ms\n",
            "image 693/1000 /content/data/validation/images/7332.jpg: 640x640 1 0, 1 1, 1 3, 1 9, 15.1ms\n",
            "image 694/1000 /content/data/validation/images/7333.jpg: 640x640 1 1, 1 4, 8.5ms\n",
            "image 695/1000 /content/data/validation/images/7340.jpg: 640x640 1 1, 1 5, 1 7, 1 9, 8.0ms\n",
            "image 696/1000 /content/data/validation/images/7362.jpg: 640x640 1 2, 1 4, 1 6, 1 7, 7.9ms\n",
            "image 697/1000 /content/data/validation/images/7399.jpg: 640x640 1 0, 1 4, 1 8, 10.9ms\n",
            "image 698/1000 /content/data/validation/images/74.jpg: 640x640 1 2, 1 3, 1 6, 1 7, 8.2ms\n",
            "image 699/1000 /content/data/validation/images/7402.jpg: 640x640 1 1, 1 5, 8.2ms\n",
            "image 700/1000 /content/data/validation/images/7405.jpg: 640x640 1 2, 1 7, 1 8, 1 9, 8.0ms\n",
            "image 701/1000 /content/data/validation/images/7408.jpg: 640x640 1 2, 2 6s, 8.1ms\n",
            "image 702/1000 /content/data/validation/images/7414.jpg: 640x640 2 2s, 1 3, 8.2ms\n",
            "image 703/1000 /content/data/validation/images/7418.jpg: 640x640 1 0, 1 4, 1 6, 1 7, 7.9ms\n",
            "image 704/1000 /content/data/validation/images/7421.jpg: 640x640 1 1, 1 4, 1 9, 8.3ms\n",
            "image 705/1000 /content/data/validation/images/7449.jpg: 640x640 1 0, 1 1, 1 3, 1 5, 7.9ms\n",
            "image 706/1000 /content/data/validation/images/7453.jpg: 640x640 1 4, 1 7, 1 8, 8.1ms\n",
            "image 707/1000 /content/data/validation/images/7454.jpg: 640x640 1 1, 1 4, 8.3ms\n",
            "image 708/1000 /content/data/validation/images/746.jpg: 640x640 1 4, 1 5, 8.0ms\n",
            "image 709/1000 /content/data/validation/images/7473.jpg: 640x640 1 2, 1 3, 1 9, 8.0ms\n",
            "image 710/1000 /content/data/validation/images/7486.jpg: 640x640 2 2s, 1 5, 8.1ms\n",
            "image 711/1000 /content/data/validation/images/7492.jpg: 640x640 1 3, 1 7, 1 9, 8.1ms\n",
            "image 712/1000 /content/data/validation/images/7493.jpg: 640x640 1 3, 1 6, 8.1ms\n",
            "image 713/1000 /content/data/validation/images/7495.jpg: 640x640 2 1s, 1 2, 1 6, 8.2ms\n",
            "image 714/1000 /content/data/validation/images/7505.jpg: 640x640 1 3, 1 7, 1 9, 8.5ms\n",
            "image 715/1000 /content/data/validation/images/7509.jpg: 640x640 1 0, 1 3, 1 5, 1 7, 7.8ms\n",
            "image 716/1000 /content/data/validation/images/7515.jpg: 640x640 1 0, 2 8s, 7.8ms\n",
            "image 717/1000 /content/data/validation/images/7519.jpg: 640x640 2 2s, 1 8, 8.5ms\n",
            "image 718/1000 /content/data/validation/images/7528.jpg: 640x640 1 0, 1 1, 1 2, 1 3, 8.5ms\n",
            "image 719/1000 /content/data/validation/images/7529.jpg: 640x640 2 7s, 1 9, 10.9ms\n",
            "image 720/1000 /content/data/validation/images/7548.jpg: 640x640 1 0, 1 3, 1 6, 8.5ms\n",
            "image 721/1000 /content/data/validation/images/7577.jpg: 640x640 1 2, 1 6, 8.3ms\n",
            "image 722/1000 /content/data/validation/images/7579.jpg: 640x640 2 4s, 1 9, 8.1ms\n",
            "image 723/1000 /content/data/validation/images/758.jpg: 640x640 1 2, 1 4, 1 5, 1 8, 8.0ms\n",
            "image 724/1000 /content/data/validation/images/7589.jpg: 640x640 1 0, 1 3, 1 5, 1 6, 8.0ms\n",
            "image 725/1000 /content/data/validation/images/7607.jpg: 640x640 1 2, 1 3, 1 8, 8.1ms\n",
            "image 726/1000 /content/data/validation/images/7612.jpg: 640x640 1 2, 1 3, 2 7s, 8.2ms\n",
            "image 727/1000 /content/data/validation/images/7622.jpg: 640x640 2 1s, 1 3, 1 5, 8.5ms\n",
            "image 728/1000 /content/data/validation/images/7640.jpg: 640x640 1 0, 1 3, 2 5s, 7.9ms\n",
            "image 729/1000 /content/data/validation/images/7644.jpg: 640x640 1 4, 2 7s, 8.1ms\n",
            "image 730/1000 /content/data/validation/images/7650.jpg: 640x640 1 0, 1 1, 2 3s, 10.6ms\n",
            "image 731/1000 /content/data/validation/images/7668.jpg: 640x640 1 1, 1 2, 1 4, 1 6, 8.3ms\n",
            "image 732/1000 /content/data/validation/images/767.jpg: 640x640 1 0, 1 3, 1 5, 1 7, 8.4ms\n",
            "image 733/1000 /content/data/validation/images/7671.jpg: 640x640 1 1, 1 3, 1 8, 8.1ms\n",
            "image 734/1000 /content/data/validation/images/7682.jpg: 640x640 1 0, 1 2, 2 8s, 7.9ms\n",
            "image 735/1000 /content/data/validation/images/7687.jpg: 640x640 2 0s, 1 7, 8.0ms\n",
            "image 736/1000 /content/data/validation/images/7697.jpg: 640x640 1 2, 1 7, 1 8, 1 9, 8.0ms\n",
            "image 737/1000 /content/data/validation/images/770.jpg: 640x640 1 1, 1 5, 1 6, 8.2ms\n",
            "image 738/1000 /content/data/validation/images/7702.jpg: 640x640 3 9s, 8.1ms\n",
            "image 739/1000 /content/data/validation/images/7710.jpg: 640x640 1 0, 1 3, 1 8, 8.0ms\n",
            "image 740/1000 /content/data/validation/images/7714.jpg: 640x640 1 2, 1 3, 1 7, 1 9, 8.1ms\n",
            "image 741/1000 /content/data/validation/images/7715.jpg: 640x640 1 1, 1 5, 1 6, 8.1ms\n",
            "image 742/1000 /content/data/validation/images/7723.jpg: 640x640 1 4, 1 7, 1 9, 8.3ms\n",
            "image 743/1000 /content/data/validation/images/7732.jpg: 640x640 1 0, 1 1, 1 2, 1 6, 1 9, 10.2ms\n",
            "image 744/1000 /content/data/validation/images/7733.jpg: 640x640 1 5, 1 6, 1 9, 8.0ms\n",
            "image 745/1000 /content/data/validation/images/7753.jpg: 640x640 1 0, 2 5s, 1 8, 8.2ms\n",
            "image 746/1000 /content/data/validation/images/7758.jpg: 640x640 3 5s, 8.5ms\n",
            "image 747/1000 /content/data/validation/images/7759.jpg: 640x640 2 4s, 1 6, 8.6ms\n",
            "image 748/1000 /content/data/validation/images/7764.jpg: 640x640 1 1, 1 7, 8.0ms\n",
            "image 749/1000 /content/data/validation/images/7767.jpg: 640x640 1 1, 1 2, 1 3, 1 9, 8.0ms\n",
            "image 750/1000 /content/data/validation/images/778.jpg: 640x640 1 1, 1 2, 1 5, 10.8ms\n",
            "image 751/1000 /content/data/validation/images/7784.jpg: 640x640 1 4, 2 5s, 1 9, 8.1ms\n",
            "image 752/1000 /content/data/validation/images/780.jpg: 640x640 2 1s, 1 6, 1 7, 8.0ms\n",
            "image 753/1000 /content/data/validation/images/7812.jpg: 640x640 1 0, 1 1, 1 8, 1 9, 8.3ms\n",
            "image 754/1000 /content/data/validation/images/7813.jpg: 640x640 1 0, 1 7, 1 9, 8.1ms\n",
            "image 755/1000 /content/data/validation/images/7826.jpg: 640x640 1 4, 1 5, 1 6, 14.9ms\n",
            "image 756/1000 /content/data/validation/images/786.jpg: 640x640 1 0, 1 1, 1 5, 1 7, 8.6ms\n",
            "image 757/1000 /content/data/validation/images/7874.jpg: 640x640 1 0, 2 4s, 8.1ms\n",
            "image 758/1000 /content/data/validation/images/7883.jpg: 640x640 1 0, 1 3, 1 4, 8.1ms\n",
            "image 759/1000 /content/data/validation/images/7894.jpg: 640x640 2 0s, 1 9, 11.5ms\n",
            "image 760/1000 /content/data/validation/images/7920.jpg: 640x640 1 2, 1 3, 1 4, 1 5, 1 6, 15.6ms\n",
            "image 761/1000 /content/data/validation/images/7921.jpg: 640x640 1 1, 2 8s, 8.1ms\n",
            "image 762/1000 /content/data/validation/images/7948.jpg: 640x640 1 0, 1 3, 2 8s, 8.4ms\n",
            "image 763/1000 /content/data/validation/images/7963.jpg: 640x640 1 1, 1 4, 1 5, 7.9ms\n",
            "image 764/1000 /content/data/validation/images/7964.jpg: 640x640 1 3, 1 5, 1 8, 8.0ms\n",
            "image 765/1000 /content/data/validation/images/7977.jpg: 640x640 2 8s, 2 9s, 9.9ms\n",
            "image 766/1000 /content/data/validation/images/8006.jpg: 640x640 1 4, 1 6, 1 8, 8.1ms\n",
            "image 767/1000 /content/data/validation/images/8007.jpg: 640x640 1 2, 1 3, 2 7s, 8.4ms\n",
            "image 768/1000 /content/data/validation/images/8028.jpg: 640x640 2 0s, 2 1s, 8.0ms\n",
            "image 769/1000 /content/data/validation/images/804.jpg: 640x640 1 0, 1 4, 1 7, 8.0ms\n",
            "image 770/1000 /content/data/validation/images/8054.jpg: 640x640 1 1, 1 3, 1 6, 8.1ms\n",
            "image 771/1000 /content/data/validation/images/8059.jpg: 640x640 2 6s, 1 9, 8.5ms\n",
            "image 772/1000 /content/data/validation/images/8067.jpg: 640x640 1 3, 2 8s, 8.0ms\n",
            "image 773/1000 /content/data/validation/images/807.jpg: 640x640 2 2s, 1 6, 1 9, 7.9ms\n",
            "image 774/1000 /content/data/validation/images/8070.jpg: 640x640 1 1, 1 3, 1 8, 8.2ms\n",
            "image 775/1000 /content/data/validation/images/8076.jpg: 640x640 1 6, 1 7, 1 8, 8.2ms\n",
            "image 776/1000 /content/data/validation/images/8085.jpg: 640x640 1 4, 1 5, 1 9, 9.1ms\n",
            "image 777/1000 /content/data/validation/images/8096.jpg: 640x640 2 0s, 1 4, 1 6, 8.1ms\n",
            "image 778/1000 /content/data/validation/images/810.jpg: 640x640 1 6, 1 8, 8.3ms\n",
            "image 779/1000 /content/data/validation/images/8103.jpg: 640x640 1 1, 1 4, 1 5, 8.6ms\n",
            "image 780/1000 /content/data/validation/images/8121.jpg: 640x640 1 0, 1 3, 1 4, 1 6, 8.2ms\n",
            "image 781/1000 /content/data/validation/images/8131.jpg: 640x640 1 1, 2 2s, 8.3ms\n",
            "image 782/1000 /content/data/validation/images/8139.jpg: 640x640 1 0, 1 1, 1 8, 10.9ms\n",
            "image 783/1000 /content/data/validation/images/8161.jpg: 640x640 1 1, 1 3, 2 8s, 8.4ms\n",
            "image 784/1000 /content/data/validation/images/8165.jpg: 640x640 1 5, 1 9, 8.2ms\n",
            "image 785/1000 /content/data/validation/images/817.jpg: 640x640 1 0, 1 1, 1 2, 1 8, 8.5ms\n",
            "image 786/1000 /content/data/validation/images/8190.jpg: 640x640 1 0, 1 3, 1 5, 8.1ms\n",
            "image 787/1000 /content/data/validation/images/8198.jpg: 640x640 1 7, 1 9, 8.5ms\n",
            "image 788/1000 /content/data/validation/images/8218.jpg: 640x640 1 1, 1 5, 8.4ms\n",
            "image 789/1000 /content/data/validation/images/8225.jpg: 640x640 1 4, 1 6, 1 8, 8.1ms\n",
            "image 790/1000 /content/data/validation/images/8229.jpg: 640x640 1 2, 1 9, 8.3ms\n",
            "image 791/1000 /content/data/validation/images/8231.jpg: 640x640 1 1, 1 3, 1 5, 1 9, 8.5ms\n",
            "image 792/1000 /content/data/validation/images/8235.jpg: 640x640 1 3, 1 4, 1 8, 1 9, 8.0ms\n",
            "image 793/1000 /content/data/validation/images/826.jpg: 640x640 1 4, 1 8, 1 9, 8.2ms\n",
            "image 794/1000 /content/data/validation/images/8262.jpg: 640x640 1 0, 1 2, 1 4, 1 8, 8.1ms\n",
            "image 795/1000 /content/data/validation/images/827.jpg: 640x640 1 2, 1 5, 1 8, 1 9, 8.5ms\n",
            "image 796/1000 /content/data/validation/images/8271.jpg: 640x640 1 4, 1 9, 8.0ms\n",
            "image 797/1000 /content/data/validation/images/8274.jpg: 640x640 1 0, 1 1, 1 6, 8.0ms\n",
            "image 798/1000 /content/data/validation/images/8280.jpg: 640x640 1 4, 1 7, 1 9, 8.1ms\n",
            "image 799/1000 /content/data/validation/images/8285.jpg: 640x640 1 0, 1 7, 1 8, 8.0ms\n",
            "image 800/1000 /content/data/validation/images/829.jpg: 640x640 1 1, 1 2, 1 6, 11.1ms\n",
            "image 801/1000 /content/data/validation/images/8295.jpg: 640x640 1 3, 1 5, 1 8, 8.0ms\n",
            "image 802/1000 /content/data/validation/images/8297.jpg: 640x640 1 3, 1 7, 1 8, 8.4ms\n",
            "image 803/1000 /content/data/validation/images/8320.jpg: 640x640 1 4, 2 5s, 1 9, 8.2ms\n",
            "image 804/1000 /content/data/validation/images/8330.jpg: 640x640 2 1s, 1 8, 8.0ms\n",
            "image 805/1000 /content/data/validation/images/8332.jpg: 640x640 2 1s, 1 4, 7.9ms\n",
            "image 806/1000 /content/data/validation/images/8344.jpg: 640x640 1 1, 1 4, 1 6, 8.2ms\n",
            "image 807/1000 /content/data/validation/images/8357.jpg: 640x640 1 1, 1 6, 8.2ms\n",
            "image 808/1000 /content/data/validation/images/8361.jpg: 640x640 1 1, 1 4, 1 5, 1 7, 8.6ms\n",
            "image 809/1000 /content/data/validation/images/8366.jpg: 640x640 1 4, 1 6, 1 7, 1 8, 8.1ms\n",
            "image 810/1000 /content/data/validation/images/8367.jpg: 640x640 1 6, 1 7, 1 9, 9.0ms\n",
            "image 811/1000 /content/data/validation/images/8369.jpg: 640x640 1 0, 1 7, 1 8, 1 9, 8.1ms\n",
            "image 812/1000 /content/data/validation/images/8396.jpg: 640x640 1 0, 1 5, 1 7, 8.0ms\n",
            "image 813/1000 /content/data/validation/images/841.jpg: 640x640 1 1, 1 6, 1 8, 8.2ms\n",
            "image 814/1000 /content/data/validation/images/8410.jpg: 640x640 1 4, 1 6, 1 9, 8.2ms\n",
            "image 815/1000 /content/data/validation/images/8429.jpg: 640x640 1 1, 1 4, 1 5, 1 7, 9.0ms\n",
            "image 816/1000 /content/data/validation/images/844.jpg: 640x640 1 2, 1 5, 1 7, 8.1ms\n",
            "image 817/1000 /content/data/validation/images/8445.jpg: 640x640 1 0, 1 1, 1 2, 1 5, 8.1ms\n",
            "image 818/1000 /content/data/validation/images/8446.jpg: 640x640 1 2, 2 5s, 1 7, 8.3ms\n",
            "image 819/1000 /content/data/validation/images/8470.jpg: 640x640 1 0, 1 2, 1 3, 1 9, 8.3ms\n",
            "image 820/1000 /content/data/validation/images/8475.jpg: 640x640 1 2, 1 3, 1 9, 7.8ms\n",
            "image 821/1000 /content/data/validation/images/8479.jpg: 640x640 1 1, 1 2, 1 4, 2 5s, 10.0ms\n",
            "image 822/1000 /content/data/validation/images/8484.jpg: 640x640 1 7, 1 8, 1 9, 8.1ms\n",
            "image 823/1000 /content/data/validation/images/8488.jpg: 640x640 1 0, 1 2, 1 9, 8.3ms\n",
            "image 824/1000 /content/data/validation/images/849.jpg: 640x640 1 0, 1 7, 1 8, 8.4ms\n",
            "image 825/1000 /content/data/validation/images/8509.jpg: 640x640 1 0, 1 1, 1 4, 1 5, 8.3ms\n",
            "image 826/1000 /content/data/validation/images/8511.jpg: 640x640 1 4, 2 7s, 1 9, 13.5ms\n",
            "image 827/1000 /content/data/validation/images/8517.jpg: 640x640 1 6, 1 7, 1 8, 13.5ms\n",
            "image 828/1000 /content/data/validation/images/8520.jpg: 640x640 1 5, 1 6, 1 8, 8.0ms\n",
            "image 829/1000 /content/data/validation/images/8523.jpg: 640x640 1 0, 1 4, 1 6, 1 8, 8.2ms\n",
            "image 830/1000 /content/data/validation/images/8526.jpg: 640x640 1 3, 1 6, 10.3ms\n",
            "image 831/1000 /content/data/validation/images/8535.jpg: 640x640 1 0, 2 8s, 8.2ms\n",
            "image 832/1000 /content/data/validation/images/8538.jpg: 640x640 1 1, 1 5, 1 7, 1 9, 8.2ms\n",
            "image 833/1000 /content/data/validation/images/8546.jpg: 640x640 2 0s, 1 6, 8.0ms\n",
            "image 834/1000 /content/data/validation/images/8547.jpg: 640x640 1 1, 1 6, 1 8, 1 9, 8.1ms\n",
            "image 835/1000 /content/data/validation/images/8555.jpg: 640x640 1 6, 1 8, 1 9, 8.1ms\n",
            "image 836/1000 /content/data/validation/images/8557.jpg: 640x640 2 3s, 1 5, 8.2ms\n",
            "image 837/1000 /content/data/validation/images/856.jpg: 640x640 2 3s, 1 7, 8.3ms\n",
            "image 838/1000 /content/data/validation/images/8572.jpg: 640x640 1 4, 1 6, 1 7, 16.0ms\n",
            "image 839/1000 /content/data/validation/images/8589.jpg: 640x640 2 1s, 1 2, 1 7, 8.2ms\n",
            "image 840/1000 /content/data/validation/images/8597.jpg: 640x640 1 0, 1 3, 1 9, 9.5ms\n",
            "image 841/1000 /content/data/validation/images/8600.jpg: 640x640 1 4, 1 7, 7.9ms\n",
            "image 842/1000 /content/data/validation/images/8602.jpg: 640x640 1 0, 1 1, 1 7, 19.4ms\n",
            "image 843/1000 /content/data/validation/images/861.jpg: 640x640 1 1, 1 3, 1 4, 1 8, 13.5ms\n",
            "image 844/1000 /content/data/validation/images/8622.jpg: 640x640 1 3, 1 4, 8.1ms\n",
            "image 845/1000 /content/data/validation/images/8630.jpg: 640x640 1 0, 1 5, 1 6, 1 9, 8.3ms\n",
            "image 846/1000 /content/data/validation/images/8679.jpg: 640x640 1 1, 1 3, 1 8, 8.1ms\n",
            "image 847/1000 /content/data/validation/images/8681.jpg: 640x640 2 0s, 2 1s, 8.2ms\n",
            "image 848/1000 /content/data/validation/images/8690.jpg: 640x640 1 7, 1 8, 8.1ms\n",
            "image 849/1000 /content/data/validation/images/8696.jpg: 640x640 1 2, 2 4s, 1 6, 8.2ms\n",
            "image 850/1000 /content/data/validation/images/8703.jpg: 640x640 1 0, 1 5, 1 7, 1 8, 7.9ms\n",
            "image 851/1000 /content/data/validation/images/8706.jpg: 640x640 1 0, 1 4, 1 5, 1 9, 8.1ms\n",
            "image 852/1000 /content/data/validation/images/8707.jpg: 640x640 1 2, 1 4, 1 5, 1 8, 8.1ms\n",
            "image 853/1000 /content/data/validation/images/873.jpg: 640x640 1 2, 1 5, 1 9, 8.0ms\n",
            "image 854/1000 /content/data/validation/images/8731.jpg: 640x640 2 2s, 1 3, 1 5, 8.1ms\n",
            "image 855/1000 /content/data/validation/images/8745.jpg: 640x640 1 3, 1 9, 8.2ms\n",
            "image 856/1000 /content/data/validation/images/8748.jpg: 640x640 2 5s, 1 6, 1 9, 8.3ms\n",
            "image 857/1000 /content/data/validation/images/8749.jpg: 640x640 2 2s, 1 6, 1 9, 8.2ms\n",
            "image 858/1000 /content/data/validation/images/8750.jpg: 640x640 1 5, 1 7, 1 9, 12.5ms\n",
            "image 859/1000 /content/data/validation/images/8766.jpg: 640x640 1 0, 1 5, 1 8, 10.9ms\n",
            "image 860/1000 /content/data/validation/images/877.jpg: 640x640 1 4, 1 6, 1 9, 8.2ms\n",
            "image 861/1000 /content/data/validation/images/8773.jpg: 640x640 1 0, 2 2s, 1 3, 8.9ms\n",
            "image 862/1000 /content/data/validation/images/8775.jpg: 640x640 1 1, 1 4, 1 5, 8.1ms\n",
            "image 863/1000 /content/data/validation/images/8786.jpg: 640x640 1 1, 1 3, 1 7, 1 8, 8.0ms\n",
            "image 864/1000 /content/data/validation/images/879.jpg: 640x640 1 1, 1 5, 8.3ms\n",
            "image 865/1000 /content/data/validation/images/8793.jpg: 640x640 2 2s, 1 8, 8.3ms\n",
            "image 866/1000 /content/data/validation/images/8818.jpg: 640x640 1 1, 2 3s, 1 9, 8.1ms\n",
            "image 867/1000 /content/data/validation/images/8823.jpg: 640x640 2 1s, 1 6, 8.1ms\n",
            "image 868/1000 /content/data/validation/images/8826.jpg: 640x640 2 0s, 1 2, 1 6, 8.4ms\n",
            "image 869/1000 /content/data/validation/images/8834.jpg: 640x640 1 2, 1 6, 1 7, 1 8, 8.5ms\n",
            "image 870/1000 /content/data/validation/images/8835.jpg: 640x640 1 5, 1 7, 1 8, 8.0ms\n",
            "image 871/1000 /content/data/validation/images/8846.jpg: 640x640 1 0, 1 1, 1 6, 1 7, 10.7ms\n",
            "image 872/1000 /content/data/validation/images/885.jpg: 640x640 2 1s, 1 8, 7.9ms\n",
            "image 873/1000 /content/data/validation/images/8850.jpg: 640x640 1 6, 1 8, 1 9, 8.0ms\n",
            "image 874/1000 /content/data/validation/images/8851.jpg: 640x640 1 0, 1 3, 1 9, 8.0ms\n",
            "image 875/1000 /content/data/validation/images/8855.jpg: 640x640 2 0s, 1 8, 8.1ms\n",
            "image 876/1000 /content/data/validation/images/8856.jpg: 640x640 1 5, 1 6, 1 8, 7.9ms\n",
            "image 877/1000 /content/data/validation/images/8858.jpg: 640x640 1 2, 1 8, 1 9, 8.3ms\n",
            "image 878/1000 /content/data/validation/images/8862.jpg: 640x640 1 2, 1 6, 1 8, 1 9, 9.4ms\n",
            "image 879/1000 /content/data/validation/images/8881.jpg: 640x640 2 2s, 1 3, 1 6, 8.0ms\n",
            "image 880/1000 /content/data/validation/images/8884.jpg: 640x640 1 3, 1 5, 1 7, 8.4ms\n",
            "image 881/1000 /content/data/validation/images/889.jpg: 640x640 2 0s, 1 6, 1 9, 8.3ms\n",
            "image 882/1000 /content/data/validation/images/8904.jpg: 640x640 1 1, 3 2s, 8.5ms\n",
            "image 883/1000 /content/data/validation/images/8911.jpg: 640x640 1 1, 2 4s, 1 6, 9.4ms\n",
            "image 884/1000 /content/data/validation/images/8922.jpg: 640x640 2 2s, 1 8, 1 9, 8.2ms\n",
            "image 885/1000 /content/data/validation/images/8926.jpg: 640x640 1 0, 1 5, 1 8, 1 9, 8.1ms\n",
            "image 886/1000 /content/data/validation/images/8927.jpg: 640x640 1 0, 2 2s, 2 5s, 1 8, 8.1ms\n",
            "image 887/1000 /content/data/validation/images/8934.jpg: 640x640 1 1, 1 3, 8.1ms\n",
            "image 888/1000 /content/data/validation/images/8939.jpg: 640x640 1 1, 1 2, 1 3, 1 8, 8.1ms\n",
            "image 889/1000 /content/data/validation/images/8965.jpg: 640x640 1 4, 1 6, 2 7s, 8.0ms\n",
            "image 890/1000 /content/data/validation/images/8969.jpg: 640x640 1 0, 1 3, 1 9, 8.1ms\n",
            "image 891/1000 /content/data/validation/images/8971.jpg: 640x640 1 2, 1 3, 1 9, 18.6ms\n",
            "image 892/1000 /content/data/validation/images/8991.jpg: 640x640 1 1, 1 7, 1 9, 9.2ms\n",
            "image 893/1000 /content/data/validation/images/8995.jpg: 640x640 1 1, 1 2, 1 4, 1 5, 1 6, 8.0ms\n",
            "image 894/1000 /content/data/validation/images/9004.jpg: 640x640 1 1, 1 3, 1 6, 8.1ms\n",
            "image 895/1000 /content/data/validation/images/9018.jpg: 640x640 2 0s, 1 1, 8.1ms\n",
            "image 896/1000 /content/data/validation/images/9019.jpg: 640x640 1 2, 1 4, 1 8, 8.4ms\n",
            "image 897/1000 /content/data/validation/images/9024.jpg: 640x640 1 3, 1 5, 1 6, 8.1ms\n",
            "image 898/1000 /content/data/validation/images/9043.jpg: 640x640 1 1, 2 5s, 1 7, 7.9ms\n",
            "image 899/1000 /content/data/validation/images/9052.jpg: 640x640 1 0, 1 4, 1 7, 8.3ms\n",
            "image 900/1000 /content/data/validation/images/9080.jpg: 640x640 1 3, 1 6, 1 9, 8.3ms\n",
            "image 901/1000 /content/data/validation/images/9105.jpg: 640x640 1 1, 1 2, 1 5, 8.0ms\n",
            "image 902/1000 /content/data/validation/images/9109.jpg: 640x640 1 0, 1 4, 1 8, 8.4ms\n",
            "image 903/1000 /content/data/validation/images/9124.jpg: 640x640 2 0s, 1 5, 9.0ms\n",
            "image 904/1000 /content/data/validation/images/9140.jpg: 640x640 1 0, 1 3, 8.0ms\n",
            "image 905/1000 /content/data/validation/images/9143.jpg: 640x640 1 4, 1 6, 1 7, 8.0ms\n",
            "image 906/1000 /content/data/validation/images/9150.jpg: 640x640 1 3, 1 4, 1 9, 8.1ms\n",
            "image 907/1000 /content/data/validation/images/9153.jpg: 640x640 1 1, 1 3, 1 8, 1 9, 8.3ms\n",
            "image 908/1000 /content/data/validation/images/9169.jpg: 640x640 1 1, 1 2, 1 5, 1 7, 8.2ms\n",
            "image 909/1000 /content/data/validation/images/9173.jpg: 640x640 1 1, 1 2, 1 8, 8.0ms\n",
            "image 910/1000 /content/data/validation/images/9176.jpg: 640x640 1 0, 1 1, 1 7, 1 9, 8.2ms\n",
            "image 911/1000 /content/data/validation/images/9179.jpg: 640x640 1 2, 1 3, 11.1ms\n",
            "image 912/1000 /content/data/validation/images/9187.jpg: 640x640 1 5, 1 6, 1 9, 9.1ms\n",
            "image 913/1000 /content/data/validation/images/92.jpg: 640x640 1 1, 1 3, 1 4, 8.3ms\n",
            "image 914/1000 /content/data/validation/images/9204.jpg: 640x640 1 0, 1 1, 1 2, 1 8, 8.1ms\n",
            "image 915/1000 /content/data/validation/images/9208.jpg: 640x640 2 1s, 1 5, 1 8, 8.0ms\n",
            "image 916/1000 /content/data/validation/images/9218.jpg: 640x640 1 2, 8.2ms\n",
            "image 917/1000 /content/data/validation/images/9266.jpg: 640x640 1 2, 1 3, 1 5, 1 8, 12.9ms\n",
            "image 918/1000 /content/data/validation/images/9271.jpg: 640x640 1 2, 1 6, 8.0ms\n",
            "image 919/1000 /content/data/validation/images/9276.jpg: 640x640 1 1, 1 2, 2 7s, 8.0ms\n",
            "image 920/1000 /content/data/validation/images/9279.jpg: 640x640 1 1, 1 3, 1 8, 8.1ms\n",
            "image 921/1000 /content/data/validation/images/9281.jpg: 640x640 2 0s, 1 6, 1 8, 8.3ms\n",
            "image 922/1000 /content/data/validation/images/9288.jpg: 640x640 1 1, 1 2, 1 4, 8.4ms\n",
            "image 923/1000 /content/data/validation/images/9306.jpg: 640x640 1 8, 1 9, 8.3ms\n",
            "image 924/1000 /content/data/validation/images/9333.jpg: 640x640 2 2s, 1 4, 1 9, 8.2ms\n",
            "image 925/1000 /content/data/validation/images/9336.jpg: 640x640 1 4, 1 5, 1 9, 8.3ms\n",
            "image 926/1000 /content/data/validation/images/9338.jpg: 640x640 1 4, 1 6, 1 9, 7.9ms\n",
            "image 927/1000 /content/data/validation/images/9340.jpg: 640x640 1 2, 1 5, 1 6, 2 8s, 7.9ms\n",
            "image 928/1000 /content/data/validation/images/9362.jpg: 640x640 1 2, 2 4s, 1 7, 8.2ms\n",
            "image 929/1000 /content/data/validation/images/9374.jpg: 640x640 1 2, 1 6, 1 8, 8.3ms\n",
            "image 930/1000 /content/data/validation/images/9385.jpg: 640x640 2 4s, 2 5s, 8.4ms\n",
            "image 931/1000 /content/data/validation/images/939.jpg: 640x640 2 5s, 1 6, 8.1ms\n",
            "image 932/1000 /content/data/validation/images/9397.jpg: 640x640 1 1, 1 3, 1 5, 8.3ms\n",
            "image 933/1000 /content/data/validation/images/9399.jpg: 640x640 1 1, 2 7s, 8.1ms\n",
            "image 934/1000 /content/data/validation/images/9401.jpg: 640x640 1 0, 1 3, 1 5, 8.3ms\n",
            "image 935/1000 /content/data/validation/images/9405.jpg: 640x640 1 0, 1 4, 1 6, 1 7, 8.4ms\n",
            "image 936/1000 /content/data/validation/images/9408.jpg: 640x640 1 1, 1 7, 1 8, 1 9, 8.0ms\n",
            "image 937/1000 /content/data/validation/images/9409.jpg: 640x640 1 5, 1 6, 8.6ms\n",
            "image 938/1000 /content/data/validation/images/9413.jpg: 640x640 1 1, 1 3, 1 9, 7.9ms\n",
            "image 939/1000 /content/data/validation/images/9420.jpg: 640x640 1 1, 1 3, 1 5, 1 9, 8.1ms\n",
            "image 940/1000 /content/data/validation/images/9425.jpg: 640x640 1 2, 1 4, 2 9s, 8.0ms\n",
            "image 941/1000 /content/data/validation/images/9438.jpg: 640x640 1 6, 1 8, 1 9, 8.5ms\n",
            "image 942/1000 /content/data/validation/images/9442.jpg: 640x640 1 4, 1 5, 1 7, 1 9, 8.1ms\n",
            "image 943/1000 /content/data/validation/images/9443.jpg: 640x640 1 1, 1 3, 1 9, 11.9ms\n",
            "image 944/1000 /content/data/validation/images/9444.jpg: 640x640 2 5s, 1 7, 1 8, 8.5ms\n",
            "image 945/1000 /content/data/validation/images/9449.jpg: 640x640 1 1, 2 2s, 8.1ms\n",
            "image 946/1000 /content/data/validation/images/946.jpg: 640x640 1 2, 1 6, 8.3ms\n",
            "image 947/1000 /content/data/validation/images/9467.jpg: 640x640 2 3s, 1 7, 8.0ms\n",
            "image 948/1000 /content/data/validation/images/9474.jpg: 640x640 2 1s, 1 2, 1 8, 9.5ms\n",
            "image 949/1000 /content/data/validation/images/9477.jpg: 640x640 1 0, 1 2, 1 3, 1 5, 8.0ms\n",
            "image 950/1000 /content/data/validation/images/948.jpg: 640x640 1 3, 1 5, 1 7, 1 8, 8.4ms\n",
            "image 951/1000 /content/data/validation/images/9489.jpg: 640x640 1 2, 1 4, 1 5, 8.0ms\n",
            "image 952/1000 /content/data/validation/images/9500.jpg: 640x640 1 5, 1 6, 1 8, 7.9ms\n",
            "image 953/1000 /content/data/validation/images/9501.jpg: 640x640 1 4, 1 5, 1 8, 8.1ms\n",
            "image 954/1000 /content/data/validation/images/9534.jpg: 640x640 1 6, 2 8s, 1 9, 8.2ms\n",
            "image 955/1000 /content/data/validation/images/9539.jpg: 640x640 1 0, 1 3, 2 5s, 8.0ms\n",
            "image 956/1000 /content/data/validation/images/9541.jpg: 640x640 1 3, 1 4, 2 8s, 8.3ms\n",
            "image 957/1000 /content/data/validation/images/9545.jpg: 640x640 1 1, 1 2, 1 7, 8.2ms\n",
            "image 958/1000 /content/data/validation/images/9565.jpg: 640x640 1 4, 1 5, 1 9, 15.2ms\n",
            "image 959/1000 /content/data/validation/images/9568.jpg: 640x640 1 0, 1 5, 1 8, 8.3ms\n",
            "image 960/1000 /content/data/validation/images/9577.jpg: 640x640 1 2, 1 3, 2 6s, 8.0ms\n",
            "image 961/1000 /content/data/validation/images/9581.jpg: 640x640 1 3, 1 5, 2 7s, 10.1ms\n",
            "image 962/1000 /content/data/validation/images/9598.jpg: 640x640 1 6, 1 7, 1 9, 10.5ms\n",
            "image 963/1000 /content/data/validation/images/9618.jpg: 640x640 2 1s, 1 4, 1 6, 8.2ms\n",
            "image 964/1000 /content/data/validation/images/9620.jpg: 640x640 1 2, 1 3, 8.2ms\n",
            "image 965/1000 /content/data/validation/images/9628.jpg: 640x640 2 1s, 1 5, 1 6, 8.5ms\n",
            "image 966/1000 /content/data/validation/images/963.jpg: 640x640 1 2, 1 4, 1 8, 8.0ms\n",
            "image 967/1000 /content/data/validation/images/9630.jpg: 640x640 1 1, 1 9, 8.1ms\n",
            "image 968/1000 /content/data/validation/images/9645.jpg: 640x640 1 2, 1 4, 1 6, 1 9, 8.7ms\n",
            "image 969/1000 /content/data/validation/images/9646.jpg: 640x640 1 3, 1 4, 1 5, 1 8, 8.0ms\n",
            "image 970/1000 /content/data/validation/images/9650.jpg: 640x640 1 0, 1 7, 1 8, 8.4ms\n",
            "image 971/1000 /content/data/validation/images/9651.jpg: 640x640 1 4, 1 5, 2 8s, 8.1ms\n",
            "image 972/1000 /content/data/validation/images/9658.jpg: 640x640 1 1, 2 2s, 3 6s, 8.2ms\n",
            "image 973/1000 /content/data/validation/images/9668.jpg: 640x640 1 2, 1 5, 1 7, 1 9, 8.5ms\n",
            "image 974/1000 /content/data/validation/images/9681.jpg: 640x640 1 5, 1 6, 1 7, 1 8, 8.5ms\n",
            "image 975/1000 /content/data/validation/images/9682.jpg: 640x640 1 2, 1 3, 1 4, 10.7ms\n",
            "image 976/1000 /content/data/validation/images/9691.jpg: 640x640 2 0s, 1 2, 1 3, 1 4, 8.4ms\n",
            "image 977/1000 /content/data/validation/images/9707.jpg: 640x640 1 0, 1 2, 1 3, 1 4, 8.2ms\n",
            "image 978/1000 /content/data/validation/images/9711.jpg: 640x640 1 7, 1 9, 8.2ms\n",
            "image 979/1000 /content/data/validation/images/9719.jpg: 640x640 1 4, 2 6s, 1 7, 8.1ms\n",
            "image 980/1000 /content/data/validation/images/9738.jpg: 640x640 1 2, 1 4, 1 5, 8.0ms\n",
            "image 981/1000 /content/data/validation/images/9742.jpg: 640x640 1 0, 1 1, 1 7, 1 9, 8.6ms\n",
            "image 982/1000 /content/data/validation/images/9759.jpg: 640x640 1 2, 1 3, 1 5, 1 9, 8.3ms\n",
            "image 983/1000 /content/data/validation/images/9773.jpg: 640x640 1 0, 1 4, 8.7ms\n",
            "image 984/1000 /content/data/validation/images/9774.jpg: 640x640 2 3s, 2 7s, 8.1ms\n",
            "image 985/1000 /content/data/validation/images/9784.jpg: 640x640 1 0, 1 3, 1 5, 1 6, 1 9, 8.2ms\n",
            "image 986/1000 /content/data/validation/images/9824.jpg: 640x640 1 1, 2 5s, 8.2ms\n",
            "image 987/1000 /content/data/validation/images/9832.jpg: 640x640 1 0, 1 7, 1 8, 1 9, 8.2ms\n",
            "image 988/1000 /content/data/validation/images/9834.jpg: 640x640 1 0, 1 3, 1 4, 8.1ms\n",
            "image 989/1000 /content/data/validation/images/9837.jpg: 640x640 1 0, 1 1, 1 8, 8.3ms\n",
            "image 990/1000 /content/data/validation/images/984.jpg: 640x640 1 0, 1 1, 1 5, 8.2ms\n",
            "image 991/1000 /content/data/validation/images/988.jpg: 640x640 1 1, 2 2s, 1 4, 1 5, 8.0ms\n",
            "image 992/1000 /content/data/validation/images/9886.jpg: 640x640 1 1, 1 7, 1 8, 8.0ms\n",
            "image 993/1000 /content/data/validation/images/9899.jpg: 640x640 1 5, 1 7, 1 8, 8.2ms\n",
            "image 994/1000 /content/data/validation/images/9907.jpg: 640x640 2 1s, 1 3, 1 6, 8.0ms\n",
            "image 995/1000 /content/data/validation/images/991.jpg: 640x640 2 4s, 1 7, 9.7ms\n",
            "image 996/1000 /content/data/validation/images/9914.jpg: 640x640 2 0s, 1 3, 8.2ms\n",
            "image 997/1000 /content/data/validation/images/9959.jpg: 640x640 1 3, 1 6, 1 7, 8.2ms\n",
            "image 998/1000 /content/data/validation/images/9966.jpg: 640x640 1 0, 1 1, 1 5, 8.2ms\n",
            "image 999/1000 /content/data/validation/images/997.jpg: 640x640 1 0, 1 6, 1 9, 8.7ms\n",
            "image 1000/1000 /content/data/validation/images/9993.jpg: 640x640 1 0, 1 4, 1 8, 10.0ms\n",
            "Speed: 1.7ms preprocess, 9.1ms inference, 1.5ms postprocess per image at shape (1, 3, 640, 640)\n",
            "Results saved to \u001b[1mruns/detect/predict\u001b[0m\n",
            "💡 Learn more at https://docs.ultralytics.com/modes/predict\n"
          ]
        }
      ],
      "source": [
        "!yolo detect predict model=runs/detect/train2/weights/best.pt source=data/validation/images save=True"
      ]
    },
    {
      "cell_type": "code",
      "execution_count": 10,
      "metadata": {
        "id": "zEEObQqoiGrs",
        "outputId": "b132dd81-b700-461d-e13c-a0a6126fb1b6",
        "colab": {
          "base_uri": "https://localhost:8080/",
          "height": 1000
        }
      },
      "outputs": [
        {
          "output_type": "display_data",
          "data": {
            "image/jpeg": "[encoded data removed]",
            "text/plain": [
              "<IPython.core.display.Image object>"
            ]
          },
          "metadata": {
            "image/jpeg": {
              "height": 400
            }
          }
        },
        {
          "output_type": "stream",
          "name": "stdout",
          "text": [
            "\n",
            "\n"
          ]
        },
        {
          "output_type": "display_data",
          "data": {
            "image/jpeg": "[encoded data removed]",
            "text/plain": [
              "<IPython.core.display.Image object>"
            ]
          },
          "metadata": {
            "image/jpeg": {
              "height": 400
            }
          }
        },
        {
          "output_type": "stream",
          "name": "stdout",
          "text": [
            "\n",
            "\n"
          ]
        },
        {
          "output_type": "display_data",
          "data": {
            "image/jpeg": "[encoded data removed]",
            "text/plain": [
              "<IPython.core.display.Image object>"
            ]
          },
          "metadata": {
            "image/jpeg": {
              "height": 400
            }
          }
        },
        {
          "output_type": "stream",
          "name": "stdout",
          "text": [
            "\n",
            "\n"
          ]
        },
        {
          "output_type": "display_data",
          "data": {
            "image/jpeg": "[encoded data removed]",
            "text/plain": [
              "<IPython.core.display.Image object>"
            ]
          },
          "metadata": {
            "image/jpeg": {
              "height": 400
            }
          }
        },
        {
          "output_type": "stream",
          "name": "stdout",
          "text": [
            "\n",
            "\n"
          ]
        },
        {
          "output_type": "display_data",
          "data": {
            "image/jpeg": "[encoded data removed]",
            "text/plain": [
              "<IPython.core.display.Image object>"
            ]
          },
          "metadata": {
            "image/jpeg": {
              "height": 400
            }
          }
        },
        {
          "output_type": "stream",
          "name": "stdout",
          "text": [
            "\n",
            "\n"
          ]
        },
        {
          "output_type": "display_data",
          "data": {
            "image/jpeg": "[encoded data removed]",
            "text/plain": [
              "<IPython.core.display.Image object>"
            ]
          },
          "metadata": {
            "image/jpeg": {
              "height": 400
            }
          }
        },
        {
          "output_type": "stream",
          "name": "stdout",
          "text": [
            "\n",
            "\n"
          ]
        },
        {
          "output_type": "display_data",
          "data": {
            "image/jpeg": "[encoded data removed]",
            "text/plain": [
              "<IPython.core.display.Image object>"
            ]
          },
          "metadata": {
            "image/jpeg": {
              "height": 400
            }
          }
        },
        {
          "output_type": "stream",
          "name": "stdout",
          "text": [
            "\n",
            "\n"
          ]
        },
        {
          "output_type": "display_data",
          "data": {
            "image/jpeg": "[encoded data removed]",
            "text/plain": [
              "<IPython.core.display.Image object>"
            ]
          },
          "metadata": {
            "image/jpeg": {
              "height": 400
            }
          }
        },
        {
          "output_type": "stream",
          "name": "stdout",
          "text": [
            "\n",
            "\n"
          ]
        },
        {
          "output_type": "display_data",
          "data": {
            "image/jpeg": "[encoded data removed]",
            "text/plain": [
              "<IPython.core.display.Image object>"
            ]
          },
          "metadata": {
            "image/jpeg": {
              "height": 400
            }
          }
        },
        {
          "output_type": "stream",
          "name": "stdout",
          "text": [
            "\n",
            "\n"
          ]
        },
        {
          "output_type": "display_data",
          "data": {
            "image/jpeg": "[encoded data removed]",
            "text/plain": [
              "<IPython.core.display.Image object>"
            ]
          },
          "metadata": {
            "image/jpeg": {
              "height": 400
            }
          }
        },
        {
          "output_type": "stream",
          "name": "stdout",
          "text": [
            "\n",
            "\n"
          ]
        }
      ],
      "source": [
        "import glob\n",
        "from IPython.display import Image, display\n",
        "for image_path in glob.glob(f'/content/runs/detect/predict/*.jpg')[:10]:\n",
        "  display(Image(filename=image_path, height=400))\n",
        "  print('\\n')\n"
      ]
    },
    {
      "cell_type": "markdown",
      "source": [
        "The model should draw a box around each object of interest in each image. If it isn't doing a good job of detecting objects, here are a few tips:\n",
        "\n",
        "1. Double-check your dataset to make sure there are no labeling errors or conflicting examples.\n",
        "2. Increase the number of epochs used for training.\n",
        "3. Use a larger model size (e.g. `yolo11l.pt`).\n",
        "4. Add more images to the training dataset. See my [dataset video](https://www.youtube.com/watch?v=v0ssiOY6cfg) for tips on how to capture good training images and improve accuracy.\n",
        "\n",
        "You can also run the model on video files or other images images by uploading them to this notebook and using the above `!yolo detect predict` command, where `source` points to the location of the video file, image, or folder of images. The results will be saved in `runs/detect/predict`.\n",
        "\n",
        "Drawing boxes on images is great, but it isn't very useful in itself. It's also not very helpful to just run this models inside a Colab notebook: it's easier if we can just run it on a local computer. Continue to the next section to see how to download your newly trained model and run it on a local device."
      ],
      "metadata": {
        "id": "EGiQw_gWbSBa"
      }
    },
    {
      "cell_type": "markdown",
      "metadata": {
        "id": "W7yrFRViVczX"
      },
      "source": [
        "#7.&nbsp;Deploy Model"
      ]
    },
    {
      "cell_type": "markdown",
      "source": [
        "Now that your custom model has been trained, it's ready to be downloaded and deployed in an application! YOLO models can run on a wide variety of hardware, including PCs, embedded systems, and phones. Ultralytics makes it easy to convert the YOLO models to various formats (`tflite`, `onnx`, etc.) and deploy them in a variety of environments.\n",
        "\n",
        "This section shows how to download the model and provides links to instructions for deploying it on your PC and edge devices like the Raspberry Pi."
      ],
      "metadata": {
        "id": "FEtybPmB_ERi"
      }
    },
    {
      "cell_type": "markdown",
      "source": [
        "## 7.1 Download YOLO Model\n",
        "\n",
        "First, zip and download the trained model by running the code blocks below.\n",
        "\n",
        "The code creates a folder named `my_model`, moves the model weights into it, and renames them from `best.pt` to `my_model.pt`. It also adds the training results in case you want to reference them later. It then zips the folder as `my_model.zip`."
      ],
      "metadata": {
        "id": "IcoBAeHXa86W"
      }
    },
    {
      "cell_type": "code",
      "source": [
        "# Create \"my_model\" folder to store model weights and train results\n",
        "!mkdir /content/my_model\n",
        "!cp /content/runs/detect/train/weights/best.pt /content/my_model/my_model.pt\n",
        "!cp -r /content/runs/detect/train /content/my_model\n",
        "\n",
        "# Zip into \"my_model.zip\"\n",
        "%cd my_model\n",
        "!zip /content/my_model.zip my_model.pt\n",
        "!zip -r /content/my_model.zip train\n",
        "%cd /content"
      ],
      "metadata": {
        "id": "qcBdnOA9v85S",
        "outputId": "dff5a792-7273-4224-86b0-7dede14c8ba2",
        "colab": {
          "base_uri": "https://localhost:8080/"
        }
      },
      "execution_count": 11,
      "outputs": [
        {
          "output_type": "stream",
          "name": "stdout",
          "text": [
            "cp: cannot stat '/content/runs/detect/train/weights/best.pt': No such file or directory\n",
            "/content/my_model\n",
            "\tzip warning: name not matched: my_model.pt\n",
            "\n",
            "zip error: Nothing to do! (/content/my_model.zip)\n",
            "  adding: train/ (stored 0%)\n",
            "  adding: train/train_batch1.jpg (deflated 43%)\n",
            "  adding: train/weights/ (stored 0%)\n",
            "  adding: train/labels.jpg (deflated 32%)\n",
            "  adding: train/labels_correlogram.jpg (deflated 36%)\n",
            "  adding: train/train_batch2.jpg (deflated 45%)\n",
            "  adding: train/args.yaml (deflated 53%)\n",
            "  adding: train/train_batch0.jpg (deflated 43%)\n",
            "/content\n"
          ]
        }
      ]
    },
    {
      "cell_type": "code",
      "execution_count": 12,
      "metadata": {
        "id": "43ypwonynLVu",
        "outputId": "256893c5-f7a2-484a-aa73-1eb7d325f4b5",
        "colab": {
          "base_uri": "https://localhost:8080/",
          "height": 17
        }
      },
      "outputs": [
        {
          "output_type": "display_data",
          "data": {
            "text/plain": [
              "<IPython.core.display.Javascript object>"
            ],
            "application/javascript": [
              "\n",
              "    async function download(id, filename, size) {\n",
              "      if (!google.colab.kernel.accessAllowed) {\n",
              "        return;\n",
              "      }\n",
              "      const div = document.createElement('div');\n",
              "      const label = document.createElement('label');\n",
              "      label.textContent = `Downloading \"${filename}\": `;\n",
              "      div.appendChild(label);\n",
              "      const progress = document.createElement('progress');\n",
              "      progress.max = size;\n",
              "      div.appendChild(progress);\n",
              "      document.body.appendChild(div);\n",
              "\n",
              "      const buffers = [];\n",
              "      let downloaded = 0;\n",
              "\n",
              "      const channel = await google.colab.kernel.comms.open(id);\n",
              "      // Send a message to notify the kernel that we're ready.\n",
              "      channel.send({})\n",
              "\n",
              "      for await (const message of channel.messages) {\n",
              "        // Send a message to notify the kernel that we're ready.\n",
              "        channel.send({})\n",
              "        if (message.buffers) {\n",
              "          for (const buffer of message.buffers) {\n",
              "            buffers.push(buffer);\n",
              "            downloaded += buffer.byteLength;\n",
              "            progress.value = downloaded;\n",
              "          }\n",
              "        }\n",
              "      }\n",
              "      const blob = new Blob(buffers, {type: 'application/binary'});\n",
              "      const a = document.createElement('a');\n",
              "      a.href = window.URL.createObjectURL(blob);\n",
              "      a.download = filename;\n",
              "      div.appendChild(a);\n",
              "      a.click();\n",
              "      div.remove();\n",
              "    }\n",
              "  "
            ]
          },
          "metadata": {}
        },
        {
          "output_type": "display_data",
          "data": {
            "text/plain": [
              "<IPython.core.display.Javascript object>"
            ],
            "application/javascript": [
              "download(\"download_1edb825b-dbed-4b5b-a87e-52b136e85321\", \"my_model.zip\", 674977)"
            ]
          },
          "metadata": {}
        }
      ],
      "source": [
        "# This takes forever for some reason, you can also just download the model from the sidebar\n",
        "from google.colab import files\n",
        "\n",
        "files.download('/content/my_model.zip')"
      ]
    },
    {
      "cell_type": "markdown",
      "source": [
        "## 7.2 Deploy YOLO Model on Local Devices\n",
        "\n",
        "Next, we'll take our downloaded model and run it on a local device. This section provides instructions showing how to deploy YOLO models on various devices.\n",
        "\n",
        "I wrote a basic Python script, `yolo_detect.py`, that shows how to load a model, run inference on an image source, parse the inference results, and display boxes around each detected class in the image. The [script](https://github.com/EdjeElectronics/Train-and-Deploy-YOLO-Models/blob/main/yolo_detect.py) gives an example of how to work with Ultralytics YOLO models in Python, and it can be used as a starting point for more advanced applications."
      ],
      "metadata": {
        "id": "YL06c6pb_UqZ"
      }
    },
    {
      "cell_type": "markdown",
      "source": [
        "### 7.2.1 Deploy on PC (Windows, Linux, or macOS)\n",
        "\n",
        "The easiest way to run Ultralytics models on a PC is using Anaconda. Anaconda sets up a virtual Python environment and allows you to easily install Ultralytics and PyTorch. It automatically installs CUDA and cuDNN, which allows you to speed up model inference with your NVIDIA GPU.\n",
        "\n",
        "> **NOTE:** My YouTube video (link to be added) shows how to deploy your model on a PC. It walks through the following steps, so watch the video if you prefer having visual instructions.\n",
        "\n",
        "**1. Download and Install Anaconda**\n",
        "\n",
        "Go to the Anaconda download page at https://anaconda.com/download, click the “skip registration” button, and then download the package for your OS. When it's finished downloading, run the installer and click through the installation steps. You can use the default options for installation.\n",
        "\n",
        "**2. Set up virtual environment**\n",
        "\n",
        "Once it's installed, run Anaconda Prompt from the Start Bar. (If you're on macOS or Linux, just open a command terminal).\n",
        "\n",
        "Issue the following commands to create a new Python environment and activate it:\n",
        "\n",
        "```\n",
        "conda create --name yolo-env1 python=3.12 -y\n",
        "conda activate yolo-env1\n",
        "```\n",
        "\n",
        "Install Ultralytics (which also installs import libraries like OpenCV-Python, Numpy, and PyTorch) by issuing the following command:\n",
        "\n",
        "```\n",
        "pip install ultralytics\n",
        "```\n",
        "\n",
        "If you have an NVIDIA GPU, you can install the GPU-enabled version of PyTorch by issuing the following command:\n",
        "\n",
        "```\n",
        "pip install --upgrade torch torchvision torchaudio --index-url https://download.pytorch.org/whl/cu124\n",
        "```\n",
        "\n",
        "**3. Extract downloaded model**\n",
        "Take the `my_model.zip` file you downloaded in Step 7.1 and unzip it to a folder on your PC. In the Anaconda Prompt terminal, move into the unzipped folder using:\n",
        "\n",
        "```\n",
        "cd path/to/folder\n",
        "```\n",
        "\n",
        "**4. Download and run yolo_detect.py**\n",
        "\n",
        "Download the `yolo_detect.py` script into the `my_model` folder using:\n",
        "\n",
        "```\n",
        "curl -o yolo_detect.py https://raw.githubusercontent.com/EdjeElectronics/Train-and-Deploy-YOLO-Models/refs/heads/main/yolo_detect.py\n",
        "```\n",
        "\n",
        "Alright! We're ready to run the script. To run inference with a yolov8s model on a USB camera at 1280x720 resolution, issue:\n",
        "\n",
        "```\n",
        "python yolo_detect.py --model my_model.pt --source usb0 --resolution 1280x720\n",
        "```\n",
        "\n",
        "A window will appear showing a live feed from your webcam with boxes drawn around detected objects in each frame.\n",
        "\n",
        "You can also run the model on an video file, image, or folder of images. To see a full list of arguments for `yolo_detect.py`, issue `python yolo_detect.py --help` or see the [README file](https://github.com/EdjeElectronics/Train-and-Deploy-YOLO-Models/blob/main/README.md).\n",
        "\n",
        "\n"
      ],
      "metadata": {
        "id": "gzaJQ2sGEPhP"
      }
    },
    {
      "cell_type": "markdown",
      "source": [
        "### 7.2.2 Deploy on Raspberry Pi\n",
        "\n",
        "Keep an eye out for an article showing how to convert YOLO models to NCNN format and run them on the Raspberry Pi!"
      ],
      "metadata": {
        "id": "GelkpRLPEYmJ"
      }
    },
    {
      "cell_type": "markdown",
      "source": [
        "# 8.&nbsp;Conclusion"
      ],
      "metadata": {
        "id": "y8fOJ4g8Q5x0"
      }
    },
    {
      "cell_type": "markdown",
      "source": [
        "Congratulations! You've successfully trained and deployed a YOLO object detection model. 😀\n",
        "\n",
        "Next, you can extend your application beyond just drawing boxes and counting objects. Add functionality like logging the number of objects detected over time or taking a picture when certain objects are detected. Check out some example applications at our GitHub repository: https://github.com/EdjeElectronics/Train-and-Deploy-YOLO-Models\n",
        "\n",
        "Thanks for working through this notebook, and good luck with your projects!"
      ],
      "metadata": {
        "id": "DEZGuG1-Peg5"
      }
    },
    {
      "cell_type": "markdown",
      "source": [
        "# Appendix: Common Errors"
      ],
      "metadata": {
        "id": "fXeDs6SaQBRy"
      }
    },
    {
      "cell_type": "markdown",
      "source": [
        "If you run into any errors working through this notebook, please do the following:\n",
        "\n",
        "\n",
        "- Double-check that the dataset files are set up in the correct folder structure\n",
        "- Make sure there are no typos or errors in your labelmap file\n",
        "- Google search the error to look for solutions\n",
        "\n",
        "If none of those help, please submit an [Issue](https://github.com/EdjeElectronics/Train-and-Deploy-YOLO-Models/issues) on the GitHub page. In this section, I will add resolutions to common errors as they come up."
      ],
      "metadata": {
        "id": "Q19ENCHRQOCH"
      }
    }
  ],
  "metadata": {
    "accelerator": "GPU",
    "colab": {
      "gpuType": "T4",
      "provenance": [],
      "include_colab_link": true
    },
    "kernelspec": {
      "display_name": "Python 3",
      "name": "python3"
    },
    "language_info": {
      "name": "python"
    }
  },
  "nbformat": 4,
  "nbformat_minor": 0
}