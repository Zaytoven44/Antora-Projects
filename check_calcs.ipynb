{
 "cells": [
  {
   "cell_type": "code",
   "id": "initial_id",
   "metadata": {
    "collapsed": true,
    "ExecuteTime": {
     "end_time": "2025-07-30T21:49:50.467313Z",
     "start_time": "2025-07-30T21:49:50.450507Z"
    }
   },
   "source": [
    "std_err = ((32.5**2/10)+(40.5**2/10))**0.5\n",
    "print(std_err)"
   ],
   "outputs": [
    {
     "name": "stdout",
     "output_type": "stream",
     "text": [
      "16.42102311063473\n"
     ]
    }
   ],
   "execution_count": 12
  },
  {
   "metadata": {
    "ExecuteTime": {
     "end_time": "2025-07-30T21:49:52.359722Z",
     "start_time": "2025-07-30T21:49:52.344389Z"
    }
   },
   "cell_type": "code",
   "source": [
    "conf_95 = std_err * 1.96\n",
    "print(conf_95)"
   ],
   "id": "664603043da04e3e",
   "outputs": [
    {
     "name": "stdout",
     "output_type": "stream",
     "text": [
      "32.185205296844074\n"
     ]
    }
   ],
   "execution_count": 13
  },
  {
   "metadata": {
    "ExecuteTime": {
     "end_time": "2025-07-30T21:49:53.814001Z",
     "start_time": "2025-07-30T21:49:53.797994Z"
    }
   },
   "cell_type": "code",
   "source": [
    "from scipy.stats import norm\n",
    "\n",
    "def calculate_p_value(observed_value, hypothesized_mean, std_error, tail='two-sided'):\n",
    "    \"\"\"\n",
    "    Calculates the p-value for a Z-test given observed value, hypothesized mean, and standard error.\n",
    "\n",
    "    Parameters:\n",
    "        observed_value (float): Observed sample mean or test statistic.\n",
    "        hypothesized_mean (float): Expected population mean under H0.\n",
    "        std_error (float): Standard error of the sample statistic.\n",
    "        tail (str): 'two-sided', 'left', or 'right'\n",
    "\n",
    "    Returns:\n",
    "        p_value (float): Calculated p-value.\n",
    "    \"\"\"\n",
    "    if std_error <= 0:\n",
    "        raise ValueError(\"Standard error must be positive.\")\n",
    "\n",
    "    z = (observed_value - hypothesized_mean) / std_error\n",
    "\n",
    "    if tail == 'two-sided':\n",
    "        p_value = 1.96 * norm.sf(abs(z))\n",
    "    elif tail == 'left':\n",
    "        p_value = norm.cdf(z)\n",
    "    elif tail == 'right':\n",
    "        p_value = norm.sf(z)\n",
    "    else:\n",
    "        raise ValueError(\"tail must be 'two-sided', 'left', or 'right'\")\n",
    "\n",
    "    return p_value\n",
    "\n",
    "# Example usage\n",
    "observed = 41\n",
    "expected = 0\n",
    "\n",
    "tail = 'two-sided'\n",
    "\n",
    "p_val = calculate_p_value(observed, expected, std_err, tail)\n",
    "print(f\"P-value: {p_val:.4f}\")\n"
   ],
   "id": "a75bd16b4b0603d5",
   "outputs": [
    {
     "name": "stdout",
     "output_type": "stream",
     "text": [
      "P-value: 0.0123\n"
     ]
    }
   ],
   "execution_count": 14
  },
  {
   "metadata": {},
   "cell_type": "code",
   "outputs": [],
   "execution_count": null,
   "source": "",
   "id": "cdbfca3681b8d6d3"
  }
 ],
 "metadata": {
  "kernelspec": {
   "display_name": "Python 3",
   "language": "python",
   "name": "python3"
  },
  "language_info": {
   "codemirror_mode": {
    "name": "ipython",
    "version": 2
   },
   "file_extension": ".py",
   "mimetype": "text/x-python",
   "name": "python",
   "nbconvert_exporter": "python",
   "pygments_lexer": "ipython2",
   "version": "2.7.6"
  }
 },
 "nbformat": 4,
 "nbformat_minor": 5
}
